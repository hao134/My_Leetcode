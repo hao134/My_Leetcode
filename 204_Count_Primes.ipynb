{
  "nbformat": 4,
  "nbformat_minor": 0,
  "metadata": {
    "colab": {
      "name": "204. Count Primes",
      "provenance": []
    },
    "kernelspec": {
      "name": "python3",
      "display_name": "Python 3"
    }
  },
  "cells": [
    {
      "cell_type": "markdown",
      "metadata": {
        "id": "H6Yx-jXXqzsM"
      },
      "source": [
        "Count the number of prime numbers less than a non-negative number, n.\n",
        "\n",
        "![](https://i.imgur.com/aaGuyxl.png)\n",
        "\n"
      ]
    },
    {
      "cell_type": "code",
      "metadata": {
        "id": "Guaec3uFrSAk"
      },
      "source": [
        "class Solution:\n",
        "    def countPrimes(self, n: int) -> int:\n",
        "      if n < 3: return 0\n",
        "      prime = [True] * n\n",
        "      prime[0] = prime[1] = 0\n",
        "      for i in range(2, int(n ** 0.5) + 1):\n",
        "        if prime[i]:\n",
        "          prime[i * i: n: i] = [False] * len(prime[i * i: n: i])\n",
        "      return sum(prime)"
      ],
      "execution_count": 13,
      "outputs": []
    },
    {
      "cell_type": "code",
      "metadata": {
        "id": "yjczzJJWAROE",
        "outputId": "72a14daf-6a05-4c5a-fe1d-acb02aa7fd60",
        "colab": {
          "base_uri": "https://localhost:8080/"
        }
      },
      "source": [
        "n = 10 \n",
        "Solution().countPrimes(n)"
      ],
      "execution_count": 14,
      "outputs": [
        {
          "output_type": "execute_result",
          "data": {
            "text/plain": [
              "4"
            ]
          },
          "metadata": {
            "tags": []
          },
          "execution_count": 14
        }
      ]
    }
  ]
}