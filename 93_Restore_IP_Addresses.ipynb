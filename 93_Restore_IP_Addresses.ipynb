{
  "nbformat": 4,
  "nbformat_minor": 0,
  "metadata": {
    "colab": {
      "name": "93. Restore IP Addresses.ipynb",
      "provenance": []
    },
    "kernelspec": {
      "name": "python3",
      "display_name": "Python 3"
    }
  },
  "cells": [
    {
      "cell_type": "markdown",
      "metadata": {
        "id": "flAX4-Xu_-1-"
      },
      "source": [
        "Given a string s containing only digits, return all possible valid IP addresses that can be obtained from s. You can return them in any order.\n",
        "\n",
        "A valid IP address consists of exactly four integers, each integer is between 0 and 255, separated by single dots and cannot have leading zeros. For example, \"0.1.2.201\" and \"192.168.1.1\" are valid IP addresses and \"0.011.255.245\", \"192.168.1.312\" and \"192.168@1.1\" are invalid IP addresses. \n",
        "\n",
        "![](https://i.imgur.com/Jdo6tSq.png)"
      ]
    },
    {
      "cell_type": "code",
      "metadata": {
        "id": "J5TQG78M_753"
      },
      "source": [
        "from typing import List\n",
        "class Solution:\n",
        "  def checkIP(self, s: str, res: List[str], i: int, cnt:int, cur: str) -> None:\n",
        "    \"\"\"\n",
        "    :s the ip string\n",
        "    :i the place to take\n",
        "    :cnt the part of ip\n",
        "    :cur current ip string\n",
        "    \"\"\"\n",
        "    if len(s) - i < 4 - cnt: return\n",
        "    if cnt == 3:\n",
        "      if len(s) - i <= 3:\n",
        "        if s[i] != \"0\" and int(s[i:]) <= 255 or s[i:] == \"0\":\n",
        "          cur += s[i:]\n",
        "          res.append(cur)\n",
        "\n",
        "    else:\n",
        "      j = 1\n",
        "      while j <= 3 and i + j <= len(s):\n",
        "        if s[i] != \"0\" and int(s[i:i+j]) <= 255 or s[i:i+j] == \"0\":\n",
        "          self.checkIP(s, res, i + j, cnt + 1, cur + s[i: i+j] + \".\")\n",
        "        j += 1\n",
        "\n",
        "  def restoreIpAddresses(self,s: str) -> List[str]:\n",
        "    res = []\n",
        "    self.checkIP(s, res, 0, 0, \"\")\n",
        "    return res "
      ],
      "execution_count": 3,
      "outputs": []
    },
    {
      "cell_type": "code",
      "metadata": {
        "colab": {
          "base_uri": "https://localhost:8080/"
        },
        "id": "T0Ynn9PWAHbd",
        "outputId": "2529ae1f-63b5-4a9a-af81-f4c74319f67c"
      },
      "source": [
        "s = \"101023\"\n",
        "Solution().restoreIpAddresses(s)"
      ],
      "execution_count": 4,
      "outputs": [
        {
          "output_type": "execute_result",
          "data": {
            "text/plain": [
              "['1.0.10.23', '1.0.102.3', '10.1.0.23', '10.10.2.3', '101.0.2.3']"
            ]
          },
          "metadata": {
            "tags": []
          },
          "execution_count": 4
        }
      ]
    },
    {
      "cell_type": "code",
      "metadata": {
        "id": "aBb47RUaFtGH"
      },
      "source": [
        ""
      ],
      "execution_count": null,
      "outputs": []
    }
  ]
}