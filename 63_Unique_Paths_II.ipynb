{
  "nbformat": 4,
  "nbformat_minor": 0,
  "metadata": {
    "colab": {
      "name": "63. Unique Paths II.ipynb",
      "provenance": []
    },
    "kernelspec": {
      "name": "python3",
      "display_name": "Python 3"
    }
  },
  "cells": [
    {
      "cell_type": "markdown",
      "metadata": {
        "id": "XveCQwFODa0G"
      },
      "source": [
        "A robot is located at the top-left corner of a m x n grid (marked 'Start' in the diagram below).\n",
        "\n",
        "The robot can only move either down or right at any point in time. The robot is trying to reach the bottom-right corner of the grid (marked 'Finish' in the diagram below).\n",
        "\n",
        "Now consider if some obstacles are added to the grids. How many unique paths would there be?\n",
        "\n",
        "An obstacle and space is marked as 1 and 0 respectively in the grid.\n",
        "\n",
        "![](https://i.imgur.com/vjy94v1.png)"
      ]
    },
    {
      "cell_type": "code",
      "metadata": {
        "colab": {
          "base_uri": "https://localhost:8080/"
        },
        "id": "mrqR4TT6DYzU",
        "outputId": "eb3494db-c652-4e95-8938-47f492ff772e"
      },
      "source": [
        "n = 3\n",
        "m = 4\n",
        "[[0]*n for _ in range(m)]"
      ],
      "execution_count": 1,
      "outputs": [
        {
          "output_type": "execute_result",
          "data": {
            "text/plain": [
              "[[0, 0, 0], [0, 0, 0], [0, 0, 0], [0, 0, 0]]"
            ]
          },
          "metadata": {
            "tags": []
          },
          "execution_count": 1
        }
      ]
    },
    {
      "cell_type": "code",
      "metadata": {
        "id": "KW5dnIC2DtZd"
      },
      "source": [
        "from typing import List\n",
        "class Solution:\n",
        "  def uniquePathsWithObstacles(self, obstacleGrid: List[List[int]]) -> int:\n",
        "    if not obstacleGrid or obstacleGrid[0][0] == 1: return 0\n",
        "    m, n = len(obstacleGrid), len(obstacleGrid[0][0])\n",
        "\n",
        "    res = [[0]*n for _ in range(m)]\n",
        "    res[0][0] = 1\n",
        "    for i in range(m):\n",
        "      for j in range(n):\n",
        "        if obstacleGrid[i][j] != 1:\n",
        "          if i - 1 >= 0:\n",
        "            res[i][j] += res[i-1][j]\n",
        "          if j - 1 >= 0:\n",
        "            res[i][j] += res[i][j-1]\n",
        "      \n",
        "    return res[-1][-1]"
      ],
      "execution_count": 3,
      "outputs": []
    },
    {
      "cell_type": "code",
      "metadata": {
        "id": "gS4PElFT1ZO4"
      },
      "source": [
        ""
      ],
      "execution_count": null,
      "outputs": []
    }
  ]
}