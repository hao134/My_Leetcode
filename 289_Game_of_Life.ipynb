{
  "nbformat": 4,
  "nbformat_minor": 0,
  "metadata": {
    "colab": {
      "name": "289. Game of Life.ipynb",
      "provenance": []
    },
    "kernelspec": {
      "name": "python3",
      "display_name": "Python 3"
    }
  },
  "cells": [
    {
      "cell_type": "markdown",
      "metadata": {
        "id": "4Sm--7jJWudt"
      },
      "source": [
        "According to the Wikipedia's article: \"The Game of Life, also known simply as Life, is a cellular automaton devised by the British mathematician John Horton Conway in 1970.\"\n",
        "\n",
        "Given a board with m by n cells, each cell has an initial state live (1) or dead (0). Each cell interacts with its eight neighbors (horizontal, vertical, diagonal) using the following four rules (taken from the above Wikipedia article):\n",
        "\n",
        "1. Any live cell with fewer than two live neighbors dies, as if caused by under-population.\n",
        "2. Any live cell with two or three live neighbors lives on to the next generation.\n",
        "3. Any live cell with more than three live neighbors dies, as if by over-population..\n",
        "4. Any dead cell with exactly three live neighbors becomes a live cell, as if by reproduction.\n",
        "\n",
        "Write a function to compute the next state (after one update) of the board given its current state. The next state is created by applying the above rules simultaneously to every cell in the current state, where births and deaths occur simultaneously.\n",
        "\n",
        "![](https://i.imgur.com/5o8jkvM.png)"
      ]
    },
    {
      "cell_type": "code",
      "metadata": {
        "colab": {
          "base_uri": "https://localhost:8080/"
        },
        "id": "Xi-HVT7QWqW6",
        "outputId": "80c9d313-30e0-41a9-99b4-f3bca9326cce"
      },
      "source": [
        "board = [[0,0,0],[1,0,1],[0,1,1],[0,1,0]]\n",
        "m, n = len(board), len(board[0])\n",
        "d = [(i, j) for i in range(-1, 2) for j in range(-1, 2) if j!=0 or i != 0]\n",
        "d"
      ],
      "execution_count": 3,
      "outputs": [
        {
          "output_type": "execute_result",
          "data": {
            "text/plain": [
              "[(-1, -1), (-1, 0), (-1, 1), (0, -1), (0, 1), (1, -1), (1, 0), (1, 1)]"
            ]
          },
          "metadata": {
            "tags": []
          },
          "execution_count": 3
        }
      ]
    },
    {
      "cell_type": "code",
      "metadata": {
        "id": "GQovVSffXCcc"
      },
      "source": [
        "class Solution:\n",
        "    def gameOfLife(self, board: List[List[int]]) -> None:\n",
        "        \"\"\"\n",
        "        Do not return anything, modify board in-place instead.\n",
        "        \"\"\"\n",
        "        m, n = len(board), len(board[0])\n",
        "        d = [(i, j) for i in range(-1, 2) for j in range(-1, 2) if j != 0 or i != 0]\n",
        "\n",
        "        # functions\n",
        "        def check(board, i, j):\n",
        "          cnt = 0\n",
        "          for k in range(8):\n",
        "            cnt += alive(board, i + d[k][0], j + d[k][1])\n",
        "          if board[i][j] % 2 == 1:\n",
        "            if cnt == 2 or cnt == 3: board[i][j] += 2\n",
        "          elif cnt == 3:\n",
        "            board[i][j] += 2\n",
        "        \n",
        "        def alive(board, i, j):\n",
        "          if i < 0 or j < 0 or i >= m or j >= n:\n",
        "            return 0\n",
        "          else:\n",
        "            return board[i][j] % 2\n",
        "\n",
        "        def next(board):\n",
        "          for i in range(m):\n",
        "            for j in range(n):\n",
        "              board[i][j] //= 2\n",
        "\n",
        "        # check and get next\n",
        "        for i in range(m):\n",
        "          for j in range(n):\n",
        "            check(board, i, j)\n",
        "        next(board)"
      ],
      "execution_count": null,
      "outputs": []
    }
  ]
}