{
  "nbformat": 4,
  "nbformat_minor": 0,
  "metadata": {
    "colab": {
      "name": "229. Majority Element II.ipynb",
      "provenance": []
    },
    "kernelspec": {
      "name": "python3",
      "display_name": "Python 3"
    }
  },
  "cells": [
    {
      "cell_type": "markdown",
      "metadata": {
        "id": "xKj3pfjGTXm0"
      },
      "source": [
        "Given an integer array of size n, find all elements that appear more than ⌊ n/3 ⌋ times.\n",
        "\n",
        "Follow-up: Could you solve the problem in linear time and in O(1) space?\n",
        "\n",
        "![](https://i.imgur.com/qkMvksb.png)"
      ]
    },
    {
      "cell_type": "code",
      "metadata": {
        "id": "4NVYGwcTTgMh"
      },
      "source": [
        "from typing import List\n",
        "class Solution:\n",
        "  def majorityElement(self, nums: List[int]) -> List[int]:\n",
        "    num1, num2 = 0, 0\n",
        "    c1, c2 = 0, 0\n",
        "    result = []\n",
        "    for i in nums:\n",
        "      if i == num1:\n",
        "        c1 += 1\n",
        "      elif i == num2:\n",
        "        c2 += 1\n",
        "      elif c1 == 0:\n",
        "        num1 = i\n",
        "        c1 = 1\n",
        "      elif c2 == 0:\n",
        "        num2 = i\n",
        "        c2 = 1\n",
        "      else:\n",
        "        c1 -= 1\n",
        "        c2 -= 1\n",
        "\n",
        "    c1, c2 = 0, 0\n",
        "    for j in nums:\n",
        "      if j == num1:\n",
        "        c1 += 1\n",
        "      elif j == num2:\n",
        "        c2 += 1\n",
        "    l = len(nums)\n",
        "\n",
        "    if c1 > l//3:\n",
        "      result.append(num1)\n",
        "    if c2 > l//3:\n",
        "      result.append(num2)\n",
        "\n",
        "    return result\n",
        "    "
      ],
      "execution_count": 3,
      "outputs": []
    },
    {
      "cell_type": "code",
      "metadata": {
        "colab": {
          "base_uri": "https://localhost:8080/"
        },
        "id": "wo_rsPIsUjyL",
        "outputId": "b01ae2be-a313-4a61-ad2f-f0171c1d43cd"
      },
      "source": [
        "nums = [3,2,3]\n",
        "Solution().majorityElement(nums)"
      ],
      "execution_count": 4,
      "outputs": [
        {
          "output_type": "execute_result",
          "data": {
            "text/plain": [
              "[3]"
            ]
          },
          "metadata": {
            "tags": []
          },
          "execution_count": 4
        }
      ]
    },
    {
      "cell_type": "code",
      "metadata": {
        "colab": {
          "base_uri": "https://localhost:8080/"
        },
        "id": "Tkv5ZRTYUuYL",
        "outputId": "84006a5d-b84e-49ef-8bc9-7efd664f5fc7"
      },
      "source": [
        "nums = [1,1,1,3,3,2,2,2]\n",
        "Solution().majorityElement(nums)"
      ],
      "execution_count": 5,
      "outputs": [
        {
          "output_type": "execute_result",
          "data": {
            "text/plain": [
              "[1, 2]"
            ]
          },
          "metadata": {
            "tags": []
          },
          "execution_count": 5
        }
      ]
    },
    {
      "cell_type": "code",
      "metadata": {
        "id": "ouKMbLSmU_gp"
      },
      "source": [
        ""
      ],
      "execution_count": null,
      "outputs": []
    }
  ]
}