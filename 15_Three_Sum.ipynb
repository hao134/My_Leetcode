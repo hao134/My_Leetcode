{
 "cells": [
  {
   "cell_type": "markdown",
   "metadata": {},
   "source": [
    "### 15. 3Sum\n",
    "Given an array nums of n integers, are there elements a, b, c in nums such that a + b + c = 0? Find all unique triplets in the array which gives the sum of zero.\n",
    "\n",
    "Example:\n",
    "```python=\n",
    "Given array nums = [-1, 0, 1, 2, -1, -4],\n",
    "\n",
    "A solution set is:\n",
    "[\n",
    "  [-1, 0, 1],\n",
    "  [-1, -1, 2]\n",
    "]\n",
    "```"
   ]
  },
  {
   "cell_type": "code",
   "execution_count": 5,
   "metadata": {},
   "outputs": [],
   "source": [
    "#Answer\n",
    "class Solution:\n",
    "    def threeSum(self, nums):\n",
    "        n = len(nums)\n",
    "        result = []\n",
    "        nums.sort()\n",
    "    \n",
    "        for i in range(n-2):      # the last three number may also be a solution\n",
    "            if nums[i] + nums[i+1] + nums[i+2] > 0: # if the smallest 3 nums > 0, no consider.\n",
    "                break\n",
    "            if nums[i] + nums[n-2] + nums[n-1] < 0: # i --> i+1 to continue the work\n",
    "                continue\n",
    "            if 0 < i and nums[i] == nums[i-1]: # don't want to find the same value\n",
    "                continue\n",
    "        \n",
    "            l, r = i+1, n-1       #begin with two end |-->   <--|\n",
    "            while l < r:\n",
    "                tmp = nums[i] + nums[l] + nums[r]\n",
    "                if tmp == 0:\n",
    "                    result.append([nums[i], nums[l], nums[r]])\n",
    "                    while l + 1 < r and nums[l] == nums[l+1]:\n",
    "                        l += 1\n",
    "                    l += 1  # renew the answer\n",
    "                    while l < r - 1 and nums[r] == nums[r-1]:\n",
    "                        r -= 1\n",
    "                    r -= 1\n",
    "                \n",
    "                elif tmp < 0:\n",
    "                    l += 1\n",
    "                \n",
    "                else:\n",
    "                    r -= 1\n",
    "        return result\n",
    "            \n",
    "    "
   ]
  },
  {
   "cell_type": "code",
   "execution_count": 6,
   "metadata": {},
   "outputs": [
    {
     "data": {
      "text/plain": [
       "[[-1, -1, 2], [-1, 0, 1]]"
      ]
     },
     "execution_count": 6,
     "metadata": {},
     "output_type": "execute_result"
    }
   ],
   "source": [
    "Solution().threeSum(nums=[-1, 0, 1, 2, -1, -4])"
   ]
  },
  {
   "cell_type": "code",
   "execution_count": null,
   "metadata": {},
   "outputs": [],
   "source": []
  }
 ],
 "metadata": {
  "kernelspec": {
   "display_name": "Python 3",
   "language": "python",
   "name": "python3"
  },
  "language_info": {
   "codemirror_mode": {
    "name": "ipython",
    "version": 3
   },
   "file_extension": ".py",
   "mimetype": "text/x-python",
   "name": "python",
   "nbconvert_exporter": "python",
   "pygments_lexer": "ipython3",
   "version": "3.7.1"
  }
 },
 "nbformat": 4,
 "nbformat_minor": 2
}
