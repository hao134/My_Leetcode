{
  "nbformat": 4,
  "nbformat_minor": 0,
  "metadata": {
    "colab": {
      "name": "217. Contains Duplicate.ipynb",
      "provenance": []
    },
    "kernelspec": {
      "name": "python3",
      "display_name": "Python 3"
    }
  },
  "cells": [
    {
      "cell_type": "markdown",
      "metadata": {
        "id": "IHYC67PtdH-a"
      },
      "source": [
        "Given an array of integers, find if the array contains any duplicates.\n",
        "\n",
        "Your function should return true if any value appears at least twice in the array, and it should return false if every element is distinct.\n",
        "\n",
        "![](https://i.imgur.com/o6u8rvz.png)\n"
      ]
    },
    {
      "cell_type": "code",
      "metadata": {
        "id": "wEtrq5fydSdj"
      },
      "source": [
        "### solution 1\n",
        "from typing import List\n",
        "class Solution:\n",
        "  def containsDuplicate(self, nums: List[int]) -> bool:\n",
        "    return len(nums)!= len(set(nums))\n",
        "\n",
        "\n",
        "        "
      ],
      "execution_count": 2,
      "outputs": []
    },
    {
      "cell_type": "code",
      "metadata": {
        "id": "ZhrvW1w9eyoX",
        "outputId": "18040d70-e09b-41b6-be1f-df99c8464efc",
        "colab": {
          "base_uri": "https://localhost:8080/"
        }
      },
      "source": [
        "nums = [1,2,3,1]\n",
        "Solution().containsDuplicate(nums)"
      ],
      "execution_count": 4,
      "outputs": [
        {
          "output_type": "execute_result",
          "data": {
            "text/plain": [
              "True"
            ]
          },
          "metadata": {
            "tags": []
          },
          "execution_count": 4
        }
      ]
    },
    {
      "cell_type": "code",
      "metadata": {
        "id": "sU1oXtzpe1OY",
        "outputId": "da6a79b3-8cda-4420-88a7-6beefe4012df",
        "colab": {
          "base_uri": "https://localhost:8080/"
        }
      },
      "source": [
        "nums = [1,2,3,4]\n",
        "Solution().containsDuplicate(nums)"
      ],
      "execution_count": 5,
      "outputs": [
        {
          "output_type": "execute_result",
          "data": {
            "text/plain": [
              "False"
            ]
          },
          "metadata": {
            "tags": []
          },
          "execution_count": 5
        }
      ]
    },
    {
      "cell_type": "code",
      "metadata": {
        "id": "zOX708yfgDuc"
      },
      "source": [
        "### solution 2\n",
        "class Solution:\n",
        "  def containsDuplicate(self, nums: List[int]) -> bool:\n",
        "    d = {}\n",
        "    for i in nums:\n",
        "      if i not in d:\n",
        "        d[i] = True\n",
        "      else:\n",
        "        return True\n",
        "    return False"
      ],
      "execution_count": 6,
      "outputs": []
    },
    {
      "cell_type": "code",
      "metadata": {
        "id": "azfWQ1IbgY1m",
        "outputId": "85fb6ae9-71cd-4964-a03b-e0598fc0edd5",
        "colab": {
          "base_uri": "https://localhost:8080/"
        }
      },
      "source": [
        "nums = [1,2,3,1]\n",
        "Solution().containsDuplicate(nums)"
      ],
      "execution_count": 7,
      "outputs": [
        {
          "output_type": "execute_result",
          "data": {
            "text/plain": [
              "True"
            ]
          },
          "metadata": {
            "tags": []
          },
          "execution_count": 7
        }
      ]
    },
    {
      "cell_type": "code",
      "metadata": {
        "id": "30UrrqYlgdKj",
        "outputId": "89e1613a-f0f0-4d4e-8168-91d9d1507683",
        "colab": {
          "base_uri": "https://localhost:8080/"
        }
      },
      "source": [
        "nums = [1,2,3,4]\n",
        "Solution().containsDuplicate(nums)"
      ],
      "execution_count": 8,
      "outputs": [
        {
          "output_type": "execute_result",
          "data": {
            "text/plain": [
              "False"
            ]
          },
          "metadata": {
            "tags": []
          },
          "execution_count": 8
        }
      ]
    },
    {
      "cell_type": "code",
      "metadata": {
        "id": "qOffbJQvgeq7"
      },
      "source": [
        ""
      ],
      "execution_count": null,
      "outputs": []
    }
  ]
}