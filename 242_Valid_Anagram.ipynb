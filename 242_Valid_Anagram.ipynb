{
  "nbformat": 4,
  "nbformat_minor": 0,
  "metadata": {
    "colab": {
      "name": "242 Valid Anagram.ipynb",
      "provenance": []
    },
    "kernelspec": {
      "name": "python3",
      "display_name": "Python 3"
    }
  },
  "cells": [
    {
      "cell_type": "markdown",
      "metadata": {
        "id": "v6NLOenaJsEM"
      },
      "source": [
        "Given two strings s and t , write a function to determine if t is an anagram of s.\n",
        "\n",
        "\n",
        "![](https://i.imgur.com/HmC2yJX.png)"
      ]
    },
    {
      "cell_type": "code",
      "metadata": {
        "id": "Hy418XTiJxGH"
      },
      "source": [
        "class Solution:\n",
        "  def isAnagram(self, s: str, t: str) -> bool:\n",
        "    lookup = {}\n",
        "    for i in s:\n",
        "      if i not in lookup:\n",
        "        lookup[i] = 1\n",
        "      else:\n",
        "        lookup[i] += 1\n",
        "    for j in t:\n",
        "      if j not in lookup:\n",
        "        return False\n",
        "      else:\n",
        "        lookup[j] -= 1\n",
        "    for k in lookup:\n",
        "      if lookup[k] != 0:\n",
        "        return False\n",
        "    return True"
      ],
      "execution_count": 1,
      "outputs": []
    },
    {
      "cell_type": "code",
      "metadata": {
        "id": "oMKJC73dSeOm",
        "outputId": "dce80633-296c-4447-dc4c-cd37f9ee742d",
        "colab": {
          "base_uri": "https://localhost:8080/"
        }
      },
      "source": [
        "s = \"anagram\"\n",
        "t = \"nagaram\"\n",
        "Solution().isAnagram(s,t)"
      ],
      "execution_count": 2,
      "outputs": [
        {
          "output_type": "execute_result",
          "data": {
            "text/plain": [
              "True"
            ]
          },
          "metadata": {
            "tags": []
          },
          "execution_count": 2
        }
      ]
    },
    {
      "cell_type": "code",
      "metadata": {
        "id": "xA7uvIE1SrCD",
        "outputId": "28a66239-9165-45ee-e255-d70db484db20",
        "colab": {
          "base_uri": "https://localhost:8080/"
        }
      },
      "source": [
        "s = \"rat\"\n",
        "t = \"car\"\n",
        "Solution().isAnagram(s,t)"
      ],
      "execution_count": 3,
      "outputs": [
        {
          "output_type": "execute_result",
          "data": {
            "text/plain": [
              "False"
            ]
          },
          "metadata": {
            "tags": []
          },
          "execution_count": 3
        }
      ]
    },
    {
      "cell_type": "code",
      "metadata": {
        "id": "BlAcRe1xSyBs"
      },
      "source": [
        ""
      ],
      "execution_count": null,
      "outputs": []
    }
  ]
}