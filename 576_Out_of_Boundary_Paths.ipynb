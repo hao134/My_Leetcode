{
  "nbformat": 4,
  "nbformat_minor": 0,
  "metadata": {
    "colab": {
      "name": "576. Out of Boundary Paths.ipynb",
      "provenance": []
    },
    "kernelspec": {
      "name": "python3",
      "display_name": "Python 3"
    }
  },
  "cells": [
    {
      "cell_type": "markdown",
      "metadata": {
        "id": "RxXcI5AtDLou"
      },
      "source": [
        "There is an m by n grid with a ball. Given the start coordinate (i,j) of the ball, you can move the ball to adjacent cell or cross the grid boundary in four directions (up, down, left, right). However, you can at most move N times. Find out the number of paths to move the ball out of grid boundary. The answer may be very large, return it after mod 10^9 + 7.\n",
        "\n",
        "![](https://i.imgur.com/vO1ldKk.png)"
      ]
    },
    {
      "cell_type": "code",
      "metadata": {
        "id": "6MxjHaY1DIJm"
      },
      "source": [
        "class Solution:\n",
        "  def findPaths(self, m: int, n: int, N: int, i: int, j: int) -> int:\n",
        "    def dfs(i, j, N, dic):\n",
        "      if (i, j, N) in dic:\n",
        "        return dic[(i, j, N)]\n",
        "      if N != 0:\n",
        "        r = 0\n",
        "        r += 1 if i - 1 < 0 else dfs(i-1, j, N-1, dic)\n",
        "        r += 1 if i + 1 == m else dfs(i+1, j, N-1, dic)\n",
        "        r += 1 if j - 1 < 0 else dfs(i, j-1, N-1, dic)\n",
        "        r += 1 if j + 1 == n else dfs(i, j+1, N-1, dic)\n",
        "        dic[(i, j, N)] = r\n",
        "        return r\n",
        "      return 0\n",
        "    return dfs(i,j,N,{}) % (10**9 + 7)"
      ],
      "execution_count": 6,
      "outputs": []
    },
    {
      "cell_type": "code",
      "metadata": {
        "colab": {
          "base_uri": "https://localhost:8080/"
        },
        "id": "Ehc3bMtFDYs7",
        "outputId": "c1bfa364-949d-4e3a-90a3-a6a6acec8f0f"
      },
      "source": [
        "m = 1\n",
        "n = 3\n",
        "N = 3\n",
        "i = 0\n",
        "j = 1\n",
        "Solution().findPaths(m,n,N,i,j)"
      ],
      "execution_count": 7,
      "outputs": [
        {
          "output_type": "execute_result",
          "data": {
            "text/plain": [
              "12"
            ]
          },
          "metadata": {
            "tags": []
          },
          "execution_count": 7
        }
      ]
    },
    {
      "cell_type": "code",
      "metadata": {
        "id": "GTdQRmuEPnwz"
      },
      "source": [
        ""
      ],
      "execution_count": null,
      "outputs": []
    }
  ]
}