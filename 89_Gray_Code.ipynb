{
  "nbformat": 4,
  "nbformat_minor": 0,
  "metadata": {
    "colab": {
      "name": "89. Gray Code.ipynb",
      "provenance": []
    },
    "kernelspec": {
      "name": "python3",
      "display_name": "Python 3"
    }
  },
  "cells": [
    {
      "cell_type": "markdown",
      "metadata": {
        "id": "vryOI6Wy8ORn"
      },
      "source": [
        "The gray code is a binary numeral system where two successive values differ in only one bit.\n",
        "\n",
        "Given a non-negative integer n representing the total number of bits in the code, print the sequence of gray code. A gray code sequence must begin with 0.\n",
        "\n",
        "![](https://i.imgur.com/zMyhpd0.png)"
      ]
    },
    {
      "cell_type": "code",
      "metadata": {
        "id": "TjMX3BnZ8Ndd"
      },
      "source": [
        "from typing import List\n",
        "class Solution:\n",
        "    def grayCode(self, n: int) -> List[int]:\n",
        "        res = [0]\n",
        "        add = 1\n",
        "        for _ in range(n):\n",
        "            for i in range(add):\n",
        "                res.append(res[add - 1 - i] + add)\n",
        "                print(\"res\",res)\n",
        "            add <<= 1\n",
        "        return res"
      ],
      "execution_count": 12,
      "outputs": []
    },
    {
      "cell_type": "code",
      "metadata": {
        "id": "RY6_MuzH8ebh",
        "outputId": "80d1b29b-484c-4cb6-dded-1c732cf8147f",
        "colab": {
          "base_uri": "https://localhost:8080/"
        }
      },
      "source": [
        "n = 1\n",
        "Solution().grayCode(n)"
      ],
      "execution_count": 13,
      "outputs": [
        {
          "output_type": "stream",
          "text": [
            "res [0, 1]\n"
          ],
          "name": "stdout"
        },
        {
          "output_type": "execute_result",
          "data": {
            "text/plain": [
              "[0, 1]"
            ]
          },
          "metadata": {
            "tags": []
          },
          "execution_count": 13
        }
      ]
    },
    {
      "cell_type": "code",
      "metadata": {
        "id": "KglacMMq83-1",
        "outputId": "7eabc214-4704-4856-8e45-e975d7de5b49",
        "colab": {
          "base_uri": "https://localhost:8080/"
        }
      },
      "source": [
        "n = 2\n",
        "Solution().grayCode(n)"
      ],
      "execution_count": 14,
      "outputs": [
        {
          "output_type": "stream",
          "text": [
            "res [0, 1]\n",
            "res [0, 1, 3]\n",
            "res [0, 1, 3, 2]\n"
          ],
          "name": "stdout"
        },
        {
          "output_type": "execute_result",
          "data": {
            "text/plain": [
              "[0, 1, 3, 2]"
            ]
          },
          "metadata": {
            "tags": []
          },
          "execution_count": 14
        }
      ]
    },
    {
      "cell_type": "code",
      "metadata": {
        "id": "kxkedlw7-jwP",
        "outputId": "9e136bd1-34b7-41fe-965a-1ac9a1958987",
        "colab": {
          "base_uri": "https://localhost:8080/"
        }
      },
      "source": [
        "n = 3\n",
        "Solution().grayCode(n)"
      ],
      "execution_count": 20,
      "outputs": [
        {
          "output_type": "stream",
          "text": [
            "res [0, 1]\n",
            "res [0, 1, 3]\n",
            "res [0, 1, 3, 2]\n",
            "res [0, 1, 3, 2, 6]\n",
            "res [0, 1, 3, 2, 6, 7]\n",
            "res [0, 1, 3, 2, 6, 7, 5]\n",
            "res [0, 1, 3, 2, 6, 7, 5, 4]\n"
          ],
          "name": "stdout"
        },
        {
          "output_type": "execute_result",
          "data": {
            "text/plain": [
              "[0, 1, 3, 2, 6, 7, 5, 4]"
            ]
          },
          "metadata": {
            "tags": []
          },
          "execution_count": 20
        }
      ]
    },
    {
      "cell_type": "code",
      "metadata": {
        "id": "Ll0i415d-2Gf",
        "outputId": "6f9e0620-9bee-4138-a024-5f6222da3c4c",
        "colab": {
          "base_uri": "https://localhost:8080/"
        }
      },
      "source": [
        "for i in range(2):\n",
        "  print(i)"
      ],
      "execution_count": 16,
      "outputs": [
        {
          "output_type": "stream",
          "text": [
            "0\n",
            "1\n"
          ],
          "name": "stdout"
        }
      ]
    },
    {
      "cell_type": "code",
      "metadata": {
        "id": "tYbFH28N_s4e",
        "outputId": "f7f271bc-f4f2-48c3-939f-422da22b5535",
        "colab": {
          "base_uri": "https://localhost:8080/"
        }
      },
      "source": [
        "3 << 2"
      ],
      "execution_count": 19,
      "outputs": [
        {
          "output_type": "execute_result",
          "data": {
            "text/plain": [
              "12"
            ]
          },
          "metadata": {
            "tags": []
          },
          "execution_count": 19
        }
      ]
    },
    {
      "cell_type": "code",
      "metadata": {
        "id": "Gh1leVXzAi0n"
      },
      "source": [
        "res = 3\n",
        "res = res << 1"
      ],
      "execution_count": 22,
      "outputs": []
    },
    {
      "cell_type": "code",
      "metadata": {
        "id": "A2ZH26cyD37K",
        "outputId": "dbf732f1-62f8-4fac-ce8d-fe02f37108d9",
        "colab": {
          "base_uri": "https://localhost:8080/"
        }
      },
      "source": [
        "res"
      ],
      "execution_count": 23,
      "outputs": [
        {
          "output_type": "execute_result",
          "data": {
            "text/plain": [
              "6"
            ]
          },
          "metadata": {
            "tags": []
          },
          "execution_count": 23
        }
      ]
    },
    {
      "cell_type": "code",
      "metadata": {
        "id": "JhEsuvtED-WE"
      },
      "source": [
        ""
      ],
      "execution_count": null,
      "outputs": []
    }
  ]
}