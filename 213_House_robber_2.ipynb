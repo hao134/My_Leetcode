{
  "nbformat": 4,
  "nbformat_minor": 0,
  "metadata": {
    "colab": {
      "name": "213 House robber_2.ipynb",
      "provenance": []
    },
    "kernelspec": {
      "name": "python3",
      "display_name": "Python 3"
    }
  },
  "cells": [
    {
      "cell_type": "markdown",
      "metadata": {
        "id": "zNZPH9tylFzK"
      },
      "source": [
        "You are a professional robber planning to rob houses along a street. Each house has a certain amount of money stashed. All houses at this place are arranged in a circle. That means the first house is the neighbor of the last one. Meanwhile, adjacent houses have a security system connected, and it will automatically contact the police if two adjacent houses were broken into on the same night.\n",
        "\n",
        "Given a list of non-negative integers nums representing the amount of money of each house, return the maximum amount of money you can rob tonight without alerting the police.\n",
        "\n",
        "![](https://i.imgur.com/cGd47j0.png)"
      ]
    },
    {
      "cell_type": "code",
      "metadata": {
        "id": "_TZ6zP4Ek7v2"
      },
      "source": [
        "class Solution:\n",
        "  def rob(self, nums) -> int:\n",
        "    l = len(nums)\n",
        "    if l == 0: return 0\n",
        "    if l == 1: return nums[0]\n",
        "\n",
        "    # 1 condition rob house index 0, house l-1 can't rob, final result -> dp[l-2]\n",
        "    prev, curr = nums[0], nums[0]\n",
        "    for i in range(2, l-1):\n",
        "      tmp = prev\n",
        "      prev = curr\n",
        "      curr = max(prev, tmp + nums[i])\n",
        "    res = curr\n",
        "\n",
        "    # 2 condition doesn't rob house index 0, house l-2 can't rob, final result -> dp[l-1]\n",
        "    prev, curr = 0, nums[1]\n",
        "    for i in range(2, l):\n",
        "      tmp = prev\n",
        "      prev = curr\n",
        "      curr = max(prev, tmp + nums[i])\n",
        "    res = max(res, curr)\n",
        "\n",
        "    return res\n"
      ],
      "execution_count": null,
      "outputs": []
    },
    {
      "cell_type": "code",
      "metadata": {
        "id": "Oy85e9l_6ppC",
        "outputId": "26131816-9ac9-4efa-df55-08b06316119b",
        "colab": {
          "base_uri": "https://localhost:8080/",
          "height": 34
        }
      },
      "source": [
        "nums = [2,3,2]\n",
        "Solution().rob(nums)"
      ],
      "execution_count": null,
      "outputs": [
        {
          "output_type": "execute_result",
          "data": {
            "text/plain": [
              "3"
            ]
          },
          "metadata": {
            "tags": []
          },
          "execution_count": 13
        }
      ]
    },
    {
      "cell_type": "code",
      "metadata": {
        "id": "u67b_O7U60kL",
        "outputId": "ace07be6-8803-4d6b-fd16-d70af169785f",
        "colab": {
          "base_uri": "https://localhost:8080/",
          "height": 34
        }
      },
      "source": [
        "nums = [1,2,3,1]\n",
        "Solution().rob(nums)"
      ],
      "execution_count": null,
      "outputs": [
        {
          "output_type": "execute_result",
          "data": {
            "text/plain": [
              "4"
            ]
          },
          "metadata": {
            "tags": []
          },
          "execution_count": 14
        }
      ]
    },
    {
      "cell_type": "code",
      "metadata": {
        "id": "IK8ke0PI79i7",
        "outputId": "78ea3875-612f-4bbe-c62f-f624c9bd5541",
        "colab": {
          "base_uri": "https://localhost:8080/",
          "height": 34
        }
      },
      "source": [
        "nums = [0]\n",
        "Solution().rob(nums)"
      ],
      "execution_count": null,
      "outputs": [
        {
          "output_type": "execute_result",
          "data": {
            "text/plain": [
              "0"
            ]
          },
          "metadata": {
            "tags": []
          },
          "execution_count": 15
        }
      ]
    },
    {
      "cell_type": "code",
      "metadata": {
        "id": "X32tqwYw8AWV"
      },
      "source": [
        ""
      ],
      "execution_count": null,
      "outputs": []
    }
  ]
}