{
  "nbformat": 4,
  "nbformat_minor": 0,
  "metadata": {
    "colab": {
      "name": "200. Number of Islands.ipynb",
      "provenance": []
    },
    "kernelspec": {
      "name": "python3",
      "display_name": "Python 3"
    }
  },
  "cells": [
    {
      "cell_type": "markdown",
      "metadata": {
        "id": "p9cmvVdVUpj7"
      },
      "source": [
        "Given an m x n 2d grid map of '1's (land) and '0's (water), return the number of islands.\n",
        "\n",
        "An island is surrounded by water and is formed by connecting adjacent lands horizontally or vertically. You may assume all four edges of the grid are all surrounded by water.\n",
        "\n",
        "![](https://i.imgur.com/LEKv9WE.png)"
      ]
    },
    {
      "cell_type": "code",
      "metadata": {
        "id": "tu-zZFkxUmVD"
      },
      "source": [
        "class Solution:\n",
        "    def numIslands(self, grid: List[List[str]]) -> int:\n",
        "        if not grid or not grid[0]: return 0\n",
        "        visited = [[False] * len(grid[0]) for _ in range(len(grid))]\n",
        "        res = 0\n",
        "        \n",
        "        for i in range(len(grid)):\n",
        "            for j in range(len(grid[0])):\n",
        "                if grid[i][j] == '1' and not visited[i][j]:\n",
        "                    res += 1\n",
        "                    self.dfs(grid, visited, i, j)\n",
        "        return res\n",
        "    \n",
        "    def dfs(self, grid: List[List[str]], visited: List[List[bool]], i: int, j: int) -> None:\n",
        "        if i >= 0 and j >= 0 and i < len(grid) and j < len(grid[0]) and not visited[i][j] and grid[i][j] == '1':\n",
        "            visited[i][j] = True\n",
        "            self.dfs(grid, visited, i + 1, j)\n",
        "            self.dfs(grid, visited, i - 1, j)\n",
        "            self.dfs(grid, visited, i, j + 1)\n",
        "            self.dfs(grid, visited, i, j - 1)"
      ],
      "execution_count": null,
      "outputs": []
    },
    {
      "cell_type": "code",
      "metadata": {
        "id": "vrxO8YyUUsz_"
      },
      "source": [
        "from typing import List\n",
        "class Solution:\n",
        "  def numIslands(self, grid: List[List[str]]) -> int:\n",
        "    if not grid or not grid[0]: return 0\n",
        "    visited = [[False] * len(grid[0]) for _ in range(len(grid))]\n",
        "    res = 0\n",
        "    for i in range(len(grid)):\n",
        "      for j in range(len(grid[0])):\n",
        "        if grid[i][j] == '1' and not visited[i][j]:\n",
        "          res += 1\n",
        "          self.dfs(grid, visited, i, j)\n",
        "    return res\n",
        "\n",
        "  def dfs(self, grid, visited, i , j):\n",
        "    if i >= 0 and j >= 0 and i < len(grid) and j < len(grid[0]) and not visited[i][j] and grid[i][j] == '1':\n",
        "      visited[i][j] = True\n",
        "      self.dfs(grid, visited, i+1, j)\n",
        "      self.dfs(grid, visited, i-1, j)\n",
        "      self.dfs(grid, visited, i, j+1)\n",
        "      self.dfs(grid, visited, i, j-1)"
      ],
      "execution_count": 1,
      "outputs": []
    },
    {
      "cell_type": "code",
      "metadata": {
        "id": "exFcMKaIXbC9"
      },
      "source": [
        ""
      ],
      "execution_count": null,
      "outputs": []
    }
  ]
}