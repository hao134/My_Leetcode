{
  "nbformat": 4,
  "nbformat_minor": 0,
  "metadata": {
    "colab": {
      "name": "82. Remove Duplicates from Sorted List II.ipynb",
      "provenance": []
    },
    "kernelspec": {
      "name": "python3",
      "display_name": "Python 3"
    }
  },
  "cells": [
    {
      "cell_type": "markdown",
      "metadata": {
        "id": "eQrS9DywU_Zv"
      },
      "source": [
        "Given a sorted linked list, delete all nodes that have duplicate numbers, leaving only distinct numbers from the original list.\n",
        "\n",
        "Return the linked list sorted as well.\n",
        "\n",
        "![](https://i.imgur.com/XXLI6tg.png)"
      ]
    },
    {
      "cell_type": "code",
      "metadata": {
        "id": "vtdWiQC3U2Ez"
      },
      "source": [
        "class ListNode(object):\n",
        "  def __init__(self, x):\n",
        "    self.val = x\n",
        "    self. next = None\n",
        "  \n",
        "class Solution(object):\n",
        "  def deleteDuplicates(self, head):\n",
        "    \"\"\"\n",
        "    :type head: ListNode\n",
        "    :rtype: ListNode\n",
        "    \"\"\"\n",
        "    dum = pre = ListNode(None)\n",
        "    dum.next = head\n",
        "    cur = head\n",
        "\n",
        "    while cur:\n",
        "      if curr.next and curr.val == curr.next.val:  # nodes begin a sequence of duplicates\n",
        "        duplicate_value = curr.val\n",
        "        curr = curr.next\n",
        "        while curr and curr.val == duplicate_value: # skip over all duplicates\n",
        "          curr = curr.next\n",
        "        pre.next = None\n",
        "\n",
        "      else:      # node is not duplicate\n",
        "        pre.next = cur\n",
        "        pre = cur\n",
        "        cur = cur.next\n",
        "    \n",
        "    return dum.next\n"
      ],
      "execution_count": 1,
      "outputs": []
    },
    {
      "cell_type": "code",
      "metadata": {
        "id": "F2klzjsFVGh-"
      },
      "source": [
        ""
      ],
      "execution_count": null,
      "outputs": []
    }
  ]
}