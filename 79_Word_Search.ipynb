{
  "nbformat": 4,
  "nbformat_minor": 0,
  "metadata": {
    "colab": {
      "name": "79. Word Search.ipynb",
      "provenance": []
    },
    "kernelspec": {
      "name": "python3",
      "display_name": "Python 3"
    }
  },
  "cells": [
    {
      "cell_type": "markdown",
      "metadata": {
        "id": "Q5UO1lJ2LUqi"
      },
      "source": [
        "Given an m x n board and a word, find if the word exists in the grid.\n",
        "\n",
        "The word can be constructed from letters of sequentially adjacent cells, where \"adjacent\" cells are horizontally or vertically neighboring. The same letter cell may not be used more than once.\n",
        "\n",
        "![](https://i.imgur.com/VTxxJOP.png)\n",
        "![](https://i.imgur.com/FcuNEPk.png)"
      ]
    },
    {
      "cell_type": "code",
      "metadata": {
        "id": "Jm41LuLoLOSd"
      },
      "source": [
        "from typing import List\n",
        "class Solution:\n",
        "  def __init__(self):\n",
        "    self.wlen = 0\n",
        "    self.row = 0\n",
        "    self.col = 0\n",
        "  \n",
        "  def exit(self, board: List[List[str]], word: str) -> bool:\n",
        "    if len(board) == 0 or len(board[0]) == 0: return False\n",
        "    self.wlen = len(word)\n",
        "    self.row = len(board)\n",
        "    self.col = len(board[0])\n",
        "\n",
        "    for i in range(self.row):\n",
        "      for j in range(self.col):\n",
        "        if self.dfs(board, i, j, 0, word):\n",
        "          return True\n",
        "    \n",
        "    return False\n",
        "\n",
        "  def dfs(self, board: List[List[str]], r: int, c: int, index: int, word: str) -> bool:\n",
        "    if board[r][c] != word[index]: return False\n",
        "    if index == self.wlen - 1: return True\n",
        "    index += 1\n",
        "    tmp = board[r][c]\n",
        "    board[r][c] = \"0\"\n",
        "    if r + 1 < self.row and self.dfs(board, r + 1, c, index, word): return True\n",
        "    if r - 1 >= 0 and self.dfs(board, r - 1, c, index, word): return True\n",
        "    if c + 1 < self.col and self.dfs(board, r, c + 1, index, word): return True\n",
        "    if c - 1 >= 0 and self.dfs(board, r, c - 1, index, word): return True\n",
        "    board[r][c] = tmp\n",
        "    return False"
      ],
      "execution_count": 2,
      "outputs": []
    },
    {
      "cell_type": "code",
      "metadata": {
        "colab": {
          "base_uri": "https://localhost:8080/"
        },
        "id": "wMvoZVN_LiQw",
        "outputId": "d7dd0573-5171-4b67-ba78-6a3a6b570872"
      },
      "source": [
        "board = [[\"A\",\"B\",\"C\",\"E\"],[\"S\",\"F\",\"C\",\"S\"],[\"A\",\"D\",\"E\",\"E\"]]\n",
        "word = \"SEE\"\n",
        "Solution().exit(board, word)"
      ],
      "execution_count": 4,
      "outputs": [
        {
          "output_type": "execute_result",
          "data": {
            "text/plain": [
              "True"
            ]
          },
          "metadata": {
            "tags": []
          },
          "execution_count": 4
        }
      ]
    },
    {
      "cell_type": "code",
      "metadata": {
        "colab": {
          "base_uri": "https://localhost:8080/"
        },
        "id": "6N3_i-kraouM",
        "outputId": "86d2af34-0502-48d5-ba16-318976961f82"
      },
      "source": [
        "board = [[\"A\",\"B\",\"C\",\"E\"],[\"S\",\"F\",\"C\",\"S\"],[\"A\",\"D\",\"E\",\"E\"]]\n",
        "word = \"ABCCED\"\n",
        "Solution().exit(board, word)"
      ],
      "execution_count": 5,
      "outputs": [
        {
          "output_type": "execute_result",
          "data": {
            "text/plain": [
              "True"
            ]
          },
          "metadata": {
            "tags": []
          },
          "execution_count": 5
        }
      ]
    },
    {
      "cell_type": "code",
      "metadata": {
        "colab": {
          "base_uri": "https://localhost:8080/"
        },
        "id": "PNE4fSIva257",
        "outputId": "7a1ddbf6-a723-49dd-8433-6a2d000f5507"
      },
      "source": [
        "board = [[\"A\",\"B\",\"C\",\"E\"],[\"S\",\"F\",\"C\",\"S\"],[\"A\",\"D\",\"E\",\"E\"]]\n",
        "word = \"ABCB\"\n",
        "Solution().exit(board, word)"
      ],
      "execution_count": 6,
      "outputs": [
        {
          "output_type": "execute_result",
          "data": {
            "text/plain": [
              "False"
            ]
          },
          "metadata": {
            "tags": []
          },
          "execution_count": 6
        }
      ]
    },
    {
      "cell_type": "code",
      "metadata": {
        "colab": {
          "base_uri": "https://localhost:8080/"
        },
        "id": "YDEQROz2a7nA",
        "outputId": "7464e8e6-d80d-492e-8570-58dad8fec7e5"
      },
      "source": [
        "board"
      ],
      "execution_count": 7,
      "outputs": [
        {
          "output_type": "execute_result",
          "data": {
            "text/plain": [
              "[['A', 'B', 'C', 'E'], ['S', 'F', 'C', 'S'], ['A', 'D', 'E', 'E']]"
            ]
          },
          "metadata": {
            "tags": []
          },
          "execution_count": 7
        }
      ]
    },
    {
      "cell_type": "code",
      "metadata": {
        "id": "6QzXlJ3mb6mM"
      },
      "source": [
        ""
      ],
      "execution_count": null,
      "outputs": []
    }
  ]
}