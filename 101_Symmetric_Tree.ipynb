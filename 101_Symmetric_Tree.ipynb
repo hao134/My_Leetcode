{
  "nbformat": 4,
  "nbformat_minor": 0,
  "metadata": {
    "colab": {
      "name": "101_Symmetric Tree",
      "provenance": []
    },
    "kernelspec": {
      "name": "python3",
      "display_name": "Python 3"
    }
  },
  "cells": [
    {
      "cell_type": "markdown",
      "metadata": {
        "id": "_5NaIjdMRc5c"
      },
      "source": [
        "Given a binary tree, check whether it is a mirror of itself (ie, symmetric around its center).\n",
        "\n",
        "For example, this binary tree [1,2,2,3,4,4,3] is symmetric:\n",
        "![](https://i.imgur.com/84gAzyG.png)"
      ]
    },
    {
      "cell_type": "code",
      "metadata": {
        "id": "xdHmgspVRPzi"
      },
      "source": [
        "# Definition for a binary tree node.\n",
        "class TreeNode:\n",
        "    def __init__(self, val=0, left=None, right=None):\n",
        "        self.val = val\n",
        "        self.left = left\n",
        "        self.right = right\n",
        "class Solution:\n",
        "    def isSymmetric(self, root: TreeNode) -> bool:\n",
        "      if root is None: return True\n",
        "      return isSym(root.left, root.right)\n",
        "    def isSym(l,r):\n",
        "      if l is None and r is None: \n",
        "        return True\n",
        "      if l is not None and r is not None:\n",
        "        return l.val == r.val and self.isSym(l.left, r.right) and self.isSym(l.right, r.left)\n",
        "      return False"
      ],
      "execution_count": null,
      "outputs": []
    },
    {
      "cell_type": "code",
      "metadata": {
        "id": "YGWbfMT1Savp"
      },
      "source": [
        "# solution with queue\n",
        "from collections import deque\n",
        "class Solution:\n",
        "    def isSymmetric(self, root: TreeNode) -> bool:\n",
        "        if not root: return True\n",
        "        queue = deque([(root.left, root.right)])\n",
        "        while queue:\n",
        "            node1, node2 = queue.popleft()\n",
        "            if not node1 and not node2:\n",
        "                continue\n",
        "            if node1 and node2 and node1.val == node2.val:\n",
        "                queue.append((node1.left, node2.right))\n",
        "                queue.append((node1.right, node2.left))\n",
        "            else:\n",
        "                return False\n",
        "        return True"
      ],
      "execution_count": null,
      "outputs": []
    },
    {
      "cell_type": "code",
      "metadata": {
        "id": "FH65XDQSiySD"
      },
      "source": [
        ""
      ],
      "execution_count": null,
      "outputs": []
    }
  ]
}