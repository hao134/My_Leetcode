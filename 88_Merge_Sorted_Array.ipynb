{
  "nbformat": 4,
  "nbformat_minor": 0,
  "metadata": {
    "colab": {
      "name": "88. Merge Sorted Array.ipynb",
      "provenance": []
    },
    "kernelspec": {
      "name": "python3",
      "display_name": "Python 3"
    }
  },
  "cells": [
    {
      "cell_type": "markdown",
      "metadata": {
        "id": "dgnRhRu6jpLp"
      },
      "source": [
        "Given two sorted integer arrays nums1 and nums2, merge nums2 into nums1 as one sorted array.\n",
        "\n",
        "Note:\n",
        "\n",
        "The number of elements initialized in nums1 and nums2 are m and n respectively.\n",
        "You may assume that nums1 has enough space (size that is equal to m + n) to hold additional elements from nums2\n",
        "\n",
        "![](https://i.imgur.com/q8JuynZ.png)"
      ]
    },
    {
      "cell_type": "code",
      "metadata": {
        "id": "jX_S05Fgjyy6"
      },
      "source": [
        "class Solution:\n",
        "  def merge(self,nums1,m,nums2,n):\n",
        "      \"\"\"\n",
        "      Do not return anything, modify nums1 in-place instead.\n",
        "      \"\"\"\n",
        "      while m > 0 and n > 0:\n",
        "        if nums2[n - 1] > nums1[m - 1]:\n",
        "          nums1[m + n - 1] = nums2[n - 1]\n",
        "          n = n - 1\n",
        "        else:\n",
        "          nums1[m - 1], nums1[m + n - 1] = nums1[m + n - 1], nums1[m - 1]\n",
        "          m = m - 1\n",
        "      if m == 0 and n > 0:\n",
        "        nums1[:n] = nums2[:n]\n"
      ],
      "execution_count": 6,
      "outputs": []
    },
    {
      "cell_type": "code",
      "metadata": {
        "id": "k6EO52CXlZAl"
      },
      "source": [
        "nums1 = [1,2,3,0,0,0]\n",
        "m = 3\n",
        "nums2 = [2,5,6]\n",
        "n = 3\n",
        "Solution().merge(nums1,m,nums2,n)"
      ],
      "execution_count": 9,
      "outputs": []
    },
    {
      "cell_type": "code",
      "metadata": {
        "id": "DIyhccCAllw2",
        "outputId": "bc2b2e89-a647-4c90-a6c6-8f517cb8f6ed",
        "colab": {
          "base_uri": "https://localhost:8080/",
          "height": 34
        }
      },
      "source": [
        "nums1"
      ],
      "execution_count": 10,
      "outputs": [
        {
          "output_type": "execute_result",
          "data": {
            "text/plain": [
              "[1, 2, 2, 3, 5, 6]"
            ]
          },
          "metadata": {
            "tags": []
          },
          "execution_count": 10
        }
      ]
    },
    {
      "cell_type": "code",
      "metadata": {
        "id": "UGuC7oCBlq3z"
      },
      "source": [
        ""
      ],
      "execution_count": null,
      "outputs": []
    }
  ]
}