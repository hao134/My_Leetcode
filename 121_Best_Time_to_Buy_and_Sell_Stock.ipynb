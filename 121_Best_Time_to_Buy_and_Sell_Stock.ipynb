{
  "nbformat": 4,
  "nbformat_minor": 0,
  "metadata": {
    "colab": {
      "name": "121. Best Time to Buy and Sell Stock.ipynb",
      "provenance": []
    },
    "kernelspec": {
      "name": "python3",
      "display_name": "Python 3"
    }
  },
  "cells": [
    {
      "cell_type": "markdown",
      "metadata": {
        "id": "b_Yc4YweWOMX"
      },
      "source": [
        "Say you have an array for which the ith element is the price of a given stock on day i.\n",
        "\n",
        "If you were only permitted to complete at most one transaction (i.e., buy one and sell one share of the stock), design an algorithm to find the maximum profit.\n",
        "\n",
        "Note that you cannot sell a stock before you buy one.\n",
        "\n",
        "![](https://i.imgur.com/0ueqgbz.png)"
      ]
    },
    {
      "cell_type": "code",
      "metadata": {
        "id": "kO6iMYvSWU57"
      },
      "source": [
        "class Solution:\n",
        "  def maxProfit(self, prices):\n",
        "    max_profit, min_price = 0, float(\"inf\")\n",
        "    for price in prices:\n",
        "      min_price = min(min_price, price)\n",
        "      max_profit = max(max_profit, price - min_price)\n",
        "    return max_profit"
      ],
      "execution_count": 1,
      "outputs": []
    },
    {
      "cell_type": "code",
      "metadata": {
        "id": "OAfaOkTXfsoH",
        "outputId": "f6c98801-50bb-4075-fa40-5d0d5129e256",
        "colab": {
          "base_uri": "https://localhost:8080/",
          "height": 34
        }
      },
      "source": [
        "prices1 = [7,1,5,3,6,4]\n",
        "prices2 = [7,6,4,3,1]\n",
        "Solution().maxProfit(prices1)"
      ],
      "execution_count": 2,
      "outputs": [
        {
          "output_type": "execute_result",
          "data": {
            "text/plain": [
              "5"
            ]
          },
          "metadata": {
            "tags": []
          },
          "execution_count": 2
        }
      ]
    },
    {
      "cell_type": "code",
      "metadata": {
        "id": "ITGwqiLjf58M",
        "outputId": "72a93ffa-591f-4a07-f583-750ef058c8e8",
        "colab": {
          "base_uri": "https://localhost:8080/",
          "height": 34
        }
      },
      "source": [
        "Solution().maxProfit(prices2)"
      ],
      "execution_count": 3,
      "outputs": [
        {
          "output_type": "execute_result",
          "data": {
            "text/plain": [
              "0"
            ]
          },
          "metadata": {
            "tags": []
          },
          "execution_count": 3
        }
      ]
    },
    {
      "cell_type": "code",
      "metadata": {
        "id": "tMYxbmnef8VL"
      },
      "source": [
        ""
      ],
      "execution_count": null,
      "outputs": []
    }
  ]
}