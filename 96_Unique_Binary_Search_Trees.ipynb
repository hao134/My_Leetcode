{
  "nbformat": 4,
  "nbformat_minor": 0,
  "metadata": {
    "colab": {
      "name": "96. Unique Binary Search Trees.ipynb",
      "provenance": []
    },
    "kernelspec": {
      "name": "python3",
      "display_name": "Python 3"
    }
  },
  "cells": [
    {
      "cell_type": "markdown",
      "metadata": {
        "id": "0AxUrEE46M4e"
      },
      "source": [
        "Given n, how many structurally unique BST's (binary search trees) that store values 1 ... n?\n",
        "\n",
        "![](https://i.imgur.com/Km3wphj.png)"
      ]
    },
    {
      "cell_type": "code",
      "metadata": {
        "colab": {
          "base_uri": "https://localhost:8080/"
        },
        "id": "ufxjattD6JcN",
        "outputId": "369d83fd-9462-47c5-a355-064a058609eb"
      },
      "source": [
        "[0] * (3+1)"
      ],
      "execution_count": 1,
      "outputs": [
        {
          "output_type": "execute_result",
          "data": {
            "text/plain": [
              "[0, 0, 0, 0]"
            ]
          },
          "metadata": {
            "tags": []
          },
          "execution_count": 1
        }
      ]
    },
    {
      "cell_type": "code",
      "metadata": {
        "id": "zFvM8Iy76RVA"
      },
      "source": [
        "class Solution:\n",
        "  def numTrees(self, n: int) -> int:\n",
        "    dp = [0] * (n + 1)\n",
        "    dp[0] = 1\n",
        "    for i in range(1, n+1):\n",
        "      for j in range(0, i):\n",
        "        dp[i] += dp[j] * dp[i - j - 1]\n",
        "    \n",
        "    return dp[n]"
      ],
      "execution_count": 2,
      "outputs": []
    },
    {
      "cell_type": "code",
      "metadata": {
        "colab": {
          "base_uri": "https://localhost:8080/"
        },
        "id": "YkuaujzA_0fP",
        "outputId": "7284cc95-7494-4c9e-cf31-81f9ac25f4bf"
      },
      "source": [
        "n = 4\n",
        "Solution().numTrees(n)"
      ],
      "execution_count": 6,
      "outputs": [
        {
          "output_type": "execute_result",
          "data": {
            "text/plain": [
              "14"
            ]
          },
          "metadata": {
            "tags": []
          },
          "execution_count": 6
        }
      ]
    },
    {
      "cell_type": "code",
      "metadata": {
        "id": "-QpKu28M_7Vx"
      },
      "source": [
        "# O(Time), O(Space)\n",
        "# = n^2, n"
      ],
      "execution_count": null,
      "outputs": []
    }
  ]
}