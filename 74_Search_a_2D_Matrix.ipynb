{
  "nbformat": 4,
  "nbformat_minor": 0,
  "metadata": {
    "colab": {
      "name": "74. Search a 2D Matrix.ipynb",
      "provenance": []
    },
    "kernelspec": {
      "name": "python3",
      "display_name": "Python 3"
    }
  },
  "cells": [
    {
      "cell_type": "markdown",
      "metadata": {
        "id": "77ZH5cyI45oW"
      },
      "source": [
        "Write an efficient algorithm that searches for a value in an m x n matrix. This matrix has the following properties:\n",
        "\n",
        "* Integers in each row are sorted from left to right.\n",
        "* The first integer of each row is greater than the last integer of the previous row.\n",
        "\n",
        "![](https://i.imgur.com/liEtyay.png)\n",
        "![](https://i.imgur.com/UtyjqiV.png)"
      ]
    },
    {
      "cell_type": "code",
      "metadata": {
        "id": "i2LBpHYm4uzp"
      },
      "source": [
        "from typing import List\n",
        "class Solution:\n",
        "  def searchMatrix(self, matrix: List[List[int]], target: int) -> bool:\n",
        "    if not matrix or len(matrix) == 0 or len(matrix[0]) == 0: return False\n",
        "    m, n = len(matrix), len(matrix[0])\n",
        "    lo, up = 0, m * n -1\n",
        "    while lo <= up:\n",
        "      mid = (lo + up) // 2\n",
        "      i, j = mid // n, mid % n\n",
        "      if target == matrix[i][j]: return True\n",
        "      elif target > matrix[i][j]: lo = mid + 1\n",
        "      else: up = mid -1\n",
        "    return False\n"
      ],
      "execution_count": 7,
      "outputs": []
    },
    {
      "cell_type": "code",
      "metadata": {
        "id": "voVMoDhzE-pd"
      },
      "source": [
        "matrix = [[1,3,5,7],[10,11,16,20],[23,30,34,50]]\n",
        "target = 13"
      ],
      "execution_count": 8,
      "outputs": []
    },
    {
      "cell_type": "code",
      "metadata": {
        "colab": {
          "base_uri": "https://localhost:8080/"
        },
        "id": "big3NP7oH7py",
        "outputId": "78842e79-2e12-4052-92db-c1eab658e23f"
      },
      "source": [
        "Solution().searchMatrix(matrix, target)"
      ],
      "execution_count": 9,
      "outputs": [
        {
          "output_type": "execute_result",
          "data": {
            "text/plain": [
              "False"
            ]
          },
          "metadata": {
            "tags": []
          },
          "execution_count": 9
        }
      ]
    },
    {
      "cell_type": "code",
      "metadata": {
        "id": "KxBv6zhpIAgj"
      },
      "source": [
        "matrix = [[1,3,5,7],[10,11,16,20],[23,30,34,50]]\n",
        "target = 34"
      ],
      "execution_count": 12,
      "outputs": []
    },
    {
      "cell_type": "code",
      "metadata": {
        "colab": {
          "base_uri": "https://localhost:8080/"
        },
        "id": "8QB4xhOtIFCB",
        "outputId": "cbc12dbb-9771-4dd3-fe10-ac81eeae8349"
      },
      "source": [
        "Solution().searchMatrix(matrix, target)"
      ],
      "execution_count": 13,
      "outputs": [
        {
          "output_type": "execute_result",
          "data": {
            "text/plain": [
              "True"
            ]
          },
          "metadata": {
            "tags": []
          },
          "execution_count": 13
        }
      ]
    }
  ]
}