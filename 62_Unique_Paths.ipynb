{
  "nbformat": 4,
  "nbformat_minor": 0,
  "metadata": {
    "colab": {
      "name": "62. Unique Paths.ipynb",
      "provenance": []
    },
    "kernelspec": {
      "name": "python3",
      "display_name": "Python 3"
    }
  },
  "cells": [
    {
      "cell_type": "markdown",
      "metadata": {
        "id": "iBqx3zpt0FNt"
      },
      "source": [
        "A robot is located at the top-left corner of a m x n grid (marked 'Start' in the diagram below).\n",
        "\n",
        "The robot can only move either down or right at any point in time. The robot is trying to reach the bottom-right corner of the grid (marked 'Finish' in the diagram below).\n",
        "\n",
        "How many possible unique paths are there?\n",
        "\n",
        "![](https://i.imgur.com/I00bMFJ.png)"
      ]
    },
    {
      "cell_type": "code",
      "metadata": {
        "colab": {
          "base_uri": "https://localhost:8080/"
        },
        "id": "ycFF5W6S0T_9",
        "outputId": "086fb685-ccaa-4d32-a7e7-7c321dbae681"
      },
      "source": [
        "m = 3\n",
        "n = 7\n",
        "test = [[0 for i in range(n)] for j in range(m)]\n",
        "test"
      ],
      "execution_count": 29,
      "outputs": [
        {
          "output_type": "execute_result",
          "data": {
            "text/plain": [
              "[[0, 0, 0, 0, 0, 0, 0], [0, 0, 0, 0, 0, 0, 0], [0, 0, 0, 0, 0, 0, 0]]"
            ]
          },
          "metadata": {
            "tags": []
          },
          "execution_count": 29
        }
      ]
    },
    {
      "cell_type": "code",
      "metadata": {
        "colab": {
          "base_uri": "https://localhost:8080/"
        },
        "id": "07A_Rbg159ed",
        "outputId": "b56d07ad-2c00-4902-d3e8-bebcae4bcbb2"
      },
      "source": [
        "for i in range(m):\n",
        "  test[i][0] = 1\n",
        "for j in range(n):\n",
        "   test[0][j] = 1\n",
        "test"
      ],
      "execution_count": 32,
      "outputs": [
        {
          "output_type": "execute_result",
          "data": {
            "text/plain": [
              "[[1, 1, 1, 1, 1, 1, 1], [1, 0, 0, 0, 0, 0, 0], [1, 0, 0, 0, 0, 0, 0]]"
            ]
          },
          "metadata": {
            "tags": []
          },
          "execution_count": 32
        }
      ]
    },
    {
      "cell_type": "code",
      "metadata": {
        "id": "0bpfs4VS4v7H"
      },
      "source": [
        "class Solution:\n",
        "    def uniquePaths(self, m: int, n: int) -> int:\n",
        "        ##1 use list comprehensive\n",
        "        #dp = [[0 for i in range(m)] for j in range(n)]\n",
        "        ##2 use for loop\n",
        "        dp = []\n",
        "        for i in range(n):\n",
        "            empty = []\n",
        "            for j in range(m):\n",
        "                empty.append(0)\n",
        "            dp.append(empty)\n",
        "            \n",
        "            \n",
        "        for i in range(m):\n",
        "            dp[0][i] = 1\n",
        "        \n",
        "        for i in range(n):\n",
        "            dp[i][0] = 1\n",
        "            \n",
        "        for i in range(1,n):\n",
        "            for j in range(1,m):\n",
        "                dp[i][j] = dp[i-1][j] + dp[i][j-1]\n",
        "        \n",
        "        return dp[-1][-1]        \n",
        "        "
      ],
      "execution_count": 50,
      "outputs": []
    },
    {
      "cell_type": "code",
      "metadata": {
        "colab": {
          "base_uri": "https://localhost:8080/"
        },
        "id": "QjB5dtp665aS",
        "outputId": "cccb06db-2f88-4f69-d5c0-861d938e9c8e"
      },
      "source": [
        "m = 7\n",
        "n = 3\n",
        "Solution().uniquePaths(m,n)"
      ],
      "execution_count": 51,
      "outputs": [
        {
          "output_type": "execute_result",
          "data": {
            "text/plain": [
              "28"
            ]
          },
          "metadata": {
            "tags": []
          },
          "execution_count": 51
        }
      ]
    },
    {
      "cell_type": "code",
      "metadata": {
        "colab": {
          "base_uri": "https://localhost:8080/"
        },
        "id": "3BiqvADx7Tcv",
        "outputId": "1a5e91d0-d5f0-4737-acf1-e846128465ca"
      },
      "source": [
        "m = 7\n",
        "n = 3\n",
        "[[0 for i in range(m)] for j in range(n)]"
      ],
      "execution_count": 45,
      "outputs": [
        {
          "output_type": "execute_result",
          "data": {
            "text/plain": [
              "[[0, 0, 0, 0, 0, 0, 0], [0, 0, 0, 0, 0, 0, 0], [0, 0, 0, 0, 0, 0, 0]]"
            ]
          },
          "metadata": {
            "tags": []
          },
          "execution_count": 45
        }
      ]
    },
    {
      "cell_type": "code",
      "metadata": {
        "colab": {
          "base_uri": "https://localhost:8080/"
        },
        "id": "VPDhhjHN9rRs",
        "outputId": "8c06d730-5c81-4487-d950-71dff0f2018c"
      },
      "source": [
        "dp = []\n",
        "for i in range(n):\n",
        "  empty = []\n",
        "  for j in range(m):\n",
        "    empty.append(0)\n",
        "  dp.append(empty)\n",
        "dp\n"
      ],
      "execution_count": 49,
      "outputs": [
        {
          "output_type": "execute_result",
          "data": {
            "text/plain": [
              "[[0, 0, 0, 0, 0, 0, 0], [0, 0, 0, 0, 0, 0, 0], [0, 0, 0, 0, 0, 0, 0]]"
            ]
          },
          "metadata": {
            "tags": []
          },
          "execution_count": 49
        }
      ]
    },
    {
      "cell_type": "code",
      "metadata": {
        "colab": {
          "base_uri": "https://localhost:8080/"
        },
        "id": "nJ4mTfFy_8Wu",
        "outputId": "e07900db-c0dc-4e86-c0be-6e707a043018"
      },
      "source": [
        "rows, cols = (5, 5) \n",
        "arr=[] \n",
        "for i in range(cols): \n",
        "    col = [] \n",
        "    for j in range(rows): \n",
        "        col.append(0) \n",
        "    arr.append(col) \n",
        "print(arr) "
      ],
      "execution_count": 48,
      "outputs": [
        {
          "output_type": "stream",
          "text": [
            "[[0, 0, 0, 0, 0], [0, 0, 0, 0, 0], [0, 0, 0, 0, 0], [0, 0, 0, 0, 0], [0, 0, 0, 0, 0]]\n"
          ],
          "name": "stdout"
        }
      ]
    },
    {
      "cell_type": "code",
      "metadata": {
        "id": "T8WmdV8f_9K5"
      },
      "source": [
        ""
      ],
      "execution_count": null,
      "outputs": []
    }
  ]
}