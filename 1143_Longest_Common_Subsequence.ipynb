{
  "nbformat": 4,
  "nbformat_minor": 0,
  "metadata": {
    "colab": {
      "name": "1143. Longest Common Subsequence.ipynb",
      "provenance": []
    },
    "kernelspec": {
      "name": "python3",
      "display_name": "Python 3"
    }
  },
  "cells": [
    {
      "cell_type": "markdown",
      "metadata": {
        "id": "i6rv8pPwCw3E"
      },
      "source": [
        "Given two strings text1 and text2, return the length of their longest common subsequence.\n",
        "\n",
        "A subsequence of a string is a new string generated from the original string with some characters(can be none) deleted without changing the relative order of the remaining characters. (eg, \"ace\" is a subsequence of \"abcde\" while \"aec\" is not). A common subsequence of two strings is a subsequence that is common to both strings.\n",
        "\n",
        " \n",
        "\n",
        "If there is no common subsequence, return 0.\n",
        "\n",
        "![](https://i.imgur.com/ychWTHN.png)"
      ]
    },
    {
      "cell_type": "code",
      "metadata": {
        "id": "d4b6nZPcCvja"
      },
      "source": [
        "class Solution:\n",
        "    def longestCommonSubsequence(self, t1: str, t2: str) -> int:\n",
        "        rows, cols = len(t1), len(t2)\n",
        "        dp = [[0]*(cols+1) for _ in range(rows+1)]\n",
        "        for i in range(1, rows+1):\n",
        "            for j in range(1, cols+1):\n",
        "                if t1[i-1] == t2[j-1]:\n",
        "                    dp[i][j] = dp[i-1][j-1] +1\n",
        "                else:\n",
        "                    dp[i][j] = max(dp[i][j-1], dp[i-1][j])\n",
        "        return dp[-1][-1]"
      ],
      "execution_count": 12,
      "outputs": []
    },
    {
      "cell_type": "code",
      "metadata": {
        "colab": {
          "base_uri": "https://localhost:8080/"
        },
        "id": "qZsZfQlbC6Z1",
        "outputId": "db7e0e47-01f7-4b14-9c48-b46a575cd273"
      },
      "source": [
        "text1 = \"abcde\"\n",
        "text2 = \"ace\"\n",
        "Solution().longestCommonSubsequence(text1, text2)"
      ],
      "execution_count": 13,
      "outputs": [
        {
          "output_type": "execute_result",
          "data": {
            "text/plain": [
              "3"
            ]
          },
          "metadata": {
            "tags": []
          },
          "execution_count": 13
        }
      ]
    },
    {
      "cell_type": "code",
      "metadata": {
        "id": "sM9yzYDSF1cM"
      },
      "source": [
        "class Solution:\n",
        "    def longestCommonSubsequence(self, t1: str, t2: str) -> int:\n",
        "        rows, cols = len(t1), len(t2)\n",
        "        dp = [[0]*(cols+1) for _ in range(rows+1)]\n",
        "        for i in range(1, rows+1):\n",
        "            for j in range(1, cols+1):\n",
        "                if t1[i-1] == t2[j-1]:\n",
        "                    dp[i][j] = dp[i-1][j-1] +1\n",
        "                else:\n",
        "                    dp[i][j] = max(dp[i][j-1], dp[i-1][j])\n",
        "        return dp"
      ],
      "execution_count": 14,
      "outputs": []
    },
    {
      "cell_type": "code",
      "metadata": {
        "colab": {
          "base_uri": "https://localhost:8080/"
        },
        "id": "1iXM-S1tHpQ9",
        "outputId": "f151d8d5-63d2-44cf-8c10-8a1ea0b7c6d2"
      },
      "source": [
        "text1 = \"abcde\"\n",
        "text2 = \"ace\"\n",
        "Solution().longestCommonSubsequence(text1, text2)"
      ],
      "execution_count": 15,
      "outputs": [
        {
          "output_type": "execute_result",
          "data": {
            "text/plain": [
              "[[0, 0, 0, 0],\n",
              " [0, 1, 1, 1],\n",
              " [0, 1, 1, 1],\n",
              " [0, 1, 2, 2],\n",
              " [0, 1, 2, 2],\n",
              " [0, 1, 2, 3]]"
            ]
          },
          "metadata": {
            "tags": []
          },
          "execution_count": 15
        }
      ]
    },
    {
      "cell_type": "code",
      "metadata": {
        "id": "zvdaEEH0HqaQ"
      },
      "source": [
        ""
      ],
      "execution_count": null,
      "outputs": []
    }
  ]
}