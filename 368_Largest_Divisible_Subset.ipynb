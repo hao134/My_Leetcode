{
  "nbformat": 4,
  "nbformat_minor": 0,
  "metadata": {
    "colab": {
      "name": "368. Largest Divisible Subset.ipynb",
      "provenance": []
    },
    "kernelspec": {
      "name": "python3",
      "display_name": "Python 3"
    }
  },
  "cells": [
    {
      "cell_type": "markdown",
      "metadata": {
        "id": "CM2g1rGEny6z"
      },
      "source": [
        "![](https://i.imgur.com/LwSewI5.png)"
      ]
    },
    {
      "cell_type": "code",
      "metadata": {
        "id": "l5qXSg-Znqhx"
      },
      "source": [
        "from typing import List\n",
        "class Solution:\n",
        "  def largestDivisibleSubset(self, nums: List[int]) -> List[int]:\n",
        "    res = []\n",
        "    if not nums: return res\n",
        "    n = len(nums)\n",
        "    nums.sort()\n",
        "    dp, lidx = [1]*n, [-1] * n\n",
        "    max_dp, max_idx = 1, 0\n",
        "    for i in range(n):\n",
        "      for j in range(i -1, -1, -1):\n",
        "        if nums[i] % nums[j] == 0 and dp[i] < dp[j] + 1:\n",
        "          dp[i] = dp[j] + 1\n",
        "          lidx[i] = j\n",
        "      if max_idx < dp[i]:\n",
        "        max_dp = dp[i]\n",
        "        max_idx = i\n",
        "    i = max_idx\n",
        "    while i != -1:\n",
        "      res.append(nums[i])\n",
        "      i = lidx[i]\n",
        "    return res"
      ],
      "execution_count": 1,
      "outputs": []
    },
    {
      "cell_type": "code",
      "metadata": {
        "colab": {
          "base_uri": "https://localhost:8080/"
        },
        "id": "eJMBDSvjnzcZ",
        "outputId": "be03bea4-2cb4-4ef9-848b-3e98ce0f9826"
      },
      "source": [
        "nums = [1,2,3]\n",
        "Solution().largestDivisibleSubset(nums)"
      ],
      "execution_count": 2,
      "outputs": [
        {
          "output_type": "execute_result",
          "data": {
            "text/plain": [
              "[3, 1]"
            ]
          },
          "metadata": {
            "tags": []
          },
          "execution_count": 2
        }
      ]
    },
    {
      "cell_type": "code",
      "metadata": {
        "id": "W4bgL-8-zgoC"
      },
      "source": [
        ""
      ],
      "execution_count": null,
      "outputs": []
    }
  ]
}