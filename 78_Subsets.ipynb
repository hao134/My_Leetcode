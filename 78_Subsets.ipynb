{
  "nbformat": 4,
  "nbformat_minor": 0,
  "metadata": {
    "colab": {
      "name": "78. Subsets.ipynb",
      "provenance": []
    },
    "kernelspec": {
      "name": "python3",
      "display_name": "Python 3"
    }
  },
  "cells": [
    {
      "cell_type": "markdown",
      "metadata": {
        "id": "w_jrVGgWKjY_"
      },
      "source": [
        "Given an integer array nums, return all possible subsets (the power set).\n",
        "\n",
        "The solution set must not contain duplicate subsets.\n",
        "\n",
        "![](https://i.imgur.com/BJSh6C2.png)"
      ]
    },
    {
      "cell_type": "code",
      "metadata": {
        "id": "tVyjrz1FKqUD"
      },
      "source": [
        "from typing import List\n",
        "class Solution:\n",
        "  def subsets(self, nums: List[int]) -> List[List[int]]:\n",
        "    res, subset = [], []\n",
        "    self.backtrack(res, subset, nums, 0)\n",
        "    return res \n",
        "  \n",
        "  def backtrack(self, res: List[List[int]], subset: List[int], nums: List[int], i: int):\n",
        "    if i == len(nums):\n",
        "      res.append(subset.copy())\n",
        "      print(\"resfinal and i {} {}\".format(res, i))\n",
        "    else:\n",
        "      #print(\"res2\",res)\n",
        "      self.backtrack(res, subset, nums, i + 1)\n",
        "      print(\"res1 and i {} {}\".format(res,i))\n",
        "      subset.append(nums[i])\n",
        "      print(\"subset\",subset)\n",
        "      self.backtrack(res, subset, nums, i + 1)\n",
        "      print(\"res2 and i {} {}\".format(res,i))\n",
        "      subset.pop()"
      ],
      "execution_count": 46,
      "outputs": []
    },
    {
      "cell_type": "code",
      "metadata": {
        "colab": {
          "base_uri": "https://localhost:8080/"
        },
        "id": "OWF-Oi5hXInN",
        "outputId": "d6b494b2-924d-4516-c2b2-1d15e04b0d43"
      },
      "source": [
        "nums = [1, 2, 3]\n",
        "Solution().subsets(nums)"
      ],
      "execution_count": 47,
      "outputs": [
        {
          "output_type": "stream",
          "text": [
            "resfinal and i [[]] 3\n",
            "res1 and i [[]] 2\n",
            "subset [3]\n",
            "resfinal and i [[], [3]] 3\n",
            "res2 and i [[], [3]] 2\n",
            "res1 and i [[], [3]] 1\n",
            "subset [2]\n",
            "resfinal and i [[], [3], [2]] 3\n",
            "res1 and i [[], [3], [2]] 2\n",
            "subset [2, 3]\n",
            "resfinal and i [[], [3], [2], [2, 3]] 3\n",
            "res2 and i [[], [3], [2], [2, 3]] 2\n",
            "res2 and i [[], [3], [2], [2, 3]] 1\n",
            "res1 and i [[], [3], [2], [2, 3]] 0\n",
            "subset [1]\n",
            "resfinal and i [[], [3], [2], [2, 3], [1]] 3\n",
            "res1 and i [[], [3], [2], [2, 3], [1]] 2\n",
            "subset [1, 3]\n",
            "resfinal and i [[], [3], [2], [2, 3], [1], [1, 3]] 3\n",
            "res2 and i [[], [3], [2], [2, 3], [1], [1, 3]] 2\n",
            "res1 and i [[], [3], [2], [2, 3], [1], [1, 3]] 1\n",
            "subset [1, 2]\n",
            "resfinal and i [[], [3], [2], [2, 3], [1], [1, 3], [1, 2]] 3\n",
            "res1 and i [[], [3], [2], [2, 3], [1], [1, 3], [1, 2]] 2\n",
            "subset [1, 2, 3]\n",
            "resfinal and i [[], [3], [2], [2, 3], [1], [1, 3], [1, 2], [1, 2, 3]] 3\n",
            "res2 and i [[], [3], [2], [2, 3], [1], [1, 3], [1, 2], [1, 2, 3]] 2\n",
            "res2 and i [[], [3], [2], [2, 3], [1], [1, 3], [1, 2], [1, 2, 3]] 1\n",
            "res2 and i [[], [3], [2], [2, 3], [1], [1, 3], [1, 2], [1, 2, 3]] 0\n"
          ],
          "name": "stdout"
        },
        {
          "output_type": "execute_result",
          "data": {
            "text/plain": [
              "[[], [3], [2], [2, 3], [1], [1, 3], [1, 2], [1, 2, 3]]"
            ]
          },
          "metadata": {
            "tags": []
          },
          "execution_count": 47
        }
      ]
    },
    {
      "cell_type": "code",
      "metadata": {
        "colab": {
          "base_uri": "https://localhost:8080/",
          "height": 215
        },
        "id": "pfD8-vYPx860",
        "outputId": "98669ba7-5c63-4383-db2e-b981ca82c24c"
      },
      "source": [
        "nums = [1, 2, 3]\n",
        "subset = []\n",
        "subset.append(nums[3])\n",
        "subset"
      ],
      "execution_count": 36,
      "outputs": [
        {
          "output_type": "error",
          "ename": "IndexError",
          "evalue": "ignored",
          "traceback": [
            "\u001b[0;31m---------------------------------------------------------------------------\u001b[0m",
            "\u001b[0;31mIndexError\u001b[0m                                Traceback (most recent call last)",
            "\u001b[0;32m<ipython-input-36-af97674827fd>\u001b[0m in \u001b[0;36m<module>\u001b[0;34m()\u001b[0m\n\u001b[1;32m      1\u001b[0m \u001b[0mnums\u001b[0m \u001b[0;34m=\u001b[0m \u001b[0;34m[\u001b[0m\u001b[0;36m1\u001b[0m\u001b[0;34m,\u001b[0m \u001b[0;36m2\u001b[0m\u001b[0;34m,\u001b[0m \u001b[0;36m3\u001b[0m\u001b[0;34m]\u001b[0m\u001b[0;34m\u001b[0m\u001b[0;34m\u001b[0m\u001b[0m\n\u001b[1;32m      2\u001b[0m \u001b[0msubset\u001b[0m \u001b[0;34m=\u001b[0m \u001b[0;34m[\u001b[0m\u001b[0;34m]\u001b[0m\u001b[0;34m\u001b[0m\u001b[0;34m\u001b[0m\u001b[0m\n\u001b[0;32m----> 3\u001b[0;31m \u001b[0msubset\u001b[0m\u001b[0;34m.\u001b[0m\u001b[0mappend\u001b[0m\u001b[0;34m(\u001b[0m\u001b[0mnums\u001b[0m\u001b[0;34m[\u001b[0m\u001b[0;36m3\u001b[0m\u001b[0;34m]\u001b[0m\u001b[0;34m)\u001b[0m\u001b[0;34m\u001b[0m\u001b[0;34m\u001b[0m\u001b[0m\n\u001b[0m\u001b[1;32m      4\u001b[0m \u001b[0msubset\u001b[0m\u001b[0;34m\u001b[0m\u001b[0;34m\u001b[0m\u001b[0m\n",
            "\u001b[0;31mIndexError\u001b[0m: list index out of range"
          ]
        }
      ]
    },
    {
      "cell_type": "code",
      "metadata": {
        "colab": {
          "base_uri": "https://localhost:8080/",
          "height": 181
        },
        "id": "9wEpvL_vZUjX",
        "outputId": "97dd0aa0-9e65-4107-f294-f3786a54a4e8"
      },
      "source": [
        "res = []\n",
        "print(res.pop())"
      ],
      "execution_count": 21,
      "outputs": [
        {
          "output_type": "error",
          "ename": "IndexError",
          "evalue": "ignored",
          "traceback": [
            "\u001b[0;31m---------------------------------------------------------------------------\u001b[0m",
            "\u001b[0;31mIndexError\u001b[0m                                Traceback (most recent call last)",
            "\u001b[0;32m<ipython-input-21-5e0412281a18>\u001b[0m in \u001b[0;36m<module>\u001b[0;34m()\u001b[0m\n\u001b[1;32m      1\u001b[0m \u001b[0mres\u001b[0m \u001b[0;34m=\u001b[0m \u001b[0;34m[\u001b[0m\u001b[0;34m]\u001b[0m\u001b[0;34m\u001b[0m\u001b[0;34m\u001b[0m\u001b[0m\n\u001b[0;32m----> 2\u001b[0;31m \u001b[0mprint\u001b[0m\u001b[0;34m(\u001b[0m\u001b[0mres\u001b[0m\u001b[0;34m.\u001b[0m\u001b[0mpop\u001b[0m\u001b[0;34m(\u001b[0m\u001b[0;34m)\u001b[0m\u001b[0;34m)\u001b[0m\u001b[0;34m\u001b[0m\u001b[0;34m\u001b[0m\u001b[0m\n\u001b[0m",
            "\u001b[0;31mIndexError\u001b[0m: pop from empty list"
          ]
        }
      ]
    },
    {
      "cell_type": "code",
      "metadata": {
        "id": "tj_VpQlvqjR0"
      },
      "source": [
        ""
      ],
      "execution_count": null,
      "outputs": []
    }
  ]
}