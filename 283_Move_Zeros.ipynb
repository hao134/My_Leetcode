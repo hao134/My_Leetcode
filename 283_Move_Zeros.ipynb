{
  "nbformat": 4,
  "nbformat_minor": 0,
  "metadata": {
    "colab": {
      "name": "283 Move_Zeros",
      "provenance": []
    },
    "kernelspec": {
      "name": "python3",
      "display_name": "Python 3"
    }
  },
  "cells": [
    {
      "cell_type": "markdown",
      "metadata": {
        "id": "qVVvl3Q3rd06"
      },
      "source": [
        "Given an array nums, write a function to move all 0's to the end of it while maintaining the relative order of the non-zero elements.\n",
        "\n",
        "![](https://i.imgur.com/xLYftkV.png)"
      ]
    },
    {
      "cell_type": "code",
      "metadata": {
        "id": "57lDpecRroOj"
      },
      "source": [
        "class Solution:\n",
        "  def moveZeroes(self, nums) -> None:\n",
        "      \"\"\"\n",
        "      Do not return anything, modify nums in-place instead.\n",
        "      \"\"\"\n",
        "    pos = 0 \n",
        "    for i in range(len(nums)):\n",
        "      if nums[i]:\n",
        "        nums[pos] = nums[i]\n",
        "        pos += 1\n",
        "    for i in range(pos, len(nums)):\n",
        "      nums[i] = 0\n"
      ],
      "execution_count": null,
      "outputs": []
    }
  ]
}