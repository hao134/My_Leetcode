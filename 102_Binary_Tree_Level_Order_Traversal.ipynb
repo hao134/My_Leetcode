{
  "nbformat": 4,
  "nbformat_minor": 0,
  "metadata": {
    "colab": {
      "name": "102. Binary Tree Level Order Traversal.ipynb",
      "provenance": []
    },
    "kernelspec": {
      "name": "python3",
      "display_name": "Python 3"
    }
  },
  "cells": [
    {
      "cell_type": "markdown",
      "metadata": {
        "id": "0_6Wf-N_SH0y"
      },
      "source": [
        "Given a binary tree, return the level order traversal of its nodes' values. (ie, from left to right, level by level).\n",
        "\n",
        "For example:\n",
        "Given binary tree [3,9,20,null,null,15,7],\n",
        "\n",
        "![](https://i.imgur.com/oMtuD9x.png)"
      ]
    },
    {
      "cell_type": "code",
      "metadata": {
        "id": "RyqjSou5SdE_"
      },
      "source": [
        "### Solution 1 -> Queue\n",
        "from collections import deque\n",
        "from typing import List\n",
        "class TreeNode:\n",
        "    def __init__(self, val=0, left=None, right=None):\n",
        "        self.val = val\n",
        "        self.left = left\n",
        "        self.right = right\n",
        "class Solution:\n",
        "    def levelOrder(self, root: TreeNode) -> List[List[int]]:\n",
        "      res = []\n",
        "      if not root: return res\n",
        "      q = deque([root])\n",
        "      while q:\n",
        "        cnt = len(q)\n",
        "        level = []\n",
        "        for _ in range(cnt):\n",
        "          node = q.popleft()\n",
        "          level.append(node.val)\n",
        "          if node.left: q.append(node.left)\n",
        "          if node.right: q.append(node.right)\n",
        "        res.append(level)\n",
        "      return res"
      ],
      "execution_count": 2,
      "outputs": []
    },
    {
      "cell_type": "code",
      "metadata": {
        "id": "c0Ssqupol-Vk"
      },
      "source": [
        ""
      ],
      "execution_count": null,
      "outputs": []
    }
  ]
}