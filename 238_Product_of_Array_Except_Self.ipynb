{
  "nbformat": 4,
  "nbformat_minor": 0,
  "metadata": {
    "colab": {
      "name": "238. Product of Array Except Self.ipynb",
      "provenance": []
    },
    "kernelspec": {
      "name": "python3",
      "display_name": "Python 3"
    }
  },
  "cells": [
    {
      "cell_type": "markdown",
      "metadata": {
        "id": "OpU123vtEWjB"
      },
      "source": [
        "![](https://i.imgur.com/dMpXa7Y.png)"
      ]
    },
    {
      "cell_type": "code",
      "metadata": {
        "id": "XGJ5dMm9ETi3"
      },
      "source": [
        "from typing import List\n",
        "class Solution:\n",
        "  def productExceptSelf(self, nums: List[int]) -> List[int]:\n",
        "    \"\"\"\n",
        "    nums    2      3      4      5\n",
        "    l(eft)         2      2*3    2*3*4\n",
        "    r(ight) 3*4*5  4*5    5   \n",
        "    \"\"\"\n",
        "    n = len(nums)\n",
        "    res = [0]* n \n",
        "    res[0] = 1\n",
        "\n",
        "    # left side\n",
        "    for i in range(1, n):\n",
        "      res[i] = res[i-1] * nums[i-1]\n",
        "\n",
        "    # right side\n",
        "    r = 1\n",
        "    for i in range(n-1,-1,-1):\n",
        "      res[i] *= r\n",
        "      r *= nums[i]\n",
        "\n",
        "    return res\n",
        "\n",
        "        "
      ],
      "execution_count": 16,
      "outputs": []
    },
    {
      "cell_type": "code",
      "metadata": {
        "colab": {
          "base_uri": "https://localhost:8080/"
        },
        "id": "UGJUXSmIEch7",
        "outputId": "fe4eec51-8313-43f3-e1fb-0c2fb51e4f09"
      },
      "source": [
        "nums = [1,2,3,4]\n",
        "Solution().productExceptSelf(nums)"
      ],
      "execution_count": 17,
      "outputs": [
        {
          "output_type": "execute_result",
          "data": {
            "text/plain": [
              "[24, 12, 8, 6]"
            ]
          },
          "metadata": {
            "tags": []
          },
          "execution_count": 17
        }
      ]
    },
    {
      "cell_type": "code",
      "metadata": {
        "id": "OUP3Mx9WRiYt"
      },
      "source": [
        ""
      ],
      "execution_count": null,
      "outputs": []
    }
  ]
}