{
  "nbformat": 4,
  "nbformat_minor": 0,
  "metadata": {
    "colab": {
      "name": "819. Most Common Word.ipynb",
      "provenance": []
    },
    "kernelspec": {
      "name": "python3",
      "display_name": "Python 3"
    }
  },
  "cells": [
    {
      "cell_type": "markdown",
      "metadata": {
        "id": "UcCIXp1IHBWG"
      },
      "source": [
        "Given a paragraph and a list of banned words, return the most frequent word that is not in the list of banned words.  It is guaranteed there is at least one word that isn't banned, and that the answer is unique.\n",
        "\n",
        "Words in the list of banned words are given in lowercase, and free of punctuation.  Words in the paragraph are not case sensitive.  The answer is in lowercase.\n",
        "\n",
        "![](https://i.imgur.com/D0QA7Ej.png)"
      ]
    },
    {
      "cell_type": "code",
      "metadata": {
        "id": "gX79QbovHcrb"
      },
      "source": [
        "from typing import List\n",
        "class Solution:\n",
        "    def __init__(self):\n",
        "        self.res = \"\"\n",
        "        self.maxcnt = 0\n",
        "    \n",
        "    class TrieNode:\n",
        "        def __init__(self):\n",
        "            self.word = \"\"\n",
        "            self.cnt = 0\n",
        "            self.links = [None] * 26\n",
        "    \n",
        "    def insert(self, r: TrieNode, s:str):\n",
        "        curr = r\n",
        "        for i in s:\n",
        "            index = ord(i) - ord('a')\n",
        "            if curr.links[index] is None:\n",
        "                curr.links[index] = self.TrieNode()\n",
        "                curr.links[index].word = curr.word + i\n",
        "            curr = curr.links[index]\n",
        "        curr.cnt += 1\n",
        "    \n",
        "    def ban(self, r:TrieNode, s:str):\n",
        "        curr = r\n",
        "        for i in s:\n",
        "            index = ord(i) - ord('a')\n",
        "            if curr.links[index] is None: return\n",
        "            curr = curr.links[index]\n",
        "        curr.cnt = 0\n",
        "    \n",
        "    def findMax(self, curr: TrieNode):\n",
        "        if curr is None: return\n",
        "        if curr.cnt > self.maxcnt:\n",
        "            self.res = curr.word\n",
        "            self.maxcnt = curr.cnt\n",
        "        for i in range(len(curr.links)): ## DFS\n",
        "            self.findMax(curr.links[i])\n",
        "    \n",
        "    def mostCommonWord(self, paragraph: str, banned: List[str]) -> str:\n",
        "        root = self.TrieNode()\n",
        "        words = re.findall(r'\\w+',paragraph.lower())\n",
        "        for word in words:\n",
        "            self.insert(root, word)\n",
        "        for s in set(banned):\n",
        "            self.ban(root, s)\n",
        "        self.findMax(root)\n",
        "        \n",
        "        return self.res\n",
        "### solution2\n",
        "        # def mostCommonWord(self, paragraph: str, banned: List[str]) -> str:\n",
        "        #     ban = set(banned)\n",
        "        #     words = re.findall(r'\\w+', paragraph.lower())\n",
        "        # return collections.Counter(w for w in words if w not in ban).most_common(1)[0][0]"
      ],
      "execution_count": 1,
      "outputs": []
    },
    {
      "cell_type": "code",
      "metadata": {
        "id": "o2BBN05IHpBq"
      },
      "source": [
        ""
      ],
      "execution_count": null,
      "outputs": []
    }
  ]
}