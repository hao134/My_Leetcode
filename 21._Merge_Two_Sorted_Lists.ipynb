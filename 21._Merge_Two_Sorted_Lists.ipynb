{
 "cells": [
  {
   "cell_type": "markdown",
   "metadata": {},
   "source": [
    "### 21. Merge Two Sorted Lists\n",
    "Merge two sorted linked lists and return it as a new list. The new list should be made by splicing together the nodes of the first two lists.\n",
    "\n",
    "Example:\n",
    "```python=\n",
    "Input: 1->2->4, 1->3->4\n",
    "Output: 1->1->2->3->4->4\n",
    "```"
   ]
  },
  {
   "cell_type": "code",
   "execution_count": 18,
   "metadata": {},
   "outputs": [],
   "source": [
    "# first Solution\n",
    "class ListNode:\n",
    "    def __init__(self, x):\n",
    "        self.val = x\n",
    "        self.next = None\n",
    "\n",
    "class Solution:\n",
    "    def mergeTwoLists(self, l1: ListNode, l2: ListNode) -> ListNode:\n",
    "        if l1 is None and l2 is None:\n",
    "            return None\n",
    "        elif l1 is None and l2 is not None:\n",
    "            return l2\n",
    "        elif l1 is not None and l2 is None:\n",
    "            return l1\n",
    "        else:\n",
    "            if l1.val < l2.val:\n",
    "                n = ListNode(l1.val)      \n",
    "                n.next = self.mergeTwoLists(l1.next, l2)\n",
    "                return n \n",
    "            else:\n",
    "                m = ListNode(l2.val)\n",
    "                m.next = self.mergeTwoLists(l1,l2.next)\n",
    "                return m"
   ]
  },
  {
   "cell_type": "code",
   "execution_count": 28,
   "metadata": {},
   "outputs": [],
   "source": [
    "# second Solution \n",
    "class Solution:\n",
    "    def mergeTwoLists(self, l1:ListNode, l2: ListNode) -> ListNode:\n",
    "        curr = dummy = ListNode(0)\n",
    "        \n",
    "        while l1 and l2:          # travel all the datas in l1 and l2\n",
    "            if l1.val < l2.val:\n",
    "                curr.next = l1    # the next is l1, because l1 is smaller\n",
    "                l1 = l1.next      # renew the l1\n",
    "            else: \n",
    "                curr.next = l2\n",
    "                l2 = l2.next\n",
    "            curr = curr.next\n",
    "            \n",
    "        curr.next = l1 or l2\n",
    "        return dummy.next"
   ]
  },
  {
   "cell_type": "code",
   "execution_count": null,
   "metadata": {},
   "outputs": [],
   "source": []
  }
 ],
 "metadata": {
  "kernelspec": {
   "display_name": "Python 3",
   "language": "python",
   "name": "python3"
  },
  "language_info": {
   "codemirror_mode": {
    "name": "ipython",
    "version": 3
   },
   "file_extension": ".py",
   "mimetype": "text/x-python",
   "name": "python",
   "nbconvert_exporter": "python",
   "pygments_lexer": "ipython3",
   "version": "3.7.1"
  }
 },
 "nbformat": 4,
 "nbformat_minor": 2
}
