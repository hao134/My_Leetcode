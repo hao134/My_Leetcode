{
  "nbformat": 4,
  "nbformat_minor": 0,
  "metadata": {
    "colab": {
      "name": "91. Decode Ways.ipynb",
      "provenance": []
    },
    "kernelspec": {
      "name": "python3",
      "display_name": "Python 3"
    }
  },
  "cells": [
    {
      "cell_type": "markdown",
      "metadata": {
        "id": "8hrDoBSXlDyz"
      },
      "source": [
        "A message containing letters from A-Z is being encoded to numbers using the following mapping:\n",
        "\n",
        "![](https://i.imgur.com/fVsyEIG.png)\n",
        "![](https://i.imgur.com/EQI7TUA.png)"
      ]
    },
    {
      "cell_type": "code",
      "metadata": {
        "id": "XfuWB64qlAxr"
      },
      "source": [
        "class Solution:\n",
        "  def numDecodings(self, s: str) -> int:\n",
        "    if not s: return 0\n",
        "    l = len(s)\n",
        "    dp = [0] * (l + 1)\n",
        "    dp[0], dp[1] = 1, 1 if s[0] != \"0\" else 0\n",
        "    prev, curr = \"0\", s[0]\n",
        "    for i in range(2, l + 1):\n",
        "      prev = curr \n",
        "      curr = s[i - 1]\n",
        "      if curr != \"0\":\n",
        "        dp[i] += dp[i - 1]\n",
        "      if prev == \"1\" or prev == \"2\" and curr <= \"6\":\n",
        "        dp[i] += dp[i - 2]\n",
        "    return dp[l]"
      ],
      "execution_count": 7,
      "outputs": []
    },
    {
      "cell_type": "code",
      "metadata": {
        "colab": {
          "base_uri": "https://localhost:8080/"
        },
        "id": "OctgcSrZlPv6",
        "outputId": "3ee0d89f-bda9-41ce-96ac-7fcafd945618"
      },
      "source": [
        "s = \"226\"\n",
        "Solution().numDecodings(s)"
      ],
      "execution_count": 8,
      "outputs": [
        {
          "output_type": "execute_result",
          "data": {
            "text/plain": [
              "3"
            ]
          },
          "metadata": {
            "tags": []
          },
          "execution_count": 8
        }
      ]
    },
    {
      "cell_type": "code",
      "metadata": {
        "colab": {
          "base_uri": "https://localhost:8080/"
        },
        "id": "rcD6oaaQmI5J",
        "outputId": "3fa323c0-6021-4da7-f35f-dc57b3669924"
      },
      "source": [
        "[0] * 4"
      ],
      "execution_count": 9,
      "outputs": [
        {
          "output_type": "execute_result",
          "data": {
            "text/plain": [
              "[0, 0, 0, 0]"
            ]
          },
          "metadata": {
            "tags": []
          },
          "execution_count": 9
        }
      ]
    },
    {
      "cell_type": "code",
      "metadata": {
        "id": "zO1ZAQ2yqykM"
      },
      "source": [
        ""
      ],
      "execution_count": null,
      "outputs": []
    }
  ]
}