{
  "nbformat": 4,
  "nbformat_minor": 0,
  "metadata": {
    "colab": {
      "name": "199. Binary Tree Right Side View.ipynb",
      "provenance": []
    },
    "kernelspec": {
      "name": "python3",
      "display_name": "Python 3"
    }
  },
  "cells": [
    {
      "cell_type": "markdown",
      "metadata": {
        "id": "byMSG7tEYnJ4"
      },
      "source": [
        "Given a binary tree, imagine yourself standing on the right side of it, return the values of the nodes you can see ordered from top to bottom.\n",
        "\n",
        "![](https://i.imgur.com/bPDYQKT.png)"
      ]
    },
    {
      "cell_type": "code",
      "metadata": {
        "id": "c7z_3SNRYtLm"
      },
      "source": [
        "import collections\n",
        "from typing import List \n",
        "\n",
        "class TreeNode:\n",
        "    def __init__(self, val=0, left=None, right=None):\n",
        "        self.val = val\n",
        "        self.left = left\n",
        "        self.right = right\n",
        "\n",
        "class Solution:\n",
        "  def rightSideView(self, root: TreeNode) -> List[int]:\n",
        "    res = []\n",
        "    if not root: return res\n",
        "    q = collections.deque()\n",
        "    q.append(root)\n",
        "\n",
        "    while q:\n",
        "      cnt = len(q)\n",
        "      while cnt > 0:\n",
        "        last = q.popleft()\n",
        "        if last.left: q.append(last.left)\n",
        "        if last.right: q.append(last.right)\n",
        "        cnt -= 1\n",
        "      res.append(last.val)\n",
        "    return res\n",
        "\n"
      ],
      "execution_count": 3,
      "outputs": []
    },
    {
      "cell_type": "code",
      "metadata": {
        "id": "3svIYZiJZ5WQ"
      },
      "source": [
        ""
      ],
      "execution_count": null,
      "outputs": []
    }
  ]
}