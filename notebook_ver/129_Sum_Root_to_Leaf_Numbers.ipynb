{
  "nbformat": 4,
  "nbformat_minor": 0,
  "metadata": {
    "colab": {
      "name": "129. Sum Root to Leaf Numbers.ipynb",
      "provenance": []
    },
    "kernelspec": {
      "name": "python3",
      "display_name": "Python 3"
    }
  },
  "cells": [
    {
      "cell_type": "markdown",
      "metadata": {
        "id": "L-FUWqTs9b-E"
      },
      "source": [
        "Given a binary tree containing digits from 0-9 only, each root-to-leaf path could represent a number.\n",
        "\n",
        "An example is the root-to-leaf path 1->2->3 which represents the number 123.\n",
        "\n",
        "Find the total sum of all root-to-leaf numbers.\n",
        "\n",
        "Note: A leaf is a node with no children.\n",
        "\n",
        "![](https://i.imgur.com/GIGCNRO.png)"
      ]
    },
    {
      "cell_type": "code",
      "metadata": {
        "id": "48wNoO9v8hkK"
      },
      "source": [
        "class TreeNode:\n",
        "    def __init__(self, val=0, left=None, right=None):\n",
        "        self.val = val\n",
        "        self.left = left\n",
        "        self.right = right\n",
        "class Solution:\n",
        "    def sumNumbers(self, root: TreeNode, last = 0) -> int:\n",
        "      if not root: return 0\n",
        "      now = last * 10 + root.val\n",
        "      if not root.right and not root.left: return now\n",
        "      return self.sumNumbers(root.right, now) + self.sumNumbers(root.left, now)"
      ],
      "execution_count": null,
      "outputs": []
    },
    {
      "cell_type": "code",
      "metadata": {
        "id": "-qEidobg9i44"
      },
      "source": [
        ""
      ],
      "execution_count": null,
      "outputs": []
    }
  ]
}