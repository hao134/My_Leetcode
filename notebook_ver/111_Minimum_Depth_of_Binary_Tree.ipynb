{
  "nbformat": 4,
  "nbformat_minor": 0,
  "metadata": {
    "colab": {
      "name": "111_Minimum Depth of Binary Tree.ipynb",
      "provenance": []
    },
    "kernelspec": {
      "name": "python3",
      "display_name": "Python 3"
    }
  },
  "cells": [
    {
      "cell_type": "markdown",
      "metadata": {
        "id": "BVwlnWJDdv4J"
      },
      "source": [
        "Given a binary tree, find its minimum depth.\n",
        "\n",
        "The minimum depth is the number of nodes along the shortest path from the root node down to the nearest leaf node.\n",
        "\n",
        "Note: A leaf is a node with no children.\n",
        "\n",
        "![](https://i.imgur.com/GYnsfiS.png)\n",
        "\n"
      ]
    },
    {
      "cell_type": "code",
      "metadata": {
        "id": "tfSiGt8tdpZM"
      },
      "source": [
        "bt = [3,9,20,None,None,15,7]"
      ],
      "execution_count": 1,
      "outputs": []
    },
    {
      "cell_type": "code",
      "metadata": {
        "id": "A13cDJQgeDYe",
        "outputId": "33187d30-69d1-4991-b401-46abb4dccd75",
        "colab": {
          "base_uri": "https://localhost:8080/"
        }
      },
      "source": [
        "bt"
      ],
      "execution_count": 2,
      "outputs": [
        {
          "output_type": "execute_result",
          "data": {
            "text/plain": [
              "[3, 9, 20, None, None, 15, 7]"
            ]
          },
          "metadata": {
            "tags": []
          },
          "execution_count": 2
        }
      ]
    },
    {
      "cell_type": "code",
      "metadata": {
        "id": "PvdhTD5IeFwo"
      },
      "source": [
        "class TreeNode:\n",
        "    def __init__(self, val=0, left=None, right=None):\n",
        "        self.val = val\n",
        "        self.left = left\n",
        "        self.right = right\n",
        "class Solution:\n",
        "  def minDepth(self, root: TreeNode)->int:\n",
        "    if root is None:\n",
        "      return 0\n",
        "    if root.right and root.left:\n",
        "      return min(self.minDepth(root.right), self.minDepth(root.left)) + 1\n",
        "    else:\n",
        "      return max(self.minDepth(root.right), self.minDepth(root.left)) + 1 "
      ],
      "execution_count": 3,
      "outputs": []
    },
    {
      "cell_type": "code",
      "metadata": {
        "id": "hxkokYPMkf96"
      },
      "source": [
        ""
      ],
      "execution_count": null,
      "outputs": []
    }
  ]
}