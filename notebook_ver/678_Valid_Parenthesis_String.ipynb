{
  "nbformat": 4,
  "nbformat_minor": 0,
  "metadata": {
    "colab": {
      "name": "678. Valid Parenthesis String.ipynb",
      "provenance": []
    },
    "kernelspec": {
      "name": "python3",
      "display_name": "Python 3"
    }
  },
  "cells": [
    {
      "cell_type": "markdown",
      "metadata": {
        "id": "UZY0v9f83oEl"
      },
      "source": [
        "Given a string containing only three types of characters: '(', ')' and '*', write a function to check whether this string is valid. We define the validity of a string by these rules:\n",
        "\n",
        "1. Any left parenthesis '(' must have a corresponding right parenthesis ')'.\n",
        "2. Any right parenthesis ')' must have a corresponding left parenthesis '('.\n",
        "3. Left parenthesis '(' must go before the corresponding right parenthesis ')'.\n",
        "4. '*' could be treated as a single right parenthesis ')' or a single left parenthesis '(' or an empty string.\n",
        "5. An empty string is also valid.\n",
        "\n",
        "![](https://i.imgur.com/GTmZvOF.png)"
      ]
    },
    {
      "cell_type": "code",
      "metadata": {
        "id": "QwKKvXgR3jGV"
      },
      "source": [
        "class Solution():\n",
        "  def checkValidString(self, s: str) -> bool:\n",
        "    l = r = 0\n",
        "    n = len(s)\n",
        "    for i in range(n):\n",
        "      l = l + 1 if s[i] == \"(\" or s[i] ==\"*\" else l - 1\n",
        "      if l < 0: return False\n",
        "    if l == 0: return True\n",
        "\n",
        "    for i in range(n-1, -1, -1):\n",
        "      r = r + 1 if s[i] == \")\" or s[i] == \"*\" else r - 1\n",
        "      if r < 0: return False\n",
        "    \n",
        "    return True\n",
        "\n"
      ],
      "execution_count": 2,
      "outputs": []
    },
    {
      "cell_type": "code",
      "metadata": {
        "colab": {
          "base_uri": "https://localhost:8080/"
        },
        "id": "_9O7598A32Nd",
        "outputId": "735cb9bc-fa71-4ee0-de1b-86e76cbf5150"
      },
      "source": [
        "s = \"(*)))\"\n",
        "Solution().checkValidString(s)"
      ],
      "execution_count": 4,
      "outputs": [
        {
          "output_type": "execute_result",
          "data": {
            "text/plain": [
              "False"
            ]
          },
          "metadata": {
            "tags": []
          },
          "execution_count": 4
        }
      ]
    },
    {
      "cell_type": "code",
      "metadata": {
        "id": "Xi9p14lAGZus"
      },
      "source": [
        ""
      ],
      "execution_count": null,
      "outputs": []
    }
  ]
}