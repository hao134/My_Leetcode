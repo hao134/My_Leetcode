{
  "nbformat": 4,
  "nbformat_minor": 0,
  "metadata": {
    "colab": {
      "name": "257. Binary Tree Paths",
      "provenance": []
    },
    "kernelspec": {
      "name": "python3",
      "display_name": "Python 3"
    }
  },
  "cells": [
    {
      "cell_type": "markdown",
      "metadata": {
        "id": "jlx4MuJ8sQpw"
      },
      "source": [
        "Given a binary tree, return all root-to-leaf paths.\n",
        "\n",
        "Note: A leaf is a node with no children.\n",
        "\n",
        "Example:\n",
        "\n",
        "![](https://i.imgur.com/evU1KIQ.png)"
      ]
    },
    {
      "cell_type": "code",
      "metadata": {
        "id": "qJ2NwcGpx6WP"
      },
      "source": [
        "from collections import deque\n",
        "from typing import List\n",
        "# Definition for a binary tree node.\n",
        "class TreeNode:\n",
        "    def __init__(self, val=0, left=None, right=None):\n",
        "        self.val = val\n",
        "        self.left = left\n",
        "        self.right = right\n",
        "\n",
        "class Solution:\n",
        "  def binaryTreePaths(self, root: TreeNode) -> List[str]:\n",
        "    res = []\n",
        "    if root is None: return res\n",
        "    path = []\n",
        "    self.getPath(root, path, res)\n",
        "    return res\n",
        "  def getPath(self, root, path, res):\n",
        "    if root.left: self.getPath(root.left, path, res)\n",
        "    if root.right: self.getPath(root.left, path, res)\n",
        "    if not root.right and not root.left:\n",
        "      res.append(\"->\".join(path))\n",
        "    path.pop()\n"
      ],
      "execution_count": 2,
      "outputs": []
    },
    {
      "cell_type": "code",
      "metadata": {
        "id": "AuSrkW5LLfRb"
      },
      "source": [
        ""
      ],
      "execution_count": null,
      "outputs": []
    }
  ]
}