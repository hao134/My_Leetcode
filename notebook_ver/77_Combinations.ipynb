{
  "nbformat": 4,
  "nbformat_minor": 0,
  "metadata": {
    "colab": {
      "name": "77. Combinations.ipynb",
      "provenance": []
    },
    "kernelspec": {
      "name": "python3",
      "display_name": "Python 3"
    }
  },
  "cells": [
    {
      "cell_type": "markdown",
      "metadata": {
        "id": "RwIA7DuYDhuz"
      },
      "source": [
        "Given two integers n and k, return all possible combinations of k numbers out of 1 ... n.\n",
        "\n",
        "You may return the answer in any order.\n",
        "\n",
        "![](https://i.imgur.com/vUmGusW.png)"
      ]
    },
    {
      "cell_type": "code",
      "metadata": {
        "id": "G1WuhGX_DH4D"
      },
      "source": [
        "from typing import List\n",
        "class Solution:\n",
        "  def combine(self, n:int, k:int) -> List[List[int]]:\n",
        "    res, combo = [], []\n",
        "    if n <= 0 or k <= 0: return res\n",
        "    self.findCombos(res, n, k, 1, combo)\n",
        "    return res\n",
        "\n",
        "  def findCombos(self, res: List[List[int]], n:int, k:int, stat_num:int, combo:List[int]):\n",
        "    if k == 0:\n",
        "      res.append(combo.copy())\n",
        "    else:\n",
        "      for i in range(stat_num, n + 1):\n",
        "        combo.append(i)\n",
        "        self.findCombos(res, n, k - 1, i + 1, combo)\n",
        "        combo.pop()"
      ],
      "execution_count": 1,
      "outputs": []
    },
    {
      "cell_type": "code",
      "metadata": {
        "colab": {
          "base_uri": "https://localhost:8080/"
        },
        "id": "srnDMghFDtnH",
        "outputId": "93e3f943-7761-4351-a2ce-8f6edeebbac3"
      },
      "source": [
        "n = 4\n",
        "k = 2\n",
        "Solution().combine(n, k)"
      ],
      "execution_count": 3,
      "outputs": [
        {
          "output_type": "execute_result",
          "data": {
            "text/plain": [
              "[[1, 2], [1, 3], [1, 4], [2, 3], [2, 4], [3, 4]]"
            ]
          },
          "metadata": {
            "tags": []
          },
          "execution_count": 3
        }
      ]
    },
    {
      "cell_type": "code",
      "metadata": {
        "id": "115RDpQAXKKZ"
      },
      "source": [
        ""
      ],
      "execution_count": null,
      "outputs": []
    }
  ]
}