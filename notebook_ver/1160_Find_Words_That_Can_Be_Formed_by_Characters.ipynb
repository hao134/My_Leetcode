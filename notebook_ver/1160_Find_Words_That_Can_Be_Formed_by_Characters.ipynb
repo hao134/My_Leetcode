{
  "nbformat": 4,
  "nbformat_minor": 0,
  "metadata": {
    "colab": {
      "name": "1160. Find Words That Can Be Formed by Characters.ipynb",
      "provenance": []
    },
    "kernelspec": {
      "name": "python3",
      "display_name": "Python 3"
    }
  },
  "cells": [
    {
      "cell_type": "markdown",
      "metadata": {
        "id": "qqP_0b4_jkVg"
      },
      "source": [
        "You are given an array of strings words and a string chars.\n",
        "\n",
        "A string is good if it can be formed by characters from chars (each character can only be used once).\n",
        "\n",
        "Return the sum of lengths of all good strings in words.\n",
        "\n",
        "![](https://i.imgur.com/g0UCo0L.png)"
      ]
    },
    {
      "cell_type": "code",
      "metadata": {
        "id": "rNIQN5O0scsk"
      },
      "source": [
        "# Solution 1\n",
        "from typing import List\n",
        "class Solution:\n",
        "  def countCharacters(self, words: List[str], chars: str) -> int:\n",
        "    res = 0\n",
        "    for word in words:\n",
        "      boolen = True\n",
        "      for i in word:\n",
        "        if word.count(i) > chars.count(i):\n",
        "          boolen = False\n",
        "          break\n",
        "      if boolen:\n",
        "        res += len(word)\n",
        "      \n",
        "    return res"
      ],
      "execution_count": null,
      "outputs": []
    },
    {
      "cell_type": "code",
      "metadata": {
        "id": "pV8LhjcYvZcc",
        "outputId": "47471849-5358-4c47-d567-4ede54972268",
        "colab": {
          "base_uri": "https://localhost:8080/"
        }
      },
      "source": [
        "words = [\"hello\", \"world\", \"leetcode\"]\n",
        "chars = \"welldonehoneyr\"\n",
        "Solution().countCharacters(words, chars)"
      ],
      "execution_count": null,
      "outputs": [
        {
          "output_type": "execute_result",
          "data": {
            "text/plain": [
              "10"
            ]
          },
          "metadata": {
            "tags": []
          },
          "execution_count": 21
        }
      ]
    },
    {
      "cell_type": "code",
      "metadata": {
        "id": "2eUjLzbMwYXn"
      },
      "source": [
        "# Solution 2\n",
        "from collections import Counter\n",
        "class Solution:\n",
        "  def countCharacters(self, words: List[str], chars: str) -> int:\n",
        "    res = 0\n",
        "    dic = Counter(chars)\n",
        "\n",
        "    for word in words:\n",
        "      res += check(word, dic)\n",
        "\n",
        "    return res\n",
        "\n",
        "  def check(self, word: str, dic: Counter) -> int:\n",
        "    wdic = Counter(word)\n",
        "    for key in wdic:\n",
        "      if not key in dic or wdic[key] > dic[key]:\n",
        "        return 0\n",
        "    \n",
        "    return len(word)"
      ],
      "execution_count": null,
      "outputs": []
    },
    {
      "cell_type": "code",
      "metadata": {
        "id": "a0Ym3zvFynst",
        "outputId": "37dbd83f-3912-43e3-c1fb-5e22443db714",
        "colab": {
          "base_uri": "https://localhost:8080/"
        }
      },
      "source": [
        "Solution().countCharacters(words, chars)"
      ],
      "execution_count": null,
      "outputs": [
        {
          "output_type": "execute_result",
          "data": {
            "text/plain": [
              "10"
            ]
          },
          "metadata": {
            "tags": []
          },
          "execution_count": 24
        }
      ]
    },
    {
      "cell_type": "code",
      "metadata": {
        "id": "d6_UxhVdyph-"
      },
      "source": [
        ""
      ],
      "execution_count": null,
      "outputs": []
    }
  ]
}