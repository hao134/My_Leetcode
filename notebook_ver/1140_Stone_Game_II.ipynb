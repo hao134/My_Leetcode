{
  "nbformat": 4,
  "nbformat_minor": 0,
  "metadata": {
    "colab": {
      "name": "1140. Stone Game II.ipynb",
      "provenance": []
    },
    "kernelspec": {
      "name": "python3",
      "display_name": "Python 3"
    }
  },
  "cells": [
    {
      "cell_type": "markdown",
      "metadata": {
        "id": "z4VpeptWD0aE"
      },
      "source": [
        "Alice and Bob continue their games with piles of stones.  There are a number of piles arranged in a row, and each pile has a positive integer number of stones piles[i].  The objective of the game is to end with the most stones. \n",
        "\n",
        "Alice and Bob take turns, with Alice starting first.  Initially, M = 1.\n",
        "\n",
        "On each player's turn, that player can take all the stones in the first X remaining piles, where 1 <= X <= 2M.  Then, we set M = max(M, X).\n",
        "\n",
        "The game continues until all the stones have been taken.\n",
        "\n",
        "Assuming Alice and Bob play optimally, return the maximum number of stones Alice can get.\n",
        "\n",
        "![](https://i.imgur.com/7AxuTR4.png)"
      ]
    },
    {
      "cell_type": "code",
      "metadata": {
        "colab": {
          "base_uri": "https://localhost:8080/"
        },
        "id": "Wnep0aa0D9Ke",
        "outputId": "a30199ac-5a18-4c39-f10f-1c9ee61bf63a"
      },
      "source": [
        "n = 4\n",
        "dp = [[0 for i in range((n+ 1)//2 + 1)] for j in range(n)]\n",
        "dp"
      ],
      "execution_count": 2,
      "outputs": [
        {
          "output_type": "execute_result",
          "data": {
            "text/plain": [
              "[[0, 0, 0], [0, 0, 0], [0, 0, 0], [0, 0, 0]]"
            ]
          },
          "metadata": {
            "tags": []
          },
          "execution_count": 2
        }
      ]
    },
    {
      "cell_type": "code",
      "metadata": {
        "id": "27DQG8n7FM7p"
      },
      "source": [
        "from typing import List\n",
        "class Solution:\n",
        "  def stoneGameII(self, piles: List[int]) -> int:\n",
        "    n = len(piles)\n",
        "    for i in range(n - 2, -1, -1):\n",
        "      piles[i] += piles[i + 1]\n",
        "    if n <= 2:\n",
        "      return piles[0]\n",
        "    dp = [[0 for i in range((n + 1) // 2 + 1)] for j in range(n)]\n",
        "    return self.helper(dp, piles, 0, 1)\n",
        "\n",
        "  def helper(self, dp: List[List[int]], piles: List[int], i:int, M:int) -> int:\n",
        "    if i == len(piles): return 0\n",
        "    if 2 * M >= len(piles) - i: return piles[i]\n",
        "    if dp[i][M] != 0: return dp[i][M]\n",
        "    dp[i][M] = piles[i] - min(self.helper(dp, piles, i + x, max(M, x)) for x in range(1, 2* M + 1))\n",
        "    print(\"I\",dp[i][M])\n",
        "    print(\"i\",i)\n",
        "    return dp[i][M]"
      ],
      "execution_count": 29,
      "outputs": []
    },
    {
      "cell_type": "code",
      "metadata": {
        "id": "TtZKFTO9Hjsk"
      },
      "source": [
        "class Solution:\n",
        "    def stoneGameII(self, piles: List[int]) -> int:\n",
        "        n = len(piles)\n",
        "        for i in range(n-2, -1, -1):\n",
        "            piles[i] += piles[i+1]\n",
        "        memo = {}\n",
        "        \n",
        "        def helper(i, M):\n",
        "            if i + 2 * M >= n:\n",
        "                return piles[i]\n",
        "            if (i, M) in memo:\n",
        "                return memo[(i, M)]\n",
        "            \n",
        "            best = 0\n",
        "            for x in range(1, 2*M+1):\n",
        "                best = max(best, piles[i] - helper(i+x, max(M, x)))\n",
        "            memo[(i, M)] = best\n",
        "            return best\n",
        "        return helper(0,1)"
      ],
      "execution_count": 37,
      "outputs": []
    },
    {
      "cell_type": "code",
      "metadata": {
        "id": "7gDZHmmVWv1t"
      },
      "source": [
        "class Solution:\n",
        "    def stoneGameII(self, piles: List[int]) -> int:\n",
        "        n = len(piles)\n",
        "        for i in range(n - 2, -1, -1):\n",
        "            piles[i] += piles[i + 1]\n",
        "        from functools import lru_cache\n",
        "        @lru_cache(None)\n",
        "        def helper(i, m):\n",
        "            if i + 2 * m >= n: \n",
        "                return piles[i]\n",
        "            return piles[i] - min(helper(i + x, max(m, x)) for x in range(1, 2 * m + 1))\n",
        "        return helper(0, 1)"
      ],
      "execution_count": 39,
      "outputs": []
    },
    {
      "cell_type": "code",
      "metadata": {
        "colab": {
          "base_uri": "https://localhost:8080/"
        },
        "id": "glr5qV77G4Mp",
        "outputId": "d680601f-f68d-41d8-8c5f-75c842426f3d"
      },
      "source": [
        "piles = [1, 2, 3, 4, 5, 100]\n",
        "Solution().stoneGameII(piles)"
      ],
      "execution_count": 38,
      "outputs": [
        {
          "output_type": "execute_result",
          "data": {
            "text/plain": [
              "104"
            ]
          },
          "metadata": {
            "tags": []
          },
          "execution_count": 38
        }
      ]
    },
    {
      "cell_type": "code",
      "metadata": {
        "id": "vVqC1DfxOTlS"
      },
      "source": [
        ""
      ],
      "execution_count": null,
      "outputs": []
    }
  ]
}