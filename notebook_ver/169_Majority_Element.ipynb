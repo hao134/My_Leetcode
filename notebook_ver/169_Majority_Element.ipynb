{
  "nbformat": 4,
  "nbformat_minor": 0,
  "metadata": {
    "colab": {
      "name": "169_Majority_Element.ipynb",
      "provenance": []
    },
    "kernelspec": {
      "name": "python3",
      "display_name": "Python 3"
    }
  },
  "cells": [
    {
      "cell_type": "markdown",
      "metadata": {
        "id": "WB9nkxl4UTlU"
      },
      "source": [
        "Given an array of size n, find the majority element. The majority element is the element that appears more than ⌊ n/2 ⌋ times.\n",
        "\n",
        "You may assume that the array is non-empty and the majority element always exist in the array.\n",
        "\n",
        "![](https://i.imgur.com/eUWUcxV.png)"
      ]
    },
    {
      "cell_type": "code",
      "metadata": {
        "id": "qzdz79NkVhYH"
      },
      "source": [
        "class Solution:\n",
        "  def majorityElement(self, nums) -> int:\n",
        "    cnt, index = 1, 0\n",
        "    for i in range(1, len(nums)):\n",
        "      if nums[index] == nums[i]:\n",
        "        cnt += 1\n",
        "      else:\n",
        "        cnt -= 1\n",
        "        if cnt == 0:\n",
        "          index == i\n",
        "          cnt += 1\n",
        "    return nums[index]"
      ],
      "execution_count": 3,
      "outputs": []
    },
    {
      "cell_type": "code",
      "metadata": {
        "id": "r8R3TJjCmfrk"
      },
      "source": [
        ""
      ],
      "execution_count": null,
      "outputs": []
    }
  ]
}