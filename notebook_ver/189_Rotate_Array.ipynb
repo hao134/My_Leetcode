{
  "nbformat": 4,
  "nbformat_minor": 0,
  "metadata": {
    "colab": {
      "name": "189_Rotate_Array.ipynb",
      "provenance": []
    },
    "kernelspec": {
      "name": "python3",
      "display_name": "Python 3"
    }
  },
  "cells": [
    {
      "cell_type": "markdown",
      "metadata": {
        "id": "7qD8j8Sggdr4"
      },
      "source": [
        "Given an array, rotate the array to the right by k steps, where k is non-negative.\n",
        "\n",
        "Follow up:\n",
        "\n",
        "Try to come up as many solutions as you can, there are at least 3 different ways to solve this problem.\n",
        "Could you do it in-place with O(1) extra space?\n",
        "\n",
        "![](https://i.imgur.com/HT12chP.png)"
      ]
    },
    {
      "cell_type": "code",
      "metadata": {
        "id": "xeVrw4N4gkDd"
      },
      "source": [
        "class Solution:\n",
        "  def rotate(self, nums, k) -> None:\n",
        "    \"\"\"\n",
        "    Do not return anything, modify nums in-place instead.\n",
        "    \"\"\"\n",
        "    def reversenum(start, end):\n",
        "      while start < end:\n",
        "        nums[start], nums[end] = nums[end], nums[start]\n",
        "        start += 1\n",
        "        end -= 1\n",
        "    k, n = k % len(nums), len(nums)\n",
        "    if k:\n",
        "      reversenum(0,n-1)\n",
        "      reversenum(0,k-1)\n",
        "      reversenum(k,n-1)\n"
      ],
      "execution_count": 3,
      "outputs": []
    },
    {
      "cell_type": "code",
      "metadata": {
        "id": "hOalf2Rji94T"
      },
      "source": [
        "nums = [1,2,3,4,5,6,7]\n",
        "k = 3\n",
        "Solution().rotate(nums = nums, k = k)"
      ],
      "execution_count": 4,
      "outputs": []
    },
    {
      "cell_type": "code",
      "metadata": {
        "id": "kAHHbu0ijYDQ",
        "outputId": "04386e7e-b3d3-4ca6-c00e-4a2cf4d757db",
        "colab": {
          "base_uri": "https://localhost:8080/",
          "height": 34
        }
      },
      "source": [
        "nums"
      ],
      "execution_count": 5,
      "outputs": [
        {
          "output_type": "execute_result",
          "data": {
            "text/plain": [
              "[5, 6, 7, 1, 2, 3, 4]"
            ]
          },
          "metadata": {
            "tags": []
          },
          "execution_count": 5
        }
      ]
    },
    {
      "cell_type": "code",
      "metadata": {
        "id": "agnDw3FKjZC2"
      },
      "source": [
        ""
      ],
      "execution_count": null,
      "outputs": []
    }
  ]
}