{
  "nbformat": 4,
  "nbformat_minor": 0,
  "metadata": {
    "colab": {
      "name": "100_Same_Tree.ipynb",
      "provenance": []
    },
    "kernelspec": {
      "name": "python3",
      "display_name": "Python 3"
    }
  },
  "cells": [
    {
      "cell_type": "markdown",
      "metadata": {
        "id": "vhCxDrt6E5fd"
      },
      "source": [
        "Given two binary trees, write a function to check if they are the same or not.\n",
        "\n",
        "Two binary trees are considered the same if they are structurally identical and the nodes have the same value.\n",
        "\n",
        "![](https://i.imgur.com/gut94oL.png)"
      ]
    },
    {
      "cell_type": "code",
      "metadata": {
        "id": "aa7EgTMqEdEV"
      },
      "source": [
        "#Definition for a binary tree node.\n",
        "class TreeNode:\n",
        "    def __init__(self, val=0, left=None, right=None):\n",
        "        self.val = val\n",
        "        self.left = left\n",
        "        self.right = right\n",
        "class Solution:\n",
        "  def isSameTree(self, p: TreeNode, q: TreeNode) -> bool:\n",
        "    if not p and not q: return True\n",
        "    if not p or not q: return False\n",
        "    return p.val == q.val and self.isSameTree(p.left, q.left) and self.isSameTree(p.right, q.right)\n",
        "\n"
      ],
      "execution_count": null,
      "outputs": []
    },
    {
      "cell_type": "code",
      "metadata": {
        "id": "9DzwlDZyGh4I"
      },
      "source": [
        "class Solution:\n",
        "  def isSameTree(self, p: TreeNode, q: TreeNode) -> bool:\n",
        "    if p is None and q is None: \n",
        "      return True\n",
        "    if p is not None and q is not None:\n",
        "      return q.val == p.val and self.isSameTree(p.left, q.left) and self.isSameTree(p.left, q.left)\n",
        "    return False"
      ],
      "execution_count": null,
      "outputs": []
    },
    {
      "cell_type": "code",
      "metadata": {
        "id": "2y9QG1jUJxM9"
      },
      "source": [
        "from collections import deque\n",
        "class Solution:\n",
        "  def isSymmetric(self, root: TreeNode) -> bool:\n",
        "    if root is None:\n",
        "      return True\n",
        "    queue = deque([(root.left, root.right)])\n",
        "    while deque:\n",
        "      node1, node2 = queue.popleft()\n",
        "      if node1 is None and node2 is None:\n",
        "        continue\n",
        "      if node1 and node2 and node1.val == node2.val:\n",
        "        queue.append((node1.left, node2.right))\n",
        "        queue.append((node1.right,node2.left))\n",
        "      else:\n",
        "        return False\n",
        "    return True"
      ],
      "execution_count": 5,
      "outputs": []
    },
    {
      "cell_type": "code",
      "metadata": {
        "id": "a1ud9oqThswQ"
      },
      "source": [
        ""
      ],
      "execution_count": null,
      "outputs": []
    }
  ]
}