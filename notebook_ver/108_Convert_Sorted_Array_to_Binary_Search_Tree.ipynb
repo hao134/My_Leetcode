{
  "nbformat": 4,
  "nbformat_minor": 0,
  "metadata": {
    "colab": {
      "name": "108. Convert Sorted Array to Binary Search Tree.ipynb",
      "provenance": []
    },
    "kernelspec": {
      "name": "python3",
      "display_name": "Python 3"
    }
  },
  "cells": [
    {
      "cell_type": "markdown",
      "metadata": {
        "id": "LcNvJfTocZ7l"
      },
      "source": [
        "Given an array where elements are sorted in ascending order, convert it to a height balanced BST.\n",
        "\n",
        "For this problem, a height-balanced binary tree is defined as a binary tree in which the depth of the two subtrees of every node never differ by more than 1.\n",
        "\n",
        "![](https://i.imgur.com/BISgAmE.png)"
      ]
    },
    {
      "cell_type": "code",
      "metadata": {
        "id": "3-2a1CwFcgFt"
      },
      "source": [
        "class TreeNode:\n",
        "    def __init__(self, val=0, left=None, right=None):\n",
        "        self.val = val\n",
        "        self.left = left\n",
        "        self.right = right\n",
        "class Solution:\n",
        "    def sortedArrayToBST(self, nums) -> TreeNode:\n",
        "      if not nums or len(nums) == 0:\n",
        "        return None\n",
        "      return self.to_bst(nums, 0, len(nums) - 1)\n",
        "\n",
        "    def to_bst(self, nums, start, end):\n",
        "      if start > end:\n",
        "        return None\n",
        "      mid = (start + end) // 2\n",
        "      root = TreeNode(nums[mid])\n",
        "      root.right = self.to_bst(nums, mid + 1, end)\n",
        "      root.left = self.to_bst(nums, start, mid - 1)\n",
        "      return root"
      ],
      "execution_count": 5,
      "outputs": []
    },
    {
      "cell_type": "code",
      "metadata": {
        "id": "aC5l1u9HrDSV",
        "outputId": "7e43894f-de6f-449b-9f8a-acb7efe999dc",
        "colab": {
          "base_uri": "https://localhost:8080/",
          "height": 34
        }
      },
      "source": [
        "nums = [-10,-3,0,5,9]\n",
        "Solution().sortedArrayToBST(nums)"
      ],
      "execution_count": 7,
      "outputs": [
        {
          "output_type": "stream",
          "text": [
            "<__main__.TreeNode object at 0x7fcada5cc080>\n"
          ],
          "name": "stdout"
        }
      ]
    },
    {
      "cell_type": "code",
      "metadata": {
        "id": "yEvSqlHfrOKa"
      },
      "source": [
        ""
      ],
      "execution_count": null,
      "outputs": []
    }
  ]
}