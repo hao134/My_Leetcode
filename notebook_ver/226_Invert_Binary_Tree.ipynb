{
  "nbformat": 4,
  "nbformat_minor": 0,
  "metadata": {
    "colab": {
      "name": "226. Invert Binary Tree.ipynb",
      "provenance": []
    },
    "kernelspec": {
      "name": "python3",
      "display_name": "Python 3"
    }
  },
  "cells": [
    {
      "cell_type": "markdown",
      "metadata": {
        "id": "CP2O1881HCzT"
      },
      "source": [
        "Invert a binary tree.\n",
        "\n",
        "![](https://i.imgur.com/b7oN4Cq.png)"
      ]
    },
    {
      "cell_type": "code",
      "metadata": {
        "id": "QCnKgYiTHp_r"
      },
      "source": [
        "### Solution 1\n",
        "# Definition for a binary tree node.\n",
        "class TreeNode:\n",
        "    def __init__(self, val=0, left=None, right=None):\n",
        "        self.val = val\n",
        "        self.left = left\n",
        "        self.right = right\n",
        "class Solution:\n",
        "    def invertTree(self, root: TreeNode) -> TreeNode:\n",
        "      if root is not None:\n",
        "        root.left, root.right = self.invertTree(root.right), self.invertTree(root.left)\n",
        "      return root"
      ],
      "execution_count": 11,
      "outputs": []
    },
    {
      "cell_type": "code",
      "metadata": {
        "id": "k-ymv3JqIAz5"
      },
      "source": [
        "### Solution2 \n",
        "import collections\n",
        "# Definition for a binary tree node.\n",
        "class TreeNode:\n",
        "    def __init__(self, val=0, left=None, right=None):\n",
        "        self.val = val\n",
        "        self.left = left\n",
        "        self.right = right\n",
        "class Solution:\n",
        "    def invertTree(self, root: TreeNode) -> TreeNode:\n",
        "      if root is not None:\n",
        "        q = collections.deque()\n",
        "        q.append(root)\n",
        "\n",
        "        while q:\n",
        "          n = q.popleft()\n",
        "          n.left, n.right = n.right, n.left\n",
        "          if n.left: q.append(n.left)\n",
        "          if n.right: q.append(n.right)\n",
        "      \n",
        "      return root\n",
        "\n",
        "\n"
      ],
      "execution_count": 15,
      "outputs": []
    },
    {
      "cell_type": "code",
      "metadata": {
        "id": "0qBP9qVnNbz0"
      },
      "source": [
        ""
      ],
      "execution_count": null,
      "outputs": []
    }
  ]
}