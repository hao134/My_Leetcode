{
  "nbformat": 4,
  "nbformat_minor": 0,
  "metadata": {
    "colab": {
      "name": "236. Lowest Common Ancestor of a Binary Tree.ipynb",
      "provenance": []
    },
    "kernelspec": {
      "name": "python3",
      "display_name": "Python 3"
    }
  },
  "cells": [
    {
      "cell_type": "markdown",
      "metadata": {
        "id": "iqu9N8JhCeb8"
      },
      "source": [
        "Given a binary tree, find the lowest common ancestor (LCA) of two given nodes in the tree.\n",
        "\n",
        "According to the definition of LCA on Wikipedia: “The lowest common ancestor is defined between two nodes p and q as the lowest node in T that has both p and q as descendants (where we allow a node to be a descendant of itself).”\n",
        "\n",
        "![](https://i.imgur.com/4NBwjd5.png)\n",
        "![](https://i.imgur.com/qmi0cQo.png)"
      ]
    },
    {
      "cell_type": "code",
      "metadata": {
        "id": "l__BtrP0Clua"
      },
      "source": [
        "class TreeNode:\n",
        "    def __init__(self, x):\n",
        "        self.val = x\n",
        "        self.left = None\n",
        "        self.right = None\n",
        "\n",
        "class Solution:\n",
        "    ans = None\n",
        "    def dfs(self, n:'TreeNode', p:'TreeNode', q:'TreeNode') -> bool:\n",
        "        if not n: return False\n",
        "        l = 1 if dfs(n.left, p, q) else 0\n",
        "        r = 1 if dfs(n.right, p, q) else 0\n",
        "        mid = 1 if p == n or q == n else 0\n",
        "        if l + r + mid == 2: \n",
        "          self.ans = n\n",
        "        \n",
        "        return l + r + mid > 0\n",
        "\n",
        "    def lowestCommonAncestor(self, root: 'TreeNode', p: 'TreeNode', q: 'TreeNode') -> 'TreeNode':\n",
        "        self.dfs(root, p, q)\n",
        "        return self.ans"
      ],
      "execution_count": 2,
      "outputs": []
    },
    {
      "cell_type": "code",
      "metadata": {
        "id": "mRqiBohfNPtb"
      },
      "source": [
        ""
      ],
      "execution_count": null,
      "outputs": []
    }
  ]
}