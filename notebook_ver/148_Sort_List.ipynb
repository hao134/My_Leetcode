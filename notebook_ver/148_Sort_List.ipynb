{
  "nbformat": 4,
  "nbformat_minor": 0,
  "metadata": {
    "colab": {
      "name": "148. Sort List.ipynb",
      "provenance": []
    },
    "kernelspec": {
      "name": "python3",
      "display_name": "Python 3"
    }
  },
  "cells": [
    {
      "cell_type": "markdown",
      "metadata": {
        "id": "pITer2TWBf26"
      },
      "source": [
        "Given the head of a linked list, return the list after sorting it in ascending order.\n",
        "\n",
        "Follow up: Can you sort the linked list in O(n logn) time and O(1) memory (i.e. constant space)?\n",
        "\n",
        "![](https://i.imgur.com/Lg6pK7b.png)"
      ]
    },
    {
      "cell_type": "code",
      "metadata": {
        "id": "UHoklWZiBcEP"
      },
      "source": [
        "# Definition for singly-linked list.\n",
        "from typing import List\n",
        "class ListNode:\n",
        "    def __init__(self, val=0, next=None):\n",
        "        self.val = val\n",
        "        self.next = next\n",
        "class Solution:\n",
        "  def sortList(self, head: ListNode) -> ListNode:\n",
        "    if not head or not head.next: return head\n",
        "\n",
        "    prev, slow, fast = None, head, head\n",
        "    while fast and fast.next:\n",
        "      prev = slow\n",
        "      slow = slow.next\n",
        "      fast = fast.next.next\n",
        "    \n",
        "    # clear the first half's last node's next to None\n",
        "    prev.next = None\n",
        "\n",
        "    # n1: head to prev, n2: slow to the last node\n",
        "    n1 = self.sortList(head)\n",
        "    n2 = self.sortList(slow)\n",
        "\n",
        "    return self.merge(n1, n2)\n",
        "\n",
        "  def merge(self, n1: ListNode, n2: ListNode) -> ListNode:\n",
        "    n = ListNode(0)\n",
        "    ite = n\n",
        "\n",
        "    while n1 and n2:\n",
        "      if n1.val < n2.val:\n",
        "        ite.next = n1\n",
        "        n1 = n1.next\n",
        "      else:\n",
        "        ite.next = n2\n",
        "        n2 = n2.next\n",
        "    ite = ite.next\n",
        "\n",
        "    if n1: ite.next = n1\n",
        "    if n2: ite.next = n2\n",
        "\n",
        "    return n.next\n",
        "\n"
      ],
      "execution_count": 5,
      "outputs": []
    },
    {
      "cell_type": "code",
      "metadata": {
        "id": "Kv5bF7nlEw0X"
      },
      "source": [
        ""
      ],
      "execution_count": null,
      "outputs": []
    }
  ]
}