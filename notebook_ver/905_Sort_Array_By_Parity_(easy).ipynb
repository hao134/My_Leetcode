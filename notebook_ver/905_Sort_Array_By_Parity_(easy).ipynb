{
  "nbformat": 4,
  "nbformat_minor": 0,
  "metadata": {
    "colab": {
      "name": "905. Sort Array By Parity (easy).ipynb",
      "provenance": []
    },
    "kernelspec": {
      "name": "python3",
      "display_name": "Python 3"
    }
  },
  "cells": [
    {
      "cell_type": "markdown",
      "metadata": {
        "id": "sbOmSHTT8agJ"
      },
      "source": [
        "Given an array A of non-negative integers, return an array consisting of all the even elements of A, followed by all the odd elements of A.\n",
        "\n",
        "You may return any answer array that satisfies this condition.\n",
        "\n",
        "![](https://i.imgur.com/bsYabWu.png)"
      ]
    },
    {
      "cell_type": "code",
      "metadata": {
        "id": "jnBBL7CH8hVa"
      },
      "source": [
        "class Solution:\n",
        "  def sortArrayByParity(self, A):\n",
        "    i , j = 0, len(A) - 1\n",
        "    while i < j:\n",
        "      if A[i] % 2 == 0:\n",
        "        i += 1\n",
        "        continue\n",
        "      if A[j] % 2 == 1:\n",
        "        j -= 1\n",
        "        continue\n",
        "      A[i], A[j] = A[j], A[i]\n",
        "    return A"
      ],
      "execution_count": 1,
      "outputs": []
    },
    {
      "cell_type": "code",
      "metadata": {
        "id": "TUXdVOGwFFGW",
        "outputId": "2e2fbea4-a943-4f5b-b6f0-5515582797d5",
        "colab": {
          "base_uri": "https://localhost:8080/",
          "height": 34
        }
      },
      "source": [
        "A = [3,1,2,4]\n",
        "Solution().sortArrayByParity(A)"
      ],
      "execution_count": 4,
      "outputs": [
        {
          "output_type": "execute_result",
          "data": {
            "text/plain": [
              "[4, 2, 1, 3]"
            ]
          },
          "metadata": {
            "tags": []
          },
          "execution_count": 4
        }
      ]
    },
    {
      "cell_type": "code",
      "metadata": {
        "id": "DMbTxCx-FPfO"
      },
      "source": [
        "## the complexity\n",
        "## time: O(N)\n",
        "## space: O(1) --> in-place solution"
      ],
      "execution_count": 5,
      "outputs": []
    },
    {
      "cell_type": "code",
      "metadata": {
        "id": "n1MEsd8wGMJK"
      },
      "source": [
        ""
      ],
      "execution_count": null,
      "outputs": []
    }
  ]
}