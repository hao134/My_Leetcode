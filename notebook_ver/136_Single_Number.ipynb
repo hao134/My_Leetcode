{
  "nbformat": 4,
  "nbformat_minor": 0,
  "metadata": {
    "colab": {
      "name": "136_Single_Number.ipynb",
      "provenance": []
    },
    "kernelspec": {
      "name": "python3",
      "display_name": "Python 3"
    }
  },
  "cells": [
    {
      "cell_type": "markdown",
      "metadata": {
        "id": "7yZFIl6IUOdv"
      },
      "source": [
        "Given a non-empty array of integers nums, every element appears twice except for one. Find that single one.\n",
        "\n",
        "Follow up: Could you implement a solution with a linear runtime complexity and without using extra memory?"
      ]
    },
    {
      "cell_type": "markdown",
      "metadata": {
        "id": "ek-c7wLWUQ8U"
      },
      "source": [
        "![](https://i.imgur.com/yVC8VXC.png)"
      ]
    },
    {
      "cell_type": "code",
      "metadata": {
        "id": "q_HV7f0kUO9s"
      },
      "source": [
        "nums = [4,1,2,1,2,4,5]\n",
        "def singlenumber(list):\n",
        "  res = list[0]\n",
        "  for i in range(1, len(list)):\n",
        "    res ^= list[i]       # use XOR\n",
        "  return res\n",
        "\n"
      ],
      "execution_count": 6,
      "outputs": []
    },
    {
      "cell_type": "code",
      "metadata": {
        "id": "4o7IdGRfqDRA",
        "outputId": "08ac5581-3130-4043-c29e-be86085077f1",
        "colab": {
          "base_uri": "https://localhost:8080/",
          "height": 34
        }
      },
      "source": [
        "singlenumber(nums)"
      ],
      "execution_count": 7,
      "outputs": [
        {
          "output_type": "execute_result",
          "data": {
            "text/plain": [
              "5"
            ]
          },
          "metadata": {
            "tags": []
          },
          "execution_count": 7
        }
      ]
    },
    {
      "cell_type": "markdown",
      "metadata": {
        "id": "wTyd6bWCt5Fh"
      },
      "source": [
        "### ref\n",
        "https://medium.com/@desolution/從leetcode學演算法-15-bitwise-operation-2-b3084a69698f"
      ]
    },
    {
      "cell_type": "code",
      "metadata": {
        "id": "dEgJj1XPqOZA"
      },
      "source": [
        ""
      ],
      "execution_count": null,
      "outputs": []
    }
  ]
}