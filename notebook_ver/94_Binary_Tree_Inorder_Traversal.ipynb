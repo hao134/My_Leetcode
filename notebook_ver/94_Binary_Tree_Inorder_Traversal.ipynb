{
  "nbformat": 4,
  "nbformat_minor": 0,
  "metadata": {
    "colab": {
      "name": "94. Binary Tree Inorder Traversal.ipynb",
      "provenance": []
    },
    "kernelspec": {
      "name": "python3",
      "display_name": "Python 3"
    }
  },
  "cells": [
    {
      "cell_type": "markdown",
      "metadata": {
        "id": "nB5JKAVC9Cr0"
      },
      "source": [
        "![](https://i.imgur.com/5pbqKwk.png)\n",
        "![](https://i.imgur.com/eiy9G2x.png)\n",
        "\n",
        "\n",
        "Follow up:\n",
        "\n",
        "Recursive solution is trivial, could you do it iteratively?"
      ]
    },
    {
      "cell_type": "code",
      "metadata": {
        "id": "P_1Q1eSf9RJK"
      },
      "source": [
        "### Solution 1 recursive\n",
        "from typing import List\n",
        "class TreeNode:\n",
        "    def __init__(self, val=0, left=None, right=None):\n",
        "        self.val = val\n",
        "        self.left = left\n",
        "        self.right = right\n",
        "### Solution 1 recursive\n",
        "class Solution:\n",
        "  def inorderTraversal(self, root: TreeNode) -> List[int]:\n",
        "    res = []\n",
        "    self.DFS(root, res)\n",
        "    return res\n",
        "  \n",
        "  def DFS(root, res):\n",
        "    if not root: return\n",
        "    self.DFS(root.left, res)\n",
        "    res.append(root.val)\n",
        "    self.DFS(root.right, res)\n"
      ],
      "execution_count": 3,
      "outputs": []
    },
    {
      "cell_type": "code",
      "metadata": {
        "id": "dDRwf_Q0FfbR"
      },
      "source": [
        "### Solution 2 iterative\n",
        "class Solution:\n",
        "  def inorderTraversal(self, root: TreeNode) -> List[int]:\n",
        "    stack = []\n",
        "    res = []\n",
        "    curr = root\n",
        "\n",
        "    while curr or stack:\n",
        "      while curr:\n",
        "        stack.append(curr)\n",
        "        curr = curr.left\n",
        "\n",
        "      curr = stack.pop()\n",
        "      res.append(curr.val)\n",
        "      curr = curr.right\n",
        "    \n",
        "    return res"
      ],
      "execution_count": 4,
      "outputs": []
    },
    {
      "cell_type": "code",
      "metadata": {
        "id": "t1fOwi4kMo19"
      },
      "source": [
        ""
      ],
      "execution_count": null,
      "outputs": []
    }
  ]
}