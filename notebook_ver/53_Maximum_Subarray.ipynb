{
 "cells": [
  {
   "cell_type": "markdown",
   "metadata": {},
   "source": [
    "### 53. Maximum Subarry\n",
    "Given an integer array nums, find the contiguous subarray (containing at least one number) which has the largest sum and return its sum.\n",
    "\n",
    "```python=\n",
    "Example:\n",
    "\n",
    "Input: [-2,1,-3,4,-1,2,1,-5,4],\n",
    "Output: 6\n",
    "Explanation: [4,-1,2,1] has the largest sum = 6.\n",
    "```"
   ]
  },
  {
   "cell_type": "code",
   "execution_count": 1,
   "metadata": {},
   "outputs": [],
   "source": [
    "# 最大子數列問題 Kadane Algoritm\n",
    "def maxSubArray(nums):\n",
    "    local_max = global_max = nums[0]\n",
    "    if max(nums)<0:        # if all numbers is negative, return the max(num)\n",
    "        return max(nums)\n",
    "    for num in nums[1:]:\n",
    "        local_max = max(num, local_max+num)\n",
    "        global_max = max(local_max, global_max)\n",
    "    return global_max"
   ]
  },
  {
   "cell_type": "code",
   "execution_count": 2,
   "metadata": {},
   "outputs": [
    {
     "data": {
      "text/plain": [
       "6"
      ]
     },
     "execution_count": 2,
     "metadata": {},
     "output_type": "execute_result"
    }
   ],
   "source": [
    "# example\n",
    "nums = [-2,1,-3,4,-1,2,1,-5,4]\n",
    "maxSubArray(nums)"
   ]
  },
  {
   "cell_type": "markdown",
   "metadata": {},
   "source": [
    "Ref:\n",
    "1. https://medium.com/@desolution/從leetcode學演算法-7-dynamic-programming-d1c3255dc266\n",
    "2. https://zh.wikipedia.org/wiki/最大子数列问题\n",
    "3. https://www.youtube.com/watch?v=eQGgk8zwIGI&list=PL2rWx9cCzU84eBz9Xfp9Rah5Fexq5yrh8&index=16"
   ]
  },
  {
   "cell_type": "code",
   "execution_count": null,
   "metadata": {},
   "outputs": [],
   "source": []
  }
 ],
 "metadata": {
  "kernelspec": {
   "display_name": "Python 3",
   "language": "python",
   "name": "python3"
  },
  "language_info": {
   "codemirror_mode": {
    "name": "ipython",
    "version": 3
   },
   "file_extension": ".py",
   "mimetype": "text/x-python",
   "name": "python",
   "nbconvert_exporter": "python",
   "pygments_lexer": "ipython3",
   "version": "3.7.1"
  }
 },
 "nbformat": 4,
 "nbformat_minor": 2
}
