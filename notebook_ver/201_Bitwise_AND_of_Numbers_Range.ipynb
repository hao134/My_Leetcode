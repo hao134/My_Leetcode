{
  "nbformat": 4,
  "nbformat_minor": 0,
  "metadata": {
    "colab": {
      "name": "201. Bitwise AND of Numbers Range.ipynb",
      "provenance": []
    },
    "kernelspec": {
      "name": "python3",
      "display_name": "Python 3"
    }
  },
  "cells": [
    {
      "cell_type": "markdown",
      "metadata": {
        "id": "qmWegnoCi6jT"
      },
      "source": [
        "Given a range [m, n] where 0 <= m <= n <= 2147483647, return the bitwise AND of all numbers in this range, inclusive.\n",
        "\n",
        "![](https://i.imgur.com/v3gTYOf.png)"
      ]
    },
    {
      "cell_type": "code",
      "metadata": {
        "colab": {
          "base_uri": "https://localhost:8080/"
        },
        "id": "X6U7sLWBi3of",
        "outputId": "d8247fa4-4703-4ada-d534-00825d963e9d"
      },
      "source": [
        "7 >> 1"
      ],
      "execution_count": 1,
      "outputs": [
        {
          "output_type": "execute_result",
          "data": {
            "text/plain": [
              "3"
            ]
          },
          "metadata": {
            "tags": []
          },
          "execution_count": 1
        }
      ]
    },
    {
      "cell_type": "code",
      "metadata": {
        "id": "ZG--2INfi_HI"
      },
      "source": [
        "class Solution():\n",
        "  def rangeBitwiseAnd(self, m: int, n: int) -> int:\n",
        "    factor = 0\n",
        "    while m != n:\n",
        "      m >>= 1\n",
        "      n >>= 1\n",
        "      factor += 1\n",
        "    \n",
        "    return m << factor"
      ],
      "execution_count": 4,
      "outputs": []
    },
    {
      "cell_type": "code",
      "metadata": {
        "colab": {
          "base_uri": "https://localhost:8080/"
        },
        "id": "Wj1O0feNrtlZ",
        "outputId": "5176ebbc-4759-4045-ea80-11ebdfb4df03"
      },
      "source": [
        "m = 5\n",
        "n = 7\n",
        "Solution().rangeBitwiseAnd(m,n)"
      ],
      "execution_count": 7,
      "outputs": [
        {
          "output_type": "execute_result",
          "data": {
            "text/plain": [
              "4"
            ]
          },
          "metadata": {
            "tags": []
          },
          "execution_count": 7
        }
      ]
    },
    {
      "cell_type": "code",
      "metadata": {
        "colab": {
          "base_uri": "https://localhost:8080/"
        },
        "id": "gz4LahPNsMVT",
        "outputId": "c08e28be-b614-4f06-d09e-925aa5f30982"
      },
      "source": [
        "m = 2344 # 100100101000\n",
        "n = 2367 # 100100111111\n",
        "ans = 2336 # 100100100000\n",
        "Solution().rangeBitwiseAnd(m,n)"
      ],
      "execution_count": 6,
      "outputs": [
        {
          "output_type": "execute_result",
          "data": {
            "text/plain": [
              "2336"
            ]
          },
          "metadata": {
            "tags": []
          },
          "execution_count": 6
        }
      ]
    },
    {
      "cell_type": "code",
      "metadata": {
        "id": "J9EiOm3isqLq"
      },
      "source": [
        ""
      ],
      "execution_count": null,
      "outputs": []
    }
  ]
}