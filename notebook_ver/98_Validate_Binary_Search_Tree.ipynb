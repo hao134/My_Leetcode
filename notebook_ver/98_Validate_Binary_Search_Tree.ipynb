{
  "nbformat": 4,
  "nbformat_minor": 0,
  "metadata": {
    "colab": {
      "name": "98. Validate Binary Search Tree",
      "provenance": []
    },
    "kernelspec": {
      "name": "python3",
      "display_name": "Python 3"
    }
  },
  "cells": [
    {
      "cell_type": "markdown",
      "metadata": {
        "id": "MKVWmH1QyJNV"
      },
      "source": [
        "Given a binary tree, determine if it is a valid binary search tree (BST).\n",
        "\n",
        "Assume a BST is defined as follows:\n",
        "\n",
        "The left subtree of a node contains only nodes with keys less than the node's key.\n",
        "The right subtree of a node contains only nodes with keys greater than the node's key.\n",
        "Both the left and right subtrees must also be binary search trees.\n",
        "\n",
        "![](https://i.imgur.com/qfQIGJ4.png)"
      ]
    },
    {
      "cell_type": "code",
      "metadata": {
        "id": "rqwCDTV1ySxe"
      },
      "source": [
        "### Solution 1\n",
        "class TreeNode:\n",
        "    def __init__(self, val=0, left=None, right=None):\n",
        "        self.val = val\n",
        "        self.left = left\n",
        "        self.right = right\n",
        "class Solution:\n",
        "  def __init__(self):\n",
        "    self.last = None\n",
        "\n",
        "  def isValidBST(self, root: TreeNode) -> bool:\n",
        "    if not root: return True\n",
        "    if not self.isValidBST(root.left): return False\n",
        "    if self.last and root.val <= self.last.val: return False\n",
        "    self.last = root\n",
        "    \n",
        "    return self.isValidBST(root.right)\n"
      ],
      "execution_count": 2,
      "outputs": []
    },
    {
      "cell_type": "code",
      "metadata": {
        "id": "EF_k4M4N6m-U"
      },
      "source": [
        "class TreeNode:\n",
        "    def __init__(self, val=0, left=None, right=None):\n",
        "        self.val = val\n",
        "        self.left = left\n",
        "        self.right = right\n",
        "\n",
        "class Solution:\n",
        "  def isValidBST(self, root: TreeNode) -> bool:\n",
        "    return self.valid(root, float(\"-inf\"), float(\"inf\"))\n",
        "  \n",
        "  def valid(self, root, min, max):\n",
        "    if not root: return True\n",
        "    if root.val >= max or root.val <= min: return False\n",
        "\n",
        "    return self.valid(root.left, min, root.val) and self.valid(root.right, root.val, max)"
      ],
      "execution_count": 4,
      "outputs": []
    },
    {
      "cell_type": "code",
      "metadata": {
        "id": "iQHUrtL99Zz9"
      },
      "source": [
        ""
      ],
      "execution_count": null,
      "outputs": []
    }
  ]
}