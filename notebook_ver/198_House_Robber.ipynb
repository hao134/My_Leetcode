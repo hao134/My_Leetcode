{
  "nbformat": 4,
  "nbformat_minor": 0,
  "metadata": {
    "colab": {
      "name": "198_House_Robber.ipynb",
      "provenance": []
    },
    "kernelspec": {
      "name": "python3",
      "display_name": "Python 3"
    }
  },
  "cells": [
    {
      "cell_type": "markdown",
      "metadata": {
        "id": "TFsrNSBlim__"
      },
      "source": [
        "Question:\n",
        "You are a professional robber planning to rob houses along a street. Each house has a certain amount of money stashed, the only constraint stopping you from robbing each of them is that adjacent houses have security system connected and it will automatically contact the police if two adjacent houses were broken into on the same night.\n",
        "Given a list of non-negative integers representing the amount of money of each house, determine the maximum amount of money you can rob tonight without alerting the police.\n",
        "\n",
        "![](https://i.imgur.com/WiLSROo.png)"
      ]
    },
    {
      "cell_type": "code",
      "metadata": {
        "id": "U3-NXQ22i0_d"
      },
      "source": [
        "class Solution:\n",
        "  def rob(self, nums):\n",
        "    l = len(nums)\n",
        "    if l == 0:\n",
        "      return 0\n",
        "    if l == 1:\n",
        "      return nums[0]\n",
        "    rob = [0] * l\n",
        "    rob[0] = nums[0]\n",
        "    rob[1] = max(nums[0], nums[1])\n",
        "    for i in range(2, l):\n",
        "      rob[i] = max(nums[i] + rob[i-2], rob[i-1])\n",
        "\n",
        "    return rob[-1]\n",
        "    "
      ],
      "execution_count": 2,
      "outputs": []
    },
    {
      "cell_type": "code",
      "metadata": {
        "id": "5IH2OcsDqHp3"
      },
      "source": [
        "nums = [2,7,9,3,1]"
      ],
      "execution_count": 3,
      "outputs": []
    },
    {
      "cell_type": "code",
      "metadata": {
        "id": "EfYlPRlMqJI0",
        "outputId": "c42dee23-7c87-4de3-d3f7-a09c5f178702",
        "colab": {
          "base_uri": "https://localhost:8080/",
          "height": 34
        }
      },
      "source": [
        "Solution().rob(nums = nums)"
      ],
      "execution_count": 4,
      "outputs": [
        {
          "output_type": "execute_result",
          "data": {
            "text/plain": [
              "12"
            ]
          },
          "metadata": {
            "tags": []
          },
          "execution_count": 4
        }
      ]
    },
    {
      "cell_type": "code",
      "metadata": {
        "id": "TsAvUrqxrYf9"
      },
      "source": [
        ""
      ],
      "execution_count": null,
      "outputs": []
    }
  ]
}