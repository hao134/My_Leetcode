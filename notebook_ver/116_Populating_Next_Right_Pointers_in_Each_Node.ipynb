{
  "nbformat": 4,
  "nbformat_minor": 0,
  "metadata": {
    "colab": {
      "name": "116. Populating Next Right Pointers in Each Node.ipynb",
      "provenance": []
    },
    "kernelspec": {
      "name": "python3",
      "display_name": "Python 3"
    }
  },
  "cells": [
    {
      "cell_type": "markdown",
      "metadata": {
        "id": "oZW9Yez6EHlp"
      },
      "source": [
        "You are given a perfect binary tree where all leaves are on the same level, and every parent has two children. The binary tree has the following definition:\n",
        "\n",
        "![](https://i.imgur.com/4jiAXAS.png)\n",
        "\n",
        "Populate each next pointer to point to its next right node. If there is no next right node, the next pointer should be set to NULL.\n",
        "\n",
        "Initially, all next pointers are set to NULL.\n",
        "\n",
        " \n",
        "\n",
        "Follow up:\n",
        "\n",
        "* You may only use constant extra space.\n",
        "* Recursive approach is fine, you may assume implicit stack space does not count as extra space for this problem.\n",
        "![](https://i.imgur.com/VUe8Aa8.png)"
      ]
    },
    {
      "cell_type": "code",
      "metadata": {
        "id": "NHpK6IaEEE1K"
      },
      "source": [
        "# consider\n",
        "# left node's left -> left node's right \n",
        "# right node's left -> right node's right\n",
        "# left node's right -> right node's left\n",
        "\n",
        "###1 recursive solution\n",
        "class Node:\n",
        "    def __init__(self, val: int = 0, left: 'Node' = None, right: 'Node' = None, next: 'Node' = None):\n",
        "        self.val = val\n",
        "        self.left = left\n",
        "        self.right = right\n",
        "        self.next = next\n",
        "\n",
        "class Solution:\n",
        "    def connect(self, root: 'Node') -> 'Node':\n",
        "      if root and root.left and root.right:\n",
        "        root.left.next = root.right\n",
        "      if root.next and root.right:\n",
        "        root.right.next = root.next.left\n",
        "      self.connect(root.left)\n",
        "      self.connect(root.right)\n",
        "      return root"
      ],
      "execution_count": 3,
      "outputs": []
    },
    {
      "cell_type": "code",
      "metadata": {
        "id": "azssJeiOEcYF"
      },
      "source": [
        "###2 iterative solution\n",
        "class Solution:\n",
        "  def connect(self, root: 'Node') -> 'Node':\n",
        "    level_first = root\n",
        "    while level_first:\n",
        "      curr = level_first\n",
        "      while curr:\n",
        "        if curr.left: curr.left.next = curr.right\n",
        "        if curr.right and curr.next: curr.right.next = curr.next.left\n",
        "        curr = curr.next\n",
        "      level_first = level_first.left\n",
        "    return root"
      ],
      "execution_count": 5,
      "outputs": []
    },
    {
      "cell_type": "code",
      "metadata": {
        "id": "534FW7B5ho9J"
      },
      "source": [
        ""
      ],
      "execution_count": null,
      "outputs": []
    }
  ]
}