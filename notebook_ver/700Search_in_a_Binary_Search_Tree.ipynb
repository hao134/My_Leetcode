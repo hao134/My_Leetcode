{
  "nbformat": 4,
  "nbformat_minor": 0,
  "metadata": {
    "colab": {
      "name": "700Search in a Binary Search Tree.ipynb",
      "provenance": []
    },
    "kernelspec": {
      "name": "python3",
      "display_name": "Python 3"
    }
  },
  "cells": [
    {
      "cell_type": "markdown",
      "metadata": {
        "id": "CMrVO9tx2Nn_"
      },
      "source": [
        "Given the root node of a binary search tree (BST) and a value. You need to find the node in the BST that the node's value equals the given value. Return the subtree rooted with that node. If such node doesn't exist, you should return NULL.\n",
        "\n",
        "For example, \n",
        "\n",
        "![](https://i.imgur.com/C3mK6aM.png)\n",
        "\n",
        "In the example above, if we want to search the value 5, since there is no node with value 5, we should return NULL.\n",
        "\n",
        "Note that an empty tree is represented by NULL, therefore you would see the expected output (serialized tree format) as [], not null."
      ]
    },
    {
      "cell_type": "code",
      "metadata": {
        "id": "kPl5aQfo2fYS"
      },
      "source": [
        "#Definition for a binary tree node.\n",
        "class TreeNode:\n",
        "    def __init__(self, val=0, left=None, right=None):\n",
        "        self.val = val\n",
        "        self.left = left\n",
        "        self.right = right\n",
        "class Solution:\n",
        "  def searchBST(self, root: TreeNode, val: int) -> TreeNode:\n",
        "    if root is None or val == root.val:\n",
        "      return root\n",
        "    if val < root.val:\n",
        "      return self.searchBST(root.left, val)\n",
        "    else:\n",
        "      return self.searchBST(root.right, val)"
      ],
      "execution_count": 2,
      "outputs": []
    },
    {
      "cell_type": "code",
      "metadata": {
        "id": "X1j3dXzi7YgB"
      },
      "source": [
        ""
      ],
      "execution_count": null,
      "outputs": []
    }
  ]
}