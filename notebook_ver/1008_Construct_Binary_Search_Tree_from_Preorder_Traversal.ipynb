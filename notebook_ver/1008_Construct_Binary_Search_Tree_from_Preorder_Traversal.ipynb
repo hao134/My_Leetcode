{
  "nbformat": 4,
  "nbformat_minor": 0,
  "metadata": {
    "colab": {
      "name": "1008. Construct Binary Search Tree from Preorder Traversal.ipynb",
      "provenance": []
    },
    "kernelspec": {
      "name": "python3",
      "display_name": "Python 3"
    }
  },
  "cells": [
    {
      "cell_type": "markdown",
      "metadata": {
        "id": "A7yt9ulT-WUG"
      },
      "source": [
        "Return the root node of a binary search tree that matches the given preorder traversal.\n",
        "\n",
        "(Recall that a binary search tree is a binary tree where for every node, any descendant of node.left has a value < node.val, and any descendant of node.right has a value > node.val.  Also recall that a preorder traversal displays the value of the node first, then traverses node.left, then traverses node.right.)\n",
        "\n",
        "It's guaranteed that for the given test cases there is always possible to find a binary search tree with the given requirements.\n",
        "\n",
        "![](https://i.imgur.com/5nLB5gk.png)"
      ]
    },
    {
      "cell_type": "code",
      "metadata": {
        "id": "ls-Ejw_j-L3q"
      },
      "source": [
        "class Solution:\n",
        "  i = 0\n",
        "  def bstFromPreorder(self, A, bound = float('inf')):\n",
        "    if self.i ==len(A) or A[self.i] > bound:\n",
        "      return None\n",
        "    root = TreeNode(A[self.i])\n",
        "    self.i += 1\n",
        "    root.left = self.bstFromPreorder(A, root.val)\n",
        "    root.right = self.bstFromPreorder(A, bound)\n",
        "    return root"
      ],
      "execution_count": 1,
      "outputs": []
    },
    {
      "cell_type": "code",
      "metadata": {
        "id": "XfLB3PFx-k09"
      },
      "source": [
        ""
      ],
      "execution_count": null,
      "outputs": []
    }
  ]
}