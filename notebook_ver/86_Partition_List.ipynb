{
  "nbformat": 4,
  "nbformat_minor": 0,
  "metadata": {
    "colab": {
      "name": "86. Partition List.ipynb",
      "provenance": []
    },
    "kernelspec": {
      "name": "python3",
      "display_name": "Python 3"
    }
  },
  "cells": [
    {
      "cell_type": "markdown",
      "metadata": {
        "id": "UxSoCBsux4Cl"
      },
      "source": [
        "Given a linked list and a value x, partition it such that all nodes less than x come before nodes greater than or equal to x.\n",
        "\n",
        "You should preserve the original relative order of the nodes in each of the two partitions.\n",
        "\n",
        "![](https://i.imgur.com/FD8sv8H.png)"
      ]
    },
    {
      "cell_type": "code",
      "metadata": {
        "id": "ltsFebCJxuvL"
      },
      "source": [
        "# Definition for singly-linked list.\n",
        "class ListNode:\n",
        "    def __init__(self, val=0, next=None):\n",
        "        self.val = val\n",
        "        self.next = next\n",
        "class Solution:\n",
        "    def partition(self, head: ListNode, x: int) -> ListNode:\n",
        "\n",
        "      lesser_head = lesser = ListNode(None)\n",
        "      greater_head = greater = ListNode(None)\n",
        "      node = head\n",
        "\n",
        "      while node:\n",
        "        if node.val < x:\n",
        "          lesser.next = node\n",
        "          lesser = node\n",
        "        else:\n",
        "          greater.next = node\n",
        "          greater = node\n",
        "        node = node.next\n",
        "      \n",
        "      greater.next = None\n",
        "      lesser.next = greater_head.next\n",
        "\n",
        "      return lesser_head.next\n",
        "      "
      ],
      "execution_count": 1,
      "outputs": []
    },
    {
      "cell_type": "code",
      "metadata": {
        "id": "HUhNXJgmx-kv"
      },
      "source": [
        ""
      ],
      "execution_count": null,
      "outputs": []
    }
  ]
}