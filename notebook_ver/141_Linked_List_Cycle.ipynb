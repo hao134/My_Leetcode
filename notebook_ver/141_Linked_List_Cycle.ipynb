{
  "nbformat": 4,
  "nbformat_minor": 0,
  "metadata": {
    "colab": {
      "name": "141_Linked List Cycle",
      "provenance": []
    },
    "kernelspec": {
      "name": "python3",
      "display_name": "Python 3"
    }
  },
  "cells": [
    {
      "cell_type": "markdown",
      "metadata": {
        "id": "N2VSG2T3pC5z"
      },
      "source": [
        "Given head, the head of a linked list, determine if the linked list has a cycle in it.\n",
        "\n",
        "There is a cycle in a linked list if there is some node in the list that can be reached again by continuously following the next pointer. Internally, pos is used to denote the index of the node that tail's next pointer is connected to. Note that pos is not passed as a parameter.\n",
        "\n",
        "Return true if there is a cycle in the linked list. Otherwise, return false.\n",
        "\n",
        "![](https://i.imgur.com/aW4ikl5.png)"
      ]
    },
    {
      "cell_type": "code",
      "metadata": {
        "id": "lmZZ69tXpSWv"
      },
      "source": [
        "# Definition for singly-linked list.\n",
        "class ListNode:\n",
        "    def __init__(self, x):\n",
        "        self.val = x\n",
        "        self.next = None\n",
        "\n",
        "class Solution:\n",
        "  def hasCycle(self, head: ListNode) -> bool:\n",
        "    fast, slow = head, head\n",
        "    while fast and fast.next:\n",
        "      slow, fast = slow.next, fast.next.next\n",
        "      if slow == fast:\n",
        "        return True\n",
        "    return False"
      ],
      "execution_count": 1,
      "outputs": []
    },
    {
      "cell_type": "code",
      "metadata": {
        "id": "sjh2JpV3sTSF"
      },
      "source": [
        ""
      ],
      "execution_count": null,
      "outputs": []
    }
  ]
}