{
  "nbformat": 4,
  "nbformat_minor": 0,
  "metadata": {
    "colab": {
      "name": "1161. Maximum Level Sum of a Binary Tree.ipynb",
      "provenance": []
    },
    "kernelspec": {
      "name": "python3",
      "display_name": "Python 3"
    }
  },
  "cells": [
    {
      "cell_type": "markdown",
      "metadata": {
        "id": "MVwELuD3mHuY"
      },
      "source": [
        "Given the root of a binary tree, the level of its root is 1, the level of its children is 2, and so on.\n",
        "\n",
        "Return the smallest level X such that the sum of all the values of nodes at level X is maximal.\n",
        "\n",
        "![](https://i.imgur.com/d46qZUv.png)"
      ]
    },
    {
      "cell_type": "code",
      "metadata": {
        "colab": {
          "base_uri": "https://localhost:8080/"
        },
        "id": "8-3w0Mf4mDxv",
        "outputId": "423df9e5-4b80-453f-d4c3-999acb5020c8"
      },
      "source": [
        "a = [1, 7, 0,None, None]\n",
        "print(len(a))"
      ],
      "execution_count": 1,
      "outputs": [
        {
          "output_type": "stream",
          "text": [
            "5\n"
          ],
          "name": "stdout"
        }
      ]
    },
    {
      "cell_type": "code",
      "metadata": {
        "id": "X7RZonrEmM7a"
      },
      "source": [
        "import collections\n",
        "class TreeNode:\n",
        "    def __init__(self, val=0, left=None, right=None):\n",
        "        self.val = val\n",
        "        self.left = left\n",
        "        self.right = right\n",
        "class Solution:\n",
        "    def maxLevelSum(self, root: TreeNode) -> int:\n",
        "      level, res, maxSum = 1, 1, root.val\n",
        "      q = collections.deque()\n",
        "      q.append(root)\n",
        "      while q:\n",
        "        cnt = len(q)\n",
        "        total = 0\n",
        "        while cnt > 0:\n",
        "          n = q.popleft()\n",
        "          total += n.val\n",
        "          if n.left: q.append(n.left)\n",
        "          if n.right: q.append(n.right)\n",
        "          cnt -= 1\n",
        "        \n",
        "        if total > maxSum:\n",
        "          res, maxSum = level, total\n",
        "        level += 1\n",
        "      \n",
        "      return res"
      ],
      "execution_count": 2,
      "outputs": []
    },
    {
      "cell_type": "code",
      "metadata": {
        "id": "-ifpnuzByx0Y"
      },
      "source": [
        ""
      ],
      "execution_count": null,
      "outputs": []
    }
  ]
}