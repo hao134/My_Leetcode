{
  "nbformat": 4,
  "nbformat_minor": 0,
  "metadata": {
    "colab": {
      "name": "80. Remove Duplicates from Sorted Array II.ipynb",
      "provenance": []
    },
    "kernelspec": {
      "name": "python3",
      "display_name": "Python 3"
    }
  },
  "cells": [
    {
      "cell_type": "markdown",
      "metadata": {
        "id": "gJE8e1pJEL4O"
      },
      "source": [
        "Given a sorted array nums, remove the duplicates in-place such that duplicates appeared at most twice and return the new length.\n",
        "\n",
        "Do not allocate extra space for another array; you must do this by modifying the input array in-place with O(1) extra memory.\n",
        "\n",
        "Clarification:\n",
        "\n",
        "Confused why the returned value is an integer, but your answer is an array?\n",
        "\n",
        "Note that the input array is passed in by reference, which means a modification to the input array will be known to the caller.\n",
        "\n",
        "Internally you can think of this:\n",
        "\n",
        "```\n",
        "// nums is passed in by reference. (i.e., without making a copy) \n",
        "int len = removeDuplicates(nums); \n",
        "\n",
        "// any modification to nums in your function would be known by the caller.\n",
        "// using the length returned by your function, it prints the first len elements.\n",
        "for (int i = 0; i < len; i++) {\n",
        "    print(nums[i]);\n",
        "}\n",
        "```\n",
        "\n",
        "![](https://i.imgur.com/mFEvl3h.png)"
      ]
    },
    {
      "cell_type": "code",
      "metadata": {
        "id": "komUvB7YEEou"
      },
      "source": [
        "from typing import List\n",
        "class Solution:\n",
        "  def removeDuplicates(self, nums: List[int]) -> int:\n",
        "    if len(nums) <= 2: return len(nums)\n",
        "    last = nums[0]\n",
        "    cnt = 1\n",
        "    j = 1\n",
        "    for i in range(1, len(nums)):\n",
        "      if nums[i] != last:\n",
        "        last, nums[j] = nums[i], nums[i]\n",
        "        cnt = 1\n",
        "        j += 1\n",
        "      elif cnt < 2:\n",
        "        nums[j] = nums[i]\n",
        "        cnt += 1\n",
        "        j += 1\n",
        "      \n",
        "    return j"
      ],
      "execution_count": 13,
      "outputs": []
    },
    {
      "cell_type": "code",
      "metadata": {
        "colab": {
          "base_uri": "https://localhost:8080/"
        },
        "id": "D1z2dB6iEPIm",
        "outputId": "571373a6-d74d-4c40-be58-87231320e8ed"
      },
      "source": [
        "nums = [1,1,1,2,2,3,3,3,3]\n",
        "Solution().removeDuplicates(nums)"
      ],
      "execution_count": 14,
      "outputs": [
        {
          "output_type": "execute_result",
          "data": {
            "text/plain": [
              "6"
            ]
          },
          "metadata": {
            "tags": []
          },
          "execution_count": 14
        }
      ]
    },
    {
      "cell_type": "code",
      "metadata": {
        "colab": {
          "base_uri": "https://localhost:8080/"
        },
        "id": "ptpMuvaNKfbx",
        "outputId": "c70d2ce4-4ae1-46b0-cedd-f8223fa65d06"
      },
      "source": [
        "nums"
      ],
      "execution_count": 15,
      "outputs": [
        {
          "output_type": "execute_result",
          "data": {
            "text/plain": [
              "[1, 1, 2, 2, 3, 3, 3, 3, 3]"
            ]
          },
          "metadata": {
            "tags": []
          },
          "execution_count": 15
        }
      ]
    },
    {
      "cell_type": "code",
      "metadata": {
        "id": "sDu1dxvBKh2S"
      },
      "source": [
        "from typing import List \n",
        "class Solution2:\n",
        "  def removeDuplicates(self, nums: List[int]) -> int:\n",
        "    i = 0\n",
        "    for n in nums:\n",
        "      if i < 2 or n > nums[i -2]:\n",
        "        nums[i] = n \n",
        "        i += 1\n",
        "    return i"
      ],
      "execution_count": 16,
      "outputs": []
    },
    {
      "cell_type": "code",
      "metadata": {
        "colab": {
          "base_uri": "https://localhost:8080/"
        },
        "id": "QTIa8DAgPfYF",
        "outputId": "d67510e4-ae73-4bcf-906f-b5963b8cce79"
      },
      "source": [
        "nums = [1,1,1,2,2,3,3,3,3]\n",
        "Solution().removeDuplicates(nums)"
      ],
      "execution_count": 19,
      "outputs": [
        {
          "output_type": "execute_result",
          "data": {
            "text/plain": [
              "6"
            ]
          },
          "metadata": {
            "tags": []
          },
          "execution_count": 19
        }
      ]
    },
    {
      "cell_type": "code",
      "metadata": {
        "colab": {
          "base_uri": "https://localhost:8080/"
        },
        "id": "s3an85QxPnkR",
        "outputId": "98ab2863-f3eb-4e03-83fe-b4f7d7f33bc2"
      },
      "source": [
        "nums"
      ],
      "execution_count": 20,
      "outputs": [
        {
          "output_type": "execute_result",
          "data": {
            "text/plain": [
              "[1, 1, 2, 2, 3, 3, 3, 3, 3]"
            ]
          },
          "metadata": {
            "tags": []
          },
          "execution_count": 20
        }
      ]
    },
    {
      "cell_type": "code",
      "metadata": {
        "id": "QiN8jvYVPo4F"
      },
      "source": [
        ""
      ],
      "execution_count": null,
      "outputs": []
    }
  ]
}