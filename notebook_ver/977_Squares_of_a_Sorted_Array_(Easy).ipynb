{
  "nbformat": 4,
  "nbformat_minor": 0,
  "metadata": {
    "colab": {
      "name": "977. Squares of a Sorted Array (Easy).ipynb",
      "provenance": []
    },
    "kernelspec": {
      "name": "python3",
      "display_name": "Python 3"
    }
  },
  "cells": [
    {
      "cell_type": "markdown",
      "metadata": {
        "id": "ysq4ZKh23u81"
      },
      "source": [
        "Question:\n",
        "Given an array of integers A sorted in non-decreasing order, return an array of the squares of each number, also in sorted non-decreasing order.\n",
        "\n",
        "![](https://i.imgur.com/P9bC4MK.png)"
      ]
    },
    {
      "cell_type": "code",
      "metadata": {
        "id": "j4NIyGuX3rL6"
      },
      "source": [
        "class Solution:\n",
        "  def sortedSquares(self, A):\n",
        "    length = len(A)\n",
        "    res = [0] * length\n",
        "    for i in range(length):\n",
        "      if A[i] < 0:\n",
        "        A[i] = -A[i]\n",
        "    \n",
        "    l, i, j = 0, length -1, length -1 \n",
        "    while i >= 0:\n",
        "      if A[l] > A[j]:\n",
        "        res[i] = A[l] * A[l]\n",
        "        l += 1\n",
        "      else:\n",
        "        res[i] = A[j] * A[j]\n",
        "        j -= 1\n",
        "      i -= 1\n",
        "    return res\n"
      ],
      "execution_count": 8,
      "outputs": []
    },
    {
      "cell_type": "code",
      "metadata": {
        "id": "GOrbytogBjHu",
        "outputId": "3da7fbbc-6037-4598-d75f-d3d45c0d1bf4",
        "colab": {
          "base_uri": "https://localhost:8080/",
          "height": 34
        }
      },
      "source": [
        "A = [-4, -1, 0, 3, 10]\n",
        "Solution().sortedSquares(A)"
      ],
      "execution_count": 9,
      "outputs": [
        {
          "output_type": "execute_result",
          "data": {
            "text/plain": [
              "[0, 1, 9, 16, 100]"
            ]
          },
          "metadata": {
            "tags": []
          },
          "execution_count": 9
        }
      ]
    },
    {
      "cell_type": "code",
      "metadata": {
        "id": "I3yCiu-MB6XV",
        "outputId": "f9121448-7309-4604-e151-3aa5e9d324d2",
        "colab": {
          "base_uri": "https://localhost:8080/",
          "height": 34
        }
      },
      "source": [
        "A = [-7, -3, 2, 3, 11]\n",
        "Solution().sortedSquares(A)"
      ],
      "execution_count": 10,
      "outputs": [
        {
          "output_type": "execute_result",
          "data": {
            "text/plain": [
              "[4, 9, 9, 49, 121]"
            ]
          },
          "metadata": {
            "tags": []
          },
          "execution_count": 10
        }
      ]
    },
    {
      "cell_type": "code",
      "metadata": {
        "id": "gNlvcESi968Y"
      },
      "source": [
        ""
      ],
      "execution_count": null,
      "outputs": []
    }
  ]
}