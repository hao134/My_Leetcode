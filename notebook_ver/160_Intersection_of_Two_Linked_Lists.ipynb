{
  "nbformat": 4,
  "nbformat_minor": 0,
  "metadata": {
    "colab": {
      "name": "160. Intersection of Two Linked Lists.ipynb",
      "provenance": []
    },
    "kernelspec": {
      "name": "python3",
      "display_name": "Python 3"
    }
  },
  "cells": [
    {
      "cell_type": "markdown",
      "metadata": {
        "id": "AsUIotlVg_Q1"
      },
      "source": [
        "Write a program to find the node at which the intersection of two singly linked lists begins.\n",
        "\n",
        "For example, the following two linked lists:\n",
        "\n",
        "\n",
        "![](https://i.imgur.com/RAuLa06.png)\n",
        "![](https://i.imgur.com/mznb66K.png)\n",
        "![](https://i.imgur.com/faESiML.png)\n",
        "\n",
        "Notes:\n",
        "\n",
        "* If the two linked lists have no intersection at all, return null.\n",
        "* The linked lists must retain their original structure after the function returns.\n",
        "* You may assume there are no cycles anywhere in the entire linked structure.\n",
        "* Each value on each linked list is in the range [1, 10^9].\n",
        "* Your code should preferably run in O(n) time and use only O(1) memory."
      ]
    },
    {
      "cell_type": "code",
      "metadata": {
        "id": "xPcSZwTqhDNj"
      },
      "source": [
        "# Solution 1\n",
        "from typing import List\n",
        "# Definition for singly-linked list.\n",
        "class ListNode:\n",
        "    def __init__(self, x):\n",
        "        self.val = x\n",
        "        self.next = None\n",
        "\n",
        "class Solution:\n",
        "    def getIntersectionNode(self, headA: ListNode, headB: ListNode) -> ListNode:\n",
        "      p1, p2 = headA, headB\n",
        "      while p1 != p2:\n",
        "        if not p1: \n",
        "          p1 = headB\n",
        "        else: \n",
        "          p1 = p1.next\n",
        "        \n",
        "        if not p2:\n",
        "          p2 = headA\n",
        "        else:\n",
        "          p2 = p2.next\n",
        "      return p2"
      ],
      "execution_count": 1,
      "outputs": []
    },
    {
      "cell_type": "code",
      "metadata": {
        "id": "x8li2UBQ3w_E"
      },
      "source": [
        "# Solution2\n",
        "from typing import List\n",
        "# Definition for singly-linked list.\n",
        "class ListNode:\n",
        "    def __init__(self, x):\n",
        "        self.val = x\n",
        "        self.next = None\n",
        "\n",
        "class Solution:\n",
        "    def getIntersectionNode(self, headA: ListNode, headB: ListNode) -> ListNode:\n",
        "      p1, p2 = headA, headB\n",
        "      lenA, lenB = 0, 0\n",
        "      while p1 is not None:\n",
        "        p1 = p1.next\n",
        "        lenA += 1\n",
        "      while p2 is not None:\n",
        "        p2 = p2.next\n",
        "        lenB += 1\n",
        "\n",
        "      diff = lenA - lenB\n",
        "      p1, p2 = headA, headB\n",
        "      if diff > 0: \n",
        "        for _ in range(diff):\n",
        "          p1 = p1.next\n",
        "      else:\n",
        "        for _ in range(-diff):\n",
        "          p2 = p2.next\n",
        "      \n",
        "      while p1 and p2:\n",
        "        if p1 == p2:\n",
        "          return p1\n",
        "        p1, p2 = p1.next, p2.next\n",
        "      \n",
        "      return None"
      ],
      "execution_count": 2,
      "outputs": []
    },
    {
      "cell_type": "code",
      "metadata": {
        "id": "tzYXb7e45tod"
      },
      "source": [
        ""
      ],
      "execution_count": null,
      "outputs": []
    }
  ]
}