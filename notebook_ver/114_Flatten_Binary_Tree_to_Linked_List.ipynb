{
  "nbformat": 4,
  "nbformat_minor": 0,
  "metadata": {
    "colab": {
      "name": "114. Flatten Binary Tree to Linked List.ipynb",
      "provenance": []
    },
    "kernelspec": {
      "name": "python3",
      "display_name": "Python 3"
    }
  },
  "cells": [
    {
      "cell_type": "markdown",
      "metadata": {
        "id": "R5lcHQS0fmCN"
      },
      "source": [
        "Given a binary tree, flatten it to a linked list in-place.\n",
        "\n",
        "For example, given the following tree:\n",
        "\n",
        "![](https://i.imgur.com/z6RHvKL.png)"
      ]
    },
    {
      "cell_type": "code",
      "metadata": {
        "id": "HEPh3-TIgLF6"
      },
      "source": [
        "class TreeNode:\n",
        "    def __init__(self, val=0, left=None, right=None):\n",
        "        self.val = val\n",
        "        self.left = left\n",
        "        self.right = right\n",
        "class Solution:\n",
        "    def flatten(self, root: TreeNode) -> None:\n",
        "        \"\"\"\n",
        "        Do not return anything, modify root in-place instead.\n",
        "        \"\"\"\n",
        "        if not root: return\n",
        "        l, r = root.left, root.right\n",
        "        self.flatten(root.left)\n",
        "        self.flatten(root.right)\n",
        "        root.left, root.right = None, l\n",
        "        while root.right:\n",
        "          root = root.right\n",
        "        root.right = r"
      ],
      "execution_count": 1,
      "outputs": []
    },
    {
      "cell_type": "code",
      "metadata": {
        "id": "REID5y54v4nY"
      },
      "source": [
        ""
      ],
      "execution_count": null,
      "outputs": []
    }
  ]
}