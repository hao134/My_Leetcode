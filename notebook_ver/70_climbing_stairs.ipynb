{
 "cells": [
  {
   "cell_type": "markdown",
   "metadata": {},
   "source": [
    "![](https://i.imgur.com/ym7OS8f.jpg)"
   ]
  },
  {
   "cell_type": "code",
   "execution_count": 62,
   "metadata": {},
   "outputs": [],
   "source": [
    "class Solution:\n",
    "    def climbStairs(self, n: int) -> int:  \n",
    "        def factorial(o):\n",
    "            sum = 1 \n",
    "            for i in range(1,o+1):\n",
    "                sum *= i\n",
    "            return sum\n",
    "            \n",
    "        m = n // 2\n",
    "        count = 0\n",
    "        k = 0\n",
    "        if n % 2 == 0:\n",
    "            while n >= m:\n",
    "                count += (factorial(n))/(factorial(k)*factorial(n-k))\n",
    "                k = k +1\n",
    "                n = n -1\n",
    "            return int(count)\n",
    "        else:\n",
    "            while n > m:\n",
    "                count += (factorial(n))/(factorial(k)*factorial(n-k))\n",
    "                k = k +1\n",
    "                n = n -1\n",
    "            return int(count)\n",
    "            \n",
    "            "
   ]
  },
  {
   "cell_type": "code",
   "execution_count": 63,
   "metadata": {},
   "outputs": [
    {
     "data": {
      "text/plain": [
       "2"
      ]
     },
     "execution_count": 63,
     "metadata": {},
     "output_type": "execute_result"
    }
   ],
   "source": [
    "Solution().climbStairs(2)"
   ]
  },
  {
   "cell_type": "code",
   "execution_count": 65,
   "metadata": {},
   "outputs": [],
   "source": [
    "class Solution:\n",
    "    def climbStairs(self, n: 'int') -> 'int':\n",
    "        if n == 1:\n",
    "            return 1\n",
    "        if n == 2:\n",
    "            return 2        \n",
    "        s1, s2 = 1, 2\n",
    "        for _ in range(n - 2):\n",
    "            s1, s2 = s2, s1 + s2\n",
    "        return s2"
   ]
  },
  {
   "cell_type": "code",
   "execution_count": 67,
   "metadata": {},
   "outputs": [
    {
     "data": {
      "text/plain": [
       "21"
      ]
     },
     "execution_count": 67,
     "metadata": {},
     "output_type": "execute_result"
    }
   ],
   "source": [
    "Solution().climbStairs(7)"
   ]
  },
  {
   "cell_type": "code",
   "execution_count": null,
   "metadata": {},
   "outputs": [],
   "source": []
  }
 ],
 "metadata": {
  "kernelspec": {
   "display_name": "Python 3",
   "language": "python",
   "name": "python3"
  },
  "language_info": {
   "codemirror_mode": {
    "name": "ipython",
    "version": 3
   },
   "file_extension": ".py",
   "mimetype": "text/x-python",
   "name": "python",
   "nbconvert_exporter": "python",
   "pygments_lexer": "ipython3",
   "version": "3.7.1"
  }
 },
 "nbformat": 4,
 "nbformat_minor": 4
}
