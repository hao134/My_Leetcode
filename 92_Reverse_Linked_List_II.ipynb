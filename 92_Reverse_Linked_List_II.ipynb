{
  "nbformat": 4,
  "nbformat_minor": 0,
  "metadata": {
    "colab": {
      "name": "92. Reverse Linked List II",
      "provenance": []
    },
    "kernelspec": {
      "name": "python3",
      "display_name": "Python 3"
    }
  },
  "cells": [
    {
      "cell_type": "markdown",
      "metadata": {
        "id": "9F9s08WyWcED"
      },
      "source": [
        "Reverse a linked list from position m to n. Do it in one-pass.\n",
        "\n",
        "Note: 1 ≤ m ≤ n ≤ length of list.\n",
        "\n",
        "![](https://i.imgur.com/aArqxrx.png)"
      ]
    },
    {
      "cell_type": "code",
      "metadata": {
        "id": "_eVQn4Q9WSTb"
      },
      "source": [
        "# Definition for singly-linked list.\n",
        "class ListNode:\n",
        "    def __init__(self, val=0, next=None):\n",
        "        self.val = val\n",
        "        self.next = next\n",
        "class Solution:\n",
        "  def reverseBetween(self, head: ListNode, m: int, n: int) -> ListNode:\n",
        "    # 1. judge if m == n\n",
        "    if m == n: return head\n",
        "\n",
        "    # 2. defne a iterate node and walk to place m-1 to find the left node\n",
        "    st = []\n",
        "    left, node = None, head\n",
        "    if m != 1:\n",
        "      for i in range(1, m - 1):\n",
        "        node = node.next\n",
        "      left = node\n",
        "      node = node.next # position\n",
        "    # 3. walk through evety node from m to n and put every node to stack\n",
        "    for i in range(m, n + 1):\n",
        "      st.append(node)\n",
        "      node = node.next\n",
        "\n",
        "    # 4. Take out the nodes in Stack in turn, and connect the next of all nodes in sequence,\n",
        "    # Until there are no more nodes in the Stack.\n",
        "    l1, l2 = st.pop(), None\n",
        "    if m == 1:\n",
        "      head = l1\n",
        "    else:\n",
        "      left.next = l1\n",
        "\n",
        "    while st:\n",
        "      l2 = st.pop()\n",
        "      l1.next = l2\n",
        "      l1 = l2\n",
        "    \n",
        "    # 5 Connect the reversed tail and node to end the entire reverse process.\n",
        "    l1.next = node\n",
        "\n",
        "    return head\n"
      ],
      "execution_count": 2,
      "outputs": []
    },
    {
      "cell_type": "code",
      "metadata": {
        "id": "v3jtlGP0WiCC"
      },
      "source": [
        ""
      ],
      "execution_count": null,
      "outputs": []
    }
  ]
}