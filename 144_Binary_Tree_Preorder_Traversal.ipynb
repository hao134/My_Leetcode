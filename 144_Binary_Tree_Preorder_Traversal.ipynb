{
  "nbformat": 4,
  "nbformat_minor": 0,
  "metadata": {
    "colab": {
      "name": "144. Binary Tree Preorder Traversal.ipynb",
      "provenance": []
    },
    "kernelspec": {
      "name": "python3",
      "display_name": "Python 3"
    }
  },
  "cells": [
    {
      "cell_type": "markdown",
      "metadata": {
        "id": "4eLFUlClOU79"
      },
      "source": [
        "Given the root of a binary tree, return the preorder traversal of its nodes' values.\n",
        "\n",
        "![](https://i.imgur.com/lX57QjP.png)\n",
        "![](https://i.imgur.com/e6b9ofT.png)\n"
      ]
    },
    {
      "cell_type": "code",
      "metadata": {
        "id": "WcNcxMg5OTco"
      },
      "source": [
        "# class TreeNode:\n",
        "#     def __init__(self, val=0, left=None, right=None):\n",
        "#         self.val = val\n",
        "#         self.left = left\n",
        "#         self.right = right\n",
        "### Solution1 recursive\n",
        "# class Solution:\n",
        "#     def preorderTraversal(self, root: TreeNode) -> List[int]:\n",
        "#         res = []\n",
        "#         self.DFS(root, res)\n",
        "#         return res\n",
        "    \n",
        "#     def DFS(self, root, res):\n",
        "#         if not root: return \n",
        "#         res.append(root.val)\n",
        "#         self.DFS(root.left, res)\n",
        "#         self.DFS(root.right, res)\n",
        "\n",
        "### Solution 2 iterative\n",
        "class Solution:\n",
        "    def preorderTraversal(self, root: TreeNode) -> List[int]:\n",
        "        res = []\n",
        "        stack = []\n",
        "        if root:\n",
        "            stack.append(root)\n",
        "            while stack:\n",
        "                n = stack.pop()\n",
        "                if n.right: stack.append(n.right)\n",
        "                if n.left: stack.append(n.left)\n",
        "                res.append(n.val)\n",
        "        \n",
        "        return res"
      ],
      "execution_count": null,
      "outputs": []
    }
  ]
}