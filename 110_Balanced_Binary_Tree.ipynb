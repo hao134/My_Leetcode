{
  "nbformat": 4,
  "nbformat_minor": 0,
  "metadata": {
    "colab": {
      "name": "110_Balanced Binary Tree.ipynb",
      "provenance": []
    },
    "kernelspec": {
      "name": "python3",
      "display_name": "Python 3"
    }
  },
  "cells": [
    {
      "cell_type": "markdown",
      "metadata": {
        "id": "H8UZjq6kn-V0"
      },
      "source": [
        "Question:\n",
        "Given a binary tree, determine if it is height-balanced.\n",
        "For this problem, a height-balanced binary tree is defined as:\n",
        "a binary tree in which the depth of the two subtrees of every node never differ by more than 1.\n",
        "\n",
        "![](https://i.imgur.com/2EQID4O.png)"
      ]
    },
    {
      "cell_type": "code",
      "metadata": {
        "id": "S3c1Er9YoQvS"
      },
      "source": [
        "#Definition for a binary tree node.\n",
        "class TreeNode:\n",
        "    def __init__(self, val=0, left=None, right=None):\n",
        "        self.val = val\n",
        "        self.left = left\n",
        "        self.right = right\n",
        "class Solution:\n",
        "  def isBalanced(self, root: TreeNode) -> bool:\n",
        "    def check(root):\n",
        "      if root is None:\n",
        "        return 0\n",
        "      left, right = check(root.left), check(root.right)\n",
        "      if root.left == -1 or root.right == -1 or abs(root.left - root.right) > 1:\n",
        "        return -1\n",
        "      return max(right, left) + 1\n",
        "    return check(root) != -1"
      ],
      "execution_count": 3,
      "outputs": []
    },
    {
      "cell_type": "code",
      "metadata": {
        "id": "B3WMhnbQwJ-H"
      },
      "source": [
        ""
      ],
      "execution_count": null,
      "outputs": []
    }
  ]
}