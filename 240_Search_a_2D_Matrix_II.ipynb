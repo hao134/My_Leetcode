{
  "nbformat": 4,
  "nbformat_minor": 0,
  "metadata": {
    "colab": {
      "name": "240. Search a 2D Matrix II.ipynb",
      "provenance": []
    },
    "kernelspec": {
      "name": "python3",
      "display_name": "Python 3"
    }
  },
  "cells": [
    {
      "cell_type": "markdown",
      "metadata": {
        "id": "DWCaSv1fc834"
      },
      "source": [
        "Write an efficient algorithm that searches for a target value in an m x n integer matrix. The matrix has the following properties:\n",
        "\n",
        "* Integers in each row are sorted in ascending from left to right.\n",
        "* Integers in each column are sorted in ascending from top to bottom.\n",
        "\n",
        "![](https://i.imgur.com/opPocS7.png)\n",
        "![](https://i.imgur.com/fVFuQpG.png)\n",
        "\n",
        "Constraints:\n",
        "\n",
        "* m == matrix.length\n",
        "* n == matrix[i].length\n",
        "* 1 <= n, m <= 300\n",
        "* -109 <= matix[i][j] <= 109\n",
        "* All the integers in each row are sorted in ascending order.\n",
        "* All the integers in each column are sorted in ascending order.\n",
        "* -109 <= target <= 109"
      ]
    },
    {
      "cell_type": "code",
      "metadata": {
        "id": "jPVXoz6ec9U_"
      },
      "source": [
        "from typing import List\n",
        "class Solution:\n",
        "  def searchMatrix(self, matrix: List[List[int]], target: int) -> bool:\n",
        "    if not matrix or len(matrix) == 0 or len(matrix[0]) == 0: return False\n",
        "    m, n = len(matrix), len(matrix[0])\n",
        "    i, j = 0, n-1\n",
        "    while i < m and j >= 0:\n",
        "      if target == matrix[i][j]: return True\n",
        "      elif target > matrix[i][j]: i += 1\n",
        "      else: j -= 1\n",
        "    return False"
      ],
      "execution_count": 1,
      "outputs": []
    },
    {
      "cell_type": "code",
      "metadata": {
        "id": "NdfJNmq4liHw"
      },
      "source": [
        "matrix = [[1,4,7,11,15],[2,5,8,12,19],[3,6,9,16,22],[10,13,14,17,24],[18,21,23,26,30]]\n",
        "target = 19"
      ],
      "execution_count": 6,
      "outputs": []
    },
    {
      "cell_type": "code",
      "metadata": {
        "colab": {
          "base_uri": "https://localhost:8080/"
        },
        "id": "X5fTvGYXlmYp",
        "outputId": "aa4770d4-d3dd-423f-90ad-93d10f022101"
      },
      "source": [
        "Solution().searchMatrix(matrix, target)"
      ],
      "execution_count": 7,
      "outputs": [
        {
          "output_type": "execute_result",
          "data": {
            "text/plain": [
              "True"
            ]
          },
          "metadata": {
            "tags": []
          },
          "execution_count": 7
        }
      ]
    },
    {
      "cell_type": "code",
      "metadata": {
        "id": "xoR51bD_ln79"
      },
      "source": [
        "matrix = [[1,4,7,11,15],[2,5,8,12,19],[3,6,9,16,22],[10,13,14,17,24],[18,21,23,26,30]]\n",
        "target = 20"
      ],
      "execution_count": 8,
      "outputs": []
    },
    {
      "cell_type": "code",
      "metadata": {
        "colab": {
          "base_uri": "https://localhost:8080/"
        },
        "id": "a1Esi9j6l4ZC",
        "outputId": "4ab9c6af-dfba-4ad9-ba4c-3302f9e10fc0"
      },
      "source": [
        "Solution().searchMatrix(matrix, target)"
      ],
      "execution_count": 9,
      "outputs": [
        {
          "output_type": "execute_result",
          "data": {
            "text/plain": [
              "False"
            ]
          },
          "metadata": {
            "tags": []
          },
          "execution_count": 9
        }
      ]
    },
    {
      "cell_type": "code",
      "metadata": {
        "id": "HNedlbfjl5dN"
      },
      "source": [
        ""
      ],
      "execution_count": null,
      "outputs": []
    }
  ]
}